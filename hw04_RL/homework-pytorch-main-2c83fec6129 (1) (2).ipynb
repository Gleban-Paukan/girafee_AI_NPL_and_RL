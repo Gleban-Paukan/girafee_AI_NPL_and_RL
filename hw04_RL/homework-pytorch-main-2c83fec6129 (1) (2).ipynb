{
 "metadata": {
  "kernelspec": {
   "name": "python3",
   "display_name": "Python 3",
   "language": "python"
  },
  "language_info": {
   "codemirror_mode": {
    "name": "ipython",
    "version": 3
   },
   "file_extension": ".py",
   "mimetype": "text/x-python",
   "name": "python",
   "nbconvert_exporter": "python",
   "pygments_lexer": "ipython3",
   "version": "3.11.11"
  },
  "colab": {
   "provenance": []
  },
  "papermill": {
   "default_parameters": {},
   "duration": 10.471668,
   "end_time": "2025-05-04T14:09:15.433740",
   "environment_variables": {},
   "exception": true,
   "input_path": "__notebook__.ipynb",
   "output_path": "__notebook__.ipynb",
   "parameters": {},
   "start_time": "2025-05-04T14:09:04.962072",
   "version": "2.6.0"
  },
  "kaggle": {
   "accelerator": "gpu",
   "dataSources": [],
   "dockerImageVersionId": 31012,
   "isInternetEnabled": true,
   "language": "python",
   "sourceType": "notebook",
   "isGpuEnabled": true
  }
 },
 "nbformat_minor": 5,
 "nbformat": 4,
 "cells": [
  {
   "id": "39987f9a",
   "cell_type": "markdown",
   "source": "# Deep Q-Network implementation.\n\nThis homework shamelessly demands you to implement DQN — an approximate Q-learning algorithm with experience replay and target networks — and see if it works any better this way.\n\n**Papers:**\n\n[1] Original paper, 2013: https://arxiv.org/pdf/1312.5602.pdf\n\n[2] Extended paper, Nature, 2015: https://web.stanford.edu/class/psych209/Readings/MnihEtAlHassibis15NatureControlDeepRL.pdf\n\n[3] Rainbow, 2017: https://arxiv.org/pdf/1710.02298.pdf",
   "metadata": {
    "id": "1NDjJiqysoT-",
    "papermill": {
     "duration": 0.015796,
     "end_time": "2025-05-04T14:09:10.028606",
     "exception": false,
     "start_time": "2025-05-04T14:09:10.012810",
     "status": "completed"
    },
    "tags": []
   }
  },
  {
   "id": "444b43b3",
   "cell_type": "markdown",
   "source": "**This notebook is the main homework notebook.**\nAnother notebook is given for debug: (**homework_pytorch_debug**). The debug notebook is not supported anymore, the codes have diverged. However, it can be useful in some cases. The tasks are similar and they used to share most of the code. The main difference is in environments. In main notebook it can take some 2 hours for the agent to start improving so it seems reasonable to launch the algorithm on a simpler env first. In debug one it is CartPole and it will train in several minutes.\n\n**About evaluation:** All points are only given for the main notebook.\n\n**Plan and evaluation points:**\n1. Getting to know the environment: most of the code is implemented for you\n2. DQN as it is (10 points): the main part of DQN implementation\n3. Main Loop (3 points): the training loop itself. Please, note, it can be really time-consuming, and implementation bugs can arise.\n4. Interpretation (2 points): calculation of episode statistics and their interpretation",
   "metadata": {
    "id": "BcLhaXMKsoT_",
    "papermill": {
     "duration": 0.011949,
     "end_time": "2025-05-04T14:09:10.053180",
     "exception": false,
     "start_time": "2025-05-04T14:09:10.041231",
     "status": "completed"
    },
    "tags": []
   }
  },
  {
   "id": "834da337",
   "cell_type": "code",
   "source": "import os\nimport sys\n\nos.makedirs(\"dqn\", exist_ok=True)\nos.makedirs(\"test_td_loss\", exist_ok=True)\n\n!wget -q https://raw.githubusercontent.com/yandexdataschool/Practical_RL/master/setup_colab.sh -O- | bash\n\n!wget -q https://raw.githubusercontent.com/yandexdataschool/Practical_RL/master/week04_approx_rl/dqn/atari_wrappers.py -P dqn/\n!wget -q https://raw.githubusercontent.com/yandexdataschool/Practical_RL/master/week04_approx_rl/dqn/utils.py -P dqn/\n!wget -q https://raw.githubusercontent.com/yandexdataschool/Practical_RL/master/week04_approx_rl/dqn/replay_buffer.py -P dqn/\n!wget -q https://raw.githubusercontent.com/yandexdataschool/Practical_RL/master/week04_approx_rl/dqn/framebuffer.py -P dqn/\n!wget -q https://raw.githubusercontent.com/yandexdataschool/Practical_RL/master/week04_approx_rl/dqn/analysis.py -P dqn/\n!wget -q https://raw.githubusercontent.com/yandexdataschool/Practical_RL/master/week04_approx_rl/dqn/logger.py -P dqn/\n!wget -q https://raw.githubusercontent.com/yandexdataschool/Practical_RL/master/week04_approx_rl/test_td_loss/compute_td_loss.py -P test_td_loss/\n!wget -q https://raw.githubusercontent.com/yandexdataschool/Practical_RL/master/week04_approx_rl/requirements.txt\n\n!pip install -r requirements.txt\n\n# !touch .setup_complete\n\n# This code creates a virtual display to draw game images on.\n# It will have no effect if your machine has a monitor.\nif type(os.environ.get(\"DISPLAY\")) is not str or len(os.environ.get(\"DISPLAY\")) == 0:\n    !bash ../xvfb start\n    os.environ[\"DISPLAY\"] = \":1\"",
   "metadata": {
    "execution": {
     "iopub.status.busy": "2025-05-11T20:21:45.745181Z",
     "iopub.execute_input": "2025-05-11T20:21:45.745701Z",
     "iopub.status.idle": "2025-05-11T20:23:49.500582Z",
     "shell.execute_reply.started": "2025-05-11T20:21:45.745677Z",
     "shell.execute_reply": "2025-05-11T20:23:49.499625Z"
    },
    "id": "IVo0UxTWsoT_",
    "papermill": {
     "duration": 0.165047,
     "end_time": "2025-05-04T14:09:10.230287",
     "exception": false,
     "start_time": "2025-05-04T14:09:10.065240",
     "status": "completed"
    },
    "tags": [],
    "ExecuteTime": {
     "end_time": "2025-05-11T17:15:35.570265Z",
     "start_time": "2025-05-11T17:15:33.734559Z"
    },
    "trusted": true
   },
   "outputs": [
    {
     "name": "stdout",
     "text": "W: Skipping acquire of configured file 'main/source/Sources' as repository 'https://r2u.stat.illinois.edu/ubuntu jammy InRelease' does not seem to provide it (sources.list entry misspelt?)\nRequirement already satisfied: ale_py in /usr/local/lib/python3.11/dist-packages (from -r requirements.txt (line 2)) (0.10.1)\nRequirement already satisfied: ipython in /usr/local/lib/python3.11/dist-packages (from -r requirements.txt (line 3)) (7.34.0)\nRequirement already satisfied: ipywidgets in /usr/local/lib/python3.11/dist-packages (from -r requirements.txt (line 4)) (8.1.5)\nRequirement already satisfied: notebook in /usr/local/lib/python3.11/dist-packages (from -r requirements.txt (line 5)) (6.5.4)\nRequirement already satisfied: matplotlib in /usr/local/lib/python3.11/dist-packages (from -r requirements.txt (line 6)) (3.7.5)\nRequirement already satisfied: moviepy in /usr/local/lib/python3.11/dist-packages (from -r requirements.txt (line 7)) (1.0.3)\nRequirement already satisfied: numpy in /usr/local/lib/python3.11/dist-packages (from -r requirements.txt (line 8)) (1.26.4)\nRequirement already satisfied: opencv-python in /usr/local/lib/python3.11/dist-packages (from -r requirements.txt (line 9)) (4.11.0.86)\nRequirement already satisfied: scipy in /usr/local/lib/python3.11/dist-packages (from -r requirements.txt (line 10)) (1.15.2)\nRequirement already satisfied: tensorboard in /usr/local/lib/python3.11/dist-packages (from -r requirements.txt (line 11)) (2.18.0)\nRequirement already satisfied: torch in /usr/local/lib/python3.11/dist-packages (from -r requirements.txt (line 12)) (2.5.1+cu124)\nRequirement already satisfied: torchvision in /usr/local/lib/python3.11/dist-packages (from -r requirements.txt (line 13)) (0.20.1+cu124)\nRequirement already satisfied: gymnasium[accept-rom-license,atari,classic-control] in /usr/local/lib/python3.11/dist-packages (from -r requirements.txt (line 1)) (0.29.0)\nRequirement already satisfied: cloudpickle>=1.2.0 in /usr/local/lib/python3.11/dist-packages (from gymnasium[accept-rom-license,atari,classic-control]->-r requirements.txt (line 1)) (3.1.1)\nRequirement already satisfied: typing-extensions>=4.3.0 in /usr/local/lib/python3.11/dist-packages (from gymnasium[accept-rom-license,atari,classic-control]->-r requirements.txt (line 1)) (4.13.1)\nRequirement already satisfied: farama-notifications>=0.0.1 in /usr/local/lib/python3.11/dist-packages (from gymnasium[accept-rom-license,atari,classic-control]->-r requirements.txt (line 1)) (0.0.4)\nCollecting autorom~=0.4.2 (from autorom[accept-rom-license]~=0.4.2; extra == \"accept-rom-license\"->gymnasium[accept-rom-license,atari,classic-control]->-r requirements.txt (line 1))\n  Downloading AutoROM-0.4.2-py3-none-any.whl.metadata (2.8 kB)\nCollecting shimmy<1.0,>=0.1.0 (from shimmy[atari]<1.0,>=0.1.0; extra == \"atari\"->gymnasium[accept-rom-license,atari,classic-control]->-r requirements.txt (line 1))\n  Downloading Shimmy-0.2.1-py3-none-any.whl.metadata (2.3 kB)\nRequirement already satisfied: pygame>=2.1.3 in /usr/local/lib/python3.11/dist-packages (from gymnasium[accept-rom-license,atari,classic-control]->-r requirements.txt (line 1)) (2.6.1)\nRequirement already satisfied: setuptools>=18.5 in /usr/local/lib/python3.11/dist-packages (from ipython->-r requirements.txt (line 3)) (75.1.0)\nRequirement already satisfied: jedi>=0.16 in /usr/local/lib/python3.11/dist-packages (from ipython->-r requirements.txt (line 3)) (0.19.2)\nRequirement already satisfied: decorator in /usr/local/lib/python3.11/dist-packages (from ipython->-r requirements.txt (line 3)) (4.4.2)\nRequirement already satisfied: pickleshare in /usr/local/lib/python3.11/dist-packages (from ipython->-r requirements.txt (line 3)) (0.7.5)\nRequirement already satisfied: traitlets>=4.2 in /usr/local/lib/python3.11/dist-packages (from ipython->-r requirements.txt (line 3)) (5.7.1)\nRequirement already satisfied: prompt-toolkit!=3.0.0,!=3.0.1,<3.1.0,>=2.0.0 in /usr/local/lib/python3.11/dist-packages (from ipython->-r requirements.txt (line 3)) (3.0.50)\nRequirement already satisfied: pygments in /usr/local/lib/python3.11/dist-packages (from ipython->-r requirements.txt (line 3)) (2.19.1)\nRequirement already satisfied: backcall in /usr/local/lib/python3.11/dist-packages (from ipython->-r requirements.txt (line 3)) (0.2.0)\nRequirement already satisfied: matplotlib-inline in /usr/local/lib/python3.11/dist-packages (from ipython->-r requirements.txt (line 3)) (0.1.7)\nRequirement already satisfied: pexpect>4.3 in /usr/local/lib/python3.11/dist-packages (from ipython->-r requirements.txt (line 3)) (4.9.0)\nRequirement already satisfied: comm>=0.1.3 in /usr/local/lib/python3.11/dist-packages (from ipywidgets->-r requirements.txt (line 4)) (0.2.2)\nRequirement already satisfied: widgetsnbextension~=4.0.12 in /usr/local/lib/python3.11/dist-packages (from ipywidgets->-r requirements.txt (line 4)) (4.0.13)\nRequirement already satisfied: jupyterlab-widgets~=3.0.12 in /usr/local/lib/python3.11/dist-packages (from ipywidgets->-r requirements.txt (line 4)) (3.0.13)\nRequirement already satisfied: jinja2 in /usr/local/lib/python3.11/dist-packages (from notebook->-r requirements.txt (line 5)) (3.1.6)\nRequirement already satisfied: tornado>=6.1 in /usr/local/lib/python3.11/dist-packages (from notebook->-r requirements.txt (line 5)) (6.4.2)\nRequirement already satisfied: pyzmq>=17 in /usr/local/lib/python3.11/dist-packages (from notebook->-r requirements.txt (line 5)) (24.0.1)\nRequirement already satisfied: argon2-cffi in /usr/local/lib/python3.11/dist-packages (from notebook->-r requirements.txt (line 5)) (23.1.0)\nRequirement already satisfied: jupyter-core>=4.6.1 in /usr/local/lib/python3.11/dist-packages (from notebook->-r requirements.txt (line 5)) (5.7.2)\nRequirement already satisfied: jupyter-client>=5.3.4 in /usr/local/lib/python3.11/dist-packages (from notebook->-r requirements.txt (line 5)) (8.6.3)\nRequirement already satisfied: ipython-genutils in /usr/local/lib/python3.11/dist-packages (from notebook->-r requirements.txt (line 5)) (0.2.0)\nRequirement already satisfied: nbformat in /usr/local/lib/python3.11/dist-packages (from notebook->-r requirements.txt (line 5)) (5.10.4)\nRequirement already satisfied: nbconvert>=5 in /usr/local/lib/python3.11/dist-packages (from notebook->-r requirements.txt (line 5)) (6.4.5)\nRequirement already satisfied: nest-asyncio>=1.5 in /usr/local/lib/python3.11/dist-packages (from notebook->-r requirements.txt (line 5)) (1.6.0)\nRequirement already satisfied: ipykernel in /usr/local/lib/python3.11/dist-packages (from notebook->-r requirements.txt (line 5)) (6.17.1)\nRequirement already satisfied: Send2Trash>=1.8.0 in /usr/local/lib/python3.11/dist-packages (from notebook->-r requirements.txt (line 5)) (1.8.3)\nRequirement already satisfied: terminado>=0.8.3 in /usr/local/lib/python3.11/dist-packages (from notebook->-r requirements.txt (line 5)) (0.18.1)\nRequirement already satisfied: prometheus-client in /usr/local/lib/python3.11/dist-packages (from notebook->-r requirements.txt (line 5)) (0.21.1)\nRequirement already satisfied: nbclassic>=0.4.7 in /usr/local/lib/python3.11/dist-packages (from notebook->-r requirements.txt (line 5)) (1.2.0)\nRequirement already satisfied: contourpy>=1.0.1 in /usr/local/lib/python3.11/dist-packages (from matplotlib->-r requirements.txt (line 6)) (1.3.1)\nRequirement already satisfied: cycler>=0.10 in /usr/local/lib/python3.11/dist-packages (from matplotlib->-r requirements.txt (line 6)) (0.12.1)\nRequirement already satisfied: fonttools>=4.22.0 in /usr/local/lib/python3.11/dist-packages (from matplotlib->-r requirements.txt (line 6)) (4.56.0)\nRequirement already satisfied: kiwisolver>=1.0.1 in /usr/local/lib/python3.11/dist-packages (from matplotlib->-r requirements.txt (line 6)) (1.4.8)\nRequirement already satisfied: packaging>=20.0 in /usr/local/lib/python3.11/dist-packages (from matplotlib->-r requirements.txt (line 6)) (24.2)\nRequirement already satisfied: pillow>=6.2.0 in /usr/local/lib/python3.11/dist-packages (from matplotlib->-r requirements.txt (line 6)) (11.1.0)\nRequirement already satisfied: pyparsing>=2.3.1 in /usr/local/lib/python3.11/dist-packages (from matplotlib->-r requirements.txt (line 6)) (3.2.1)\nRequirement already satisfied: python-dateutil>=2.7 in /usr/local/lib/python3.11/dist-packages (from matplotlib->-r requirements.txt (line 6)) (2.9.0.post0)\nRequirement already satisfied: imageio<3.0,>=2.5 in /usr/local/lib/python3.11/dist-packages (from moviepy->-r requirements.txt (line 7)) (2.37.0)\nRequirement already satisfied: imageio_ffmpeg>=0.2.0 in /usr/local/lib/python3.11/dist-packages (from moviepy->-r requirements.txt (line 7)) (0.6.0)\nRequirement already satisfied: tqdm<5.0,>=4.11.2 in /usr/local/lib/python3.11/dist-packages (from moviepy->-r requirements.txt (line 7)) (4.67.1)\nRequirement already satisfied: requests<3.0,>=2.8.1 in /usr/local/lib/python3.11/dist-packages (from moviepy->-r requirements.txt (line 7)) (2.32.3)\nRequirement already satisfied: proglog<=1.0.0 in /usr/local/lib/python3.11/dist-packages (from moviepy->-r requirements.txt (line 7)) (0.1.10)\nRequirement already satisfied: mkl_fft in /usr/local/lib/python3.11/dist-packages (from numpy->-r requirements.txt (line 8)) (1.3.8)\nRequirement already satisfied: mkl_random in /usr/local/lib/python3.11/dist-packages (from numpy->-r requirements.txt (line 8)) (1.2.4)\nRequirement already satisfied: mkl_umath in /usr/local/lib/python3.11/dist-packages (from numpy->-r requirements.txt (line 8)) (0.1.1)\nRequirement already satisfied: mkl in /usr/local/lib/python3.11/dist-packages (from numpy->-r requirements.txt (line 8)) (2025.1.0)\nRequirement already satisfied: tbb4py in /usr/local/lib/python3.11/dist-packages (from numpy->-r requirements.txt (line 8)) (2022.1.0)\nRequirement already satisfied: mkl-service in /usr/local/lib/python3.11/dist-packages (from numpy->-r requirements.txt (line 8)) (2.4.1)\nRequirement already satisfied: absl-py>=0.4 in /usr/local/lib/python3.11/dist-packages (from tensorboard->-r requirements.txt (line 11)) (1.4.0)\nRequirement already satisfied: grpcio>=1.48.2 in /usr/local/lib/python3.11/dist-packages (from tensorboard->-r requirements.txt (line 11)) (1.70.0)\nRequirement already satisfied: markdown>=2.6.8 in /usr/local/lib/python3.11/dist-packages (from tensorboard->-r requirements.txt (line 11)) (3.7)\nRequirement already satisfied: protobuf!=4.24.0,>=3.19.6 in /usr/local/lib/python3.11/dist-packages (from tensorboard->-r requirements.txt (line 11)) (3.20.3)\nRequirement already satisfied: six>1.9 in /usr/local/lib/python3.11/dist-packages (from tensorboard->-r requirements.txt (line 11)) (1.17.0)\nRequirement already satisfied: tensorboard-data-server<0.8.0,>=0.7.0 in /usr/local/lib/python3.11/dist-packages (from tensorboard->-r requirements.txt (line 11)) (0.7.2)\nRequirement already satisfied: werkzeug>=1.0.1 in /usr/local/lib/python3.11/dist-packages (from tensorboard->-r requirements.txt (line 11)) (3.1.3)\nRequirement already satisfied: filelock in /usr/local/lib/python3.11/dist-packages (from torch->-r requirements.txt (line 12)) (3.18.0)\nRequirement already satisfied: networkx in /usr/local/lib/python3.11/dist-packages (from torch->-r requirements.txt (line 12)) (3.4.2)\nRequirement already satisfied: fsspec in /usr/local/lib/python3.11/dist-packages (from torch->-r requirements.txt (line 12)) (2025.3.2)\nRequirement already satisfied: nvidia-cuda-nvrtc-cu12==12.4.127 in /usr/local/lib/python3.11/dist-packages (from torch->-r requirements.txt (line 12)) (12.4.127)\nRequirement already satisfied: nvidia-cuda-runtime-cu12==12.4.127 in /usr/local/lib/python3.11/dist-packages (from torch->-r requirements.txt (line 12)) (12.4.127)\nRequirement already satisfied: nvidia-cuda-cupti-cu12==12.4.127 in /usr/local/lib/python3.11/dist-packages (from torch->-r requirements.txt (line 12)) (12.4.127)\nCollecting nvidia-cudnn-cu12==9.1.0.70 (from torch->-r requirements.txt (line 12))\n  Downloading nvidia_cudnn_cu12-9.1.0.70-py3-none-manylinux2014_x86_64.whl.metadata (1.6 kB)\nCollecting nvidia-cublas-cu12==12.4.5.8 (from torch->-r requirements.txt (line 12))\n  Downloading nvidia_cublas_cu12-12.4.5.8-py3-none-manylinux2014_x86_64.whl.metadata (1.5 kB)\nCollecting nvidia-cufft-cu12==11.2.1.3 (from torch->-r requirements.txt (line 12))\n  Downloading nvidia_cufft_cu12-11.2.1.3-py3-none-manylinux2014_x86_64.whl.metadata (1.5 kB)\nCollecting nvidia-curand-cu12==10.3.5.147 (from torch->-r requirements.txt (line 12))\n  Downloading nvidia_curand_cu12-10.3.5.147-py3-none-manylinux2014_x86_64.whl.metadata (1.5 kB)\nCollecting nvidia-cusolver-cu12==11.6.1.9 (from torch->-r requirements.txt (line 12))\n  Downloading nvidia_cusolver_cu12-11.6.1.9-py3-none-manylinux2014_x86_64.whl.metadata (1.6 kB)\nCollecting nvidia-cusparse-cu12==12.3.1.170 (from torch->-r requirements.txt (line 12))\n  Downloading nvidia_cusparse_cu12-12.3.1.170-py3-none-manylinux2014_x86_64.whl.metadata (1.6 kB)\nRequirement already satisfied: nvidia-nccl-cu12==2.21.5 in /usr/local/lib/python3.11/dist-packages (from torch->-r requirements.txt (line 12)) (2.21.5)\nRequirement already satisfied: nvidia-nvtx-cu12==12.4.127 in /usr/local/lib/python3.11/dist-packages (from torch->-r requirements.txt (line 12)) (12.4.127)\nCollecting nvidia-nvjitlink-cu12==12.4.127 (from torch->-r requirements.txt (line 12))\n  Downloading nvidia_nvjitlink_cu12-12.4.127-py3-none-manylinux2014_x86_64.whl.metadata (1.5 kB)\nRequirement already satisfied: triton==3.1.0 in /usr/local/lib/python3.11/dist-packages (from torch->-r requirements.txt (line 12)) (3.1.0)\nRequirement already satisfied: sympy==1.13.1 in /usr/local/lib/python3.11/dist-packages (from torch->-r requirements.txt (line 12)) (1.13.1)\nRequirement already satisfied: mpmath<1.4,>=1.1.0 in /usr/local/lib/python3.11/dist-packages (from sympy==1.13.1->torch->-r requirements.txt (line 12)) (1.3.0)\nRequirement already satisfied: click in /usr/local/lib/python3.11/dist-packages (from autorom~=0.4.2->autorom[accept-rom-license]~=0.4.2; extra == \"accept-rom-license\"->gymnasium[accept-rom-license,atari,classic-control]->-r requirements.txt (line 1)) (8.1.8)\nCollecting AutoROM.accept-rom-license (from autorom[accept-rom-license]~=0.4.2; extra == \"accept-rom-license\"->gymnasium[accept-rom-license,atari,classic-control]->-r requirements.txt (line 1))\n  Downloading AutoROM.accept-rom-license-0.6.1.tar.gz (434 kB)\n\u001B[2K     \u001B[90m━━━━━━━━━━━━━━━━━━━━━━━━━━━━━━━━━━━━━━━━\u001B[0m \u001B[32m434.7/434.7 kB\u001B[0m \u001B[31m11.1 MB/s\u001B[0m eta \u001B[36m0:00:00\u001B[0m00:01\u001B[0m\n\u001B[?25h  Installing build dependencies ... \u001B[?25l\u001B[?25hdone\n  Getting requirements to build wheel ... \u001B[?25l\u001B[?25hdone\n  Preparing metadata (pyproject.toml) ... \u001B[?25l\u001B[?25hdone\nRequirement already satisfied: parso<0.9.0,>=0.8.4 in /usr/local/lib/python3.11/dist-packages (from jedi>=0.16->ipython->-r requirements.txt (line 3)) (0.8.4)\nRequirement already satisfied: platformdirs>=2.5 in /usr/local/lib/python3.11/dist-packages (from jupyter-core>=4.6.1->notebook->-r requirements.txt (line 5)) (4.3.7)\nRequirement already satisfied: notebook-shim>=0.2.3 in /usr/local/lib/python3.11/dist-packages (from nbclassic>=0.4.7->notebook->-r requirements.txt (line 5)) (0.2.4)\nRequirement already satisfied: mistune<2,>=0.8.1 in /usr/local/lib/python3.11/dist-packages (from nbconvert>=5->notebook->-r requirements.txt (line 5)) (0.8.4)\nRequirement already satisfied: jupyterlab-pygments in /usr/local/lib/python3.11/dist-packages (from nbconvert>=5->notebook->-r requirements.txt (line 5)) (0.3.0)\nRequirement already satisfied: entrypoints>=0.2.2 in /usr/local/lib/python3.11/dist-packages (from nbconvert>=5->notebook->-r requirements.txt (line 5)) (0.4)\nRequirement already satisfied: bleach in /usr/local/lib/python3.11/dist-packages (from nbconvert>=5->notebook->-r requirements.txt (line 5)) (6.2.0)\nRequirement already satisfied: pandocfilters>=1.4.1 in /usr/local/lib/python3.11/dist-packages (from nbconvert>=5->notebook->-r requirements.txt (line 5)) (1.5.1)\nRequirement already satisfied: testpath in /usr/local/lib/python3.11/dist-packages (from nbconvert>=5->notebook->-r requirements.txt (line 5)) (0.6.0)\nRequirement already satisfied: defusedxml in /usr/local/lib/python3.11/dist-packages (from nbconvert>=5->notebook->-r requirements.txt (line 5)) (0.7.1)\nRequirement already satisfied: beautifulsoup4 in /usr/local/lib/python3.11/dist-packages (from nbconvert>=5->notebook->-r requirements.txt (line 5)) (4.13.3)\nRequirement already satisfied: nbclient<0.6.0,>=0.5.0 in /usr/local/lib/python3.11/dist-packages (from nbconvert>=5->notebook->-r requirements.txt (line 5)) (0.5.13)\nRequirement already satisfied: MarkupSafe>=2.0 in /usr/local/lib/python3.11/dist-packages (from nbconvert>=5->notebook->-r requirements.txt (line 5)) (3.0.2)\nRequirement already satisfied: fastjsonschema>=2.15 in /usr/local/lib/python3.11/dist-packages (from nbformat->notebook->-r requirements.txt (line 5)) (2.21.1)\nRequirement already satisfied: jsonschema>=2.6 in /usr/local/lib/python3.11/dist-packages (from nbformat->notebook->-r requirements.txt (line 5)) (4.23.0)\nRequirement already satisfied: ptyprocess>=0.5 in /usr/local/lib/python3.11/dist-packages (from pexpect>4.3->ipython->-r requirements.txt (line 3)) (0.7.0)\nRequirement already satisfied: wcwidth in /usr/local/lib/python3.11/dist-packages (from prompt-toolkit!=3.0.0,!=3.0.1,<3.1.0,>=2.0.0->ipython->-r requirements.txt (line 3)) (0.2.13)\nRequirement already satisfied: charset-normalizer<4,>=2 in /usr/local/lib/python3.11/dist-packages (from requests<3.0,>=2.8.1->moviepy->-r requirements.txt (line 7)) (3.4.1)\nRequirement already satisfied: idna<4,>=2.5 in /usr/local/lib/python3.11/dist-packages (from requests<3.0,>=2.8.1->moviepy->-r requirements.txt (line 7)) (3.10)\nRequirement already satisfied: urllib3<3,>=1.21.1 in /usr/local/lib/python3.11/dist-packages (from requests<3.0,>=2.8.1->moviepy->-r requirements.txt (line 7)) (2.3.0)\nRequirement already satisfied: certifi>=2017.4.17 in /usr/local/lib/python3.11/dist-packages (from requests<3.0,>=2.8.1->moviepy->-r requirements.txt (line 7)) (2025.1.31)\nCollecting ale_py (from -r requirements.txt (line 2))\n  Downloading ale_py-0.8.1-cp311-cp311-manylinux_2_17_x86_64.manylinux2014_x86_64.whl.metadata (8.1 kB)\nRequirement already satisfied: importlib-resources in /usr/local/lib/python3.11/dist-packages (from ale_py->-r requirements.txt (line 2)) (6.5.2)\nRequirement already satisfied: argon2-cffi-bindings in /usr/local/lib/python3.11/dist-packages (from argon2-cffi->notebook->-r requirements.txt (line 5)) (21.2.0)\nRequirement already satisfied: debugpy>=1.0 in /usr/local/lib/python3.11/dist-packages (from ipykernel->notebook->-r requirements.txt (line 5)) (1.8.0)\nRequirement already satisfied: psutil in /usr/local/lib/python3.11/dist-packages (from ipykernel->notebook->-r requirements.txt (line 5)) (7.0.0)\nRequirement already satisfied: intel-openmp<2026,>=2024 in /usr/local/lib/python3.11/dist-packages (from mkl->numpy->-r requirements.txt (line 8)) (2024.2.0)\nRequirement already satisfied: tbb==2022.* in /usr/local/lib/python3.11/dist-packages (from mkl->numpy->-r requirements.txt (line 8)) (2022.1.0)\nRequirement already satisfied: tcmlib==1.* in /usr/local/lib/python3.11/dist-packages (from tbb==2022.*->mkl->numpy->-r requirements.txt (line 8)) (1.2.0)\nRequirement already satisfied: intel-cmplr-lib-rt in /usr/local/lib/python3.11/dist-packages (from mkl_umath->numpy->-r requirements.txt (line 8)) (2024.2.0)\nRequirement already satisfied: intel-cmplr-lib-ur==2024.2.0 in /usr/local/lib/python3.11/dist-packages (from intel-openmp<2026,>=2024->mkl->numpy->-r requirements.txt (line 8)) (2024.2.0)\nRequirement already satisfied: attrs>=22.2.0 in /usr/local/lib/python3.11/dist-packages (from jsonschema>=2.6->nbformat->notebook->-r requirements.txt (line 5)) (25.3.0)\nRequirement already satisfied: jsonschema-specifications>=2023.03.6 in /usr/local/lib/python3.11/dist-packages (from jsonschema>=2.6->nbformat->notebook->-r requirements.txt (line 5)) (2024.10.1)\nRequirement already satisfied: referencing>=0.28.4 in /usr/local/lib/python3.11/dist-packages (from jsonschema>=2.6->nbformat->notebook->-r requirements.txt (line 5)) (0.36.2)\nRequirement already satisfied: rpds-py>=0.7.1 in /usr/local/lib/python3.11/dist-packages (from jsonschema>=2.6->nbformat->notebook->-r requirements.txt (line 5)) (0.22.3)\nRequirement already satisfied: jupyter-server<3,>=1.8 in /usr/local/lib/python3.11/dist-packages (from notebook-shim>=0.2.3->nbclassic>=0.4.7->notebook->-r requirements.txt (line 5)) (2.12.5)\nRequirement already satisfied: cffi>=1.0.1 in /usr/local/lib/python3.11/dist-packages (from argon2-cffi-bindings->argon2-cffi->notebook->-r requirements.txt (line 5)) (1.17.1)\nRequirement already satisfied: soupsieve>1.2 in /usr/local/lib/python3.11/dist-packages (from beautifulsoup4->nbconvert>=5->notebook->-r requirements.txt (line 5)) (2.6)\nRequirement already satisfied: webencodings in /usr/local/lib/python3.11/dist-packages (from bleach->nbconvert>=5->notebook->-r requirements.txt (line 5)) (0.5.1)\nRequirement already satisfied: pycparser in /usr/local/lib/python3.11/dist-packages (from cffi>=1.0.1->argon2-cffi-bindings->argon2-cffi->notebook->-r requirements.txt (line 5)) (2.22)\nRequirement already satisfied: anyio>=3.1.0 in /usr/local/lib/python3.11/dist-packages (from jupyter-server<3,>=1.8->notebook-shim>=0.2.3->nbclassic>=0.4.7->notebook->-r requirements.txt (line 5)) (3.7.1)\nRequirement already satisfied: jupyter-events>=0.9.0 in /usr/local/lib/python3.11/dist-packages (from jupyter-server<3,>=1.8->notebook-shim>=0.2.3->nbclassic>=0.4.7->notebook->-r requirements.txt (line 5)) (0.12.0)\nRequirement already satisfied: jupyter-server-terminals in /usr/local/lib/python3.11/dist-packages (from jupyter-server<3,>=1.8->notebook-shim>=0.2.3->nbclassic>=0.4.7->notebook->-r requirements.txt (line 5)) (0.5.3)\nRequirement already satisfied: overrides in /usr/local/lib/python3.11/dist-packages (from jupyter-server<3,>=1.8->notebook-shim>=0.2.3->nbclassic>=0.4.7->notebook->-r requirements.txt (line 5)) (7.7.0)\nRequirement already satisfied: websocket-client in /usr/local/lib/python3.11/dist-packages (from jupyter-server<3,>=1.8->notebook-shim>=0.2.3->nbclassic>=0.4.7->notebook->-r requirements.txt (line 5)) (1.8.0)\nRequirement already satisfied: sniffio>=1.1 in /usr/local/lib/python3.11/dist-packages (from anyio>=3.1.0->jupyter-server<3,>=1.8->notebook-shim>=0.2.3->nbclassic>=0.4.7->notebook->-r requirements.txt (line 5)) (1.3.1)\nRequirement already satisfied: python-json-logger>=2.0.4 in /usr/local/lib/python3.11/dist-packages (from jupyter-events>=0.9.0->jupyter-server<3,>=1.8->notebook-shim>=0.2.3->nbclassic>=0.4.7->notebook->-r requirements.txt (line 5)) (3.3.0)\nRequirement already satisfied: pyyaml>=5.3 in /usr/local/lib/python3.11/dist-packages (from jupyter-events>=0.9.0->jupyter-server<3,>=1.8->notebook-shim>=0.2.3->nbclassic>=0.4.7->notebook->-r requirements.txt (line 5)) (6.0.2)\nRequirement already satisfied: rfc3339-validator in /usr/local/lib/python3.11/dist-packages (from jupyter-events>=0.9.0->jupyter-server<3,>=1.8->notebook-shim>=0.2.3->nbclassic>=0.4.7->notebook->-r requirements.txt (line 5)) (0.1.4)\nRequirement already satisfied: rfc3986-validator>=0.1.1 in /usr/local/lib/python3.11/dist-packages (from jupyter-events>=0.9.0->jupyter-server<3,>=1.8->notebook-shim>=0.2.3->nbclassic>=0.4.7->notebook->-r requirements.txt (line 5)) (0.1.1)\nRequirement already satisfied: fqdn in /usr/local/lib/python3.11/dist-packages (from jsonschema[format-nongpl]>=4.18.0->jupyter-events>=0.9.0->jupyter-server<3,>=1.8->notebook-shim>=0.2.3->nbclassic>=0.4.7->notebook->-r requirements.txt (line 5)) (1.5.1)\nRequirement already satisfied: isoduration in /usr/local/lib/python3.11/dist-packages (from jsonschema[format-nongpl]>=4.18.0->jupyter-events>=0.9.0->jupyter-server<3,>=1.8->notebook-shim>=0.2.3->nbclassic>=0.4.7->notebook->-r requirements.txt (line 5)) (20.11.0)\nRequirement already satisfied: jsonpointer>1.13 in /usr/local/lib/python3.11/dist-packages (from jsonschema[format-nongpl]>=4.18.0->jupyter-events>=0.9.0->jupyter-server<3,>=1.8->notebook-shim>=0.2.3->nbclassic>=0.4.7->notebook->-r requirements.txt (line 5)) (3.0.0)\nRequirement already satisfied: uri-template in /usr/local/lib/python3.11/dist-packages (from jsonschema[format-nongpl]>=4.18.0->jupyter-events>=0.9.0->jupyter-server<3,>=1.8->notebook-shim>=0.2.3->nbclassic>=0.4.7->notebook->-r requirements.txt (line 5)) (1.3.0)\nRequirement already satisfied: webcolors>=24.6.0 in /usr/local/lib/python3.11/dist-packages (from jsonschema[format-nongpl]>=4.18.0->jupyter-events>=0.9.0->jupyter-server<3,>=1.8->notebook-shim>=0.2.3->nbclassic>=0.4.7->notebook->-r requirements.txt (line 5)) (24.11.1)\nRequirement already satisfied: arrow>=0.15.0 in /usr/local/lib/python3.11/dist-packages (from isoduration->jsonschema[format-nongpl]>=4.18.0->jupyter-events>=0.9.0->jupyter-server<3,>=1.8->notebook-shim>=0.2.3->nbclassic>=0.4.7->notebook->-r requirements.txt (line 5)) (1.3.0)\nRequirement already satisfied: types-python-dateutil>=2.8.10 in /usr/local/lib/python3.11/dist-packages (from arrow>=0.15.0->isoduration->jsonschema[format-nongpl]>=4.18.0->jupyter-events>=0.9.0->jupyter-server<3,>=1.8->notebook-shim>=0.2.3->nbclassic>=0.4.7->notebook->-r requirements.txt (line 5)) (2.9.0.20241206)\nDownloading nvidia_cublas_cu12-12.4.5.8-py3-none-manylinux2014_x86_64.whl (363.4 MB)\n\u001B[2K   \u001B[90m━━━━━━━━━━━━━━━━━━━━━━━━━━━━━━━━━━━━━━━━\u001B[0m \u001B[32m363.4/363.4 MB\u001B[0m \u001B[31m4.6 MB/s\u001B[0m eta \u001B[36m0:00:00\u001B[0m0:00:01\u001B[0m00:01\u001B[0m\n\u001B[?25hDownloading nvidia_cudnn_cu12-9.1.0.70-py3-none-manylinux2014_x86_64.whl (664.8 MB)\n\u001B[2K   \u001B[90m━━━━━━━━━━━━━━━━━━━━━━━━━━━━━━━━━━━━━━━━\u001B[0m \u001B[32m664.8/664.8 MB\u001B[0m \u001B[31m1.9 MB/s\u001B[0m eta \u001B[36m0:00:00\u001B[0m0:00:01\u001B[0m00:01\u001B[0m\n\u001B[?25hDownloading nvidia_cufft_cu12-11.2.1.3-py3-none-manylinux2014_x86_64.whl (211.5 MB)\n\u001B[2K   \u001B[90m━━━━━━━━━━━━━━━━━━━━━━━━━━━━━━━━━━━━━━━━\u001B[0m \u001B[32m211.5/211.5 MB\u001B[0m \u001B[31m6.8 MB/s\u001B[0m eta \u001B[36m0:00:00\u001B[0m0:00:01\u001B[0m00:01\u001B[0m\n\u001B[?25hDownloading nvidia_curand_cu12-10.3.5.147-py3-none-manylinux2014_x86_64.whl (56.3 MB)\n\u001B[2K   \u001B[90m━━━━━━━━━━━━━━━━━━━━━━━━━━━━━━━━━━━━━━━━\u001B[0m \u001B[32m56.3/56.3 MB\u001B[0m \u001B[31m30.3 MB/s\u001B[0m eta \u001B[36m0:00:00\u001B[0m:00:01\u001B[0m00:01\u001B[0m\n\u001B[?25hDownloading nvidia_cusolver_cu12-11.6.1.9-py3-none-manylinux2014_x86_64.whl (127.9 MB)\n\u001B[2K   \u001B[90m━━━━━━━━━━━━━━━━━━━━━━━━━━━━━━━━━━━━━━━━\u001B[0m \u001B[32m127.9/127.9 MB\u001B[0m \u001B[31m13.4 MB/s\u001B[0m eta \u001B[36m0:00:00\u001B[0m:00:01\u001B[0m00:01\u001B[0m\n\u001B[?25hDownloading nvidia_cusparse_cu12-12.3.1.170-py3-none-manylinux2014_x86_64.whl (207.5 MB)\n\u001B[2K   \u001B[90m━━━━━━━━━━━━━━━━━━━━━━━━━━━━━━━━━━━━━━━━\u001B[0m \u001B[32m207.5/207.5 MB\u001B[0m \u001B[31m2.7 MB/s\u001B[0m eta \u001B[36m0:00:00\u001B[0m0:00:01\u001B[0m00:01\u001B[0m\n\u001B[?25hDownloading nvidia_nvjitlink_cu12-12.4.127-py3-none-manylinux2014_x86_64.whl (21.1 MB)\n\u001B[2K   \u001B[90m━━━━━━━━━━━━━━━━━━━━━━━━━━━━━━━━━━━━━━━━\u001B[0m \u001B[32m21.1/21.1 MB\u001B[0m \u001B[31m87.8 MB/s\u001B[0m eta \u001B[36m0:00:00\u001B[0m:00:01\u001B[0m00:01\u001B[0m\n\u001B[?25hDownloading AutoROM-0.4.2-py3-none-any.whl (16 kB)\nDownloading Shimmy-0.2.1-py3-none-any.whl (25 kB)\nDownloading ale_py-0.8.1-cp311-cp311-manylinux_2_17_x86_64.manylinux2014_x86_64.whl (1.7 MB)\n\u001B[2K   \u001B[90m━━━━━━━━━━━━━━━━━━━━━━━━━━━━━━━━━━━━━━━━\u001B[0m \u001B[32m1.7/1.7 MB\u001B[0m \u001B[31m63.2 MB/s\u001B[0m eta \u001B[36m0:00:00\u001B[0m\n\u001B[?25hBuilding wheels for collected packages: AutoROM.accept-rom-license\n  Building wheel for AutoROM.accept-rom-license (pyproject.toml) ... \u001B[?25l\u001B[?25hdone\n  Created wheel for AutoROM.accept-rom-license: filename=autorom_accept_rom_license-0.6.1-py3-none-any.whl size=446710 sha256=d29417d4704ecb2eb17873a68974d27a40569088d495949fe7d0c7c5acea6b0f\n  Stored in directory: /root/.cache/pip/wheels/bc/fc/c6/8aa657c0d2089982f2dabd110efc68c61eb49831fdb7397351\nSuccessfully built AutoROM.accept-rom-license\nInstalling collected packages: nvidia-nvjitlink-cu12, nvidia-curand-cu12, nvidia-cufft-cu12, nvidia-cublas-cu12, nvidia-cusparse-cu12, nvidia-cudnn-cu12, AutoROM.accept-rom-license, autorom, nvidia-cusolver-cu12, shimmy, ale_py\n  Attempting uninstall: nvidia-nvjitlink-cu12\n    Found existing installation: nvidia-nvjitlink-cu12 12.8.93\n    Uninstalling nvidia-nvjitlink-cu12-12.8.93:\n      Successfully uninstalled nvidia-nvjitlink-cu12-12.8.93\n  Attempting uninstall: nvidia-curand-cu12\n    Found existing installation: nvidia-curand-cu12 10.3.9.90\n    Uninstalling nvidia-curand-cu12-10.3.9.90:\n      Successfully uninstalled nvidia-curand-cu12-10.3.9.90\n  Attempting uninstall: nvidia-cufft-cu12\n    Found existing installation: nvidia-cufft-cu12 11.3.3.83\n    Uninstalling nvidia-cufft-cu12-11.3.3.83:\n      Successfully uninstalled nvidia-cufft-cu12-11.3.3.83\n  Attempting uninstall: nvidia-cublas-cu12\n    Found existing installation: nvidia-cublas-cu12 12.8.4.1\n    Uninstalling nvidia-cublas-cu12-12.8.4.1:\n      Successfully uninstalled nvidia-cublas-cu12-12.8.4.1\n  Attempting uninstall: nvidia-cusparse-cu12\n    Found existing installation: nvidia-cusparse-cu12 12.5.8.93\n    Uninstalling nvidia-cusparse-cu12-12.5.8.93:\n      Successfully uninstalled nvidia-cusparse-cu12-12.5.8.93\n  Attempting uninstall: nvidia-cudnn-cu12\n    Found existing installation: nvidia-cudnn-cu12 9.3.0.75\n    Uninstalling nvidia-cudnn-cu12-9.3.0.75:\n      Successfully uninstalled nvidia-cudnn-cu12-9.3.0.75\n  Attempting uninstall: nvidia-cusolver-cu12\n    Found existing installation: nvidia-cusolver-cu12 11.7.3.90\n    Uninstalling nvidia-cusolver-cu12-11.7.3.90:\n      Successfully uninstalled nvidia-cusolver-cu12-11.7.3.90\n  Attempting uninstall: shimmy\n    Found existing installation: Shimmy 1.3.0\n    Uninstalling Shimmy-1.3.0:\n      Successfully uninstalled Shimmy-1.3.0\n  Attempting uninstall: ale_py\n    Found existing installation: ale-py 0.10.1\n    Uninstalling ale-py-0.10.1:\n      Successfully uninstalled ale-py-0.10.1\n\u001B[31mERROR: pip's dependency resolver does not currently take into account all the packages that are installed. This behaviour is the source of the following dependency conflicts.\nkaggle-environments 1.16.11 requires shimmy>=1.2.1, but you have shimmy 0.2.1 which is incompatible.\ndopamine-rl 4.1.2 requires ale-py>=0.10.1, but you have ale-py 0.8.1 which is incompatible.\ndopamine-rl 4.1.2 requires gymnasium>=1.0.0, but you have gymnasium 0.29.0 which is incompatible.\npylibcugraph-cu12 24.12.0 requires pylibraft-cu12==24.12.*, but you have pylibraft-cu12 25.2.0 which is incompatible.\npylibcugraph-cu12 24.12.0 requires rmm-cu12==24.12.*, but you have rmm-cu12 25.2.0 which is incompatible.\u001B[0m\u001B[31m\n\u001B[0mSuccessfully installed AutoROM.accept-rom-license-0.6.1 ale_py-0.8.1 autorom-0.4.2 nvidia-cublas-cu12-12.4.5.8 nvidia-cudnn-cu12-9.1.0.70 nvidia-cufft-cu12-11.2.1.3 nvidia-curand-cu12-10.3.5.147 nvidia-cusolver-cu12-11.6.1.9 nvidia-cusparse-cu12-12.3.1.170 nvidia-nvjitlink-cu12-12.4.127 shimmy-0.2.1\nStarting virtual X frame buffer: Xvfb.\n",
     "output_type": "stream"
    }
   ],
   "execution_count": 2
  },
  {
   "id": "48248f1e",
   "cell_type": "markdown",
   "source": "__Frameworks__ - we'll accept this homework in any deep learning framework. This particular notebook was designed for PyTorch, but you find it easy to adapt it to almost any Python-based deep learning framework.",
   "metadata": {
    "id": "KkrBeP7YsoUA",
    "papermill": {
     "duration": 0.011618,
     "end_time": "2025-05-04T14:09:10.254388",
     "exception": false,
     "start_time": "2025-05-04T14:09:10.242770",
     "status": "completed"
    },
    "tags": []
   }
  },
  {
   "id": "76df1c30",
   "cell_type": "code",
   "source": "%matplotlib inline\nimport ale_py\nimport gymnasium as gym\nimport matplotlib.pyplot as plt\nimport numpy as np",
   "metadata": {
    "execution": {
     "iopub.status.busy": "2025-05-11T20:23:49.502623Z",
     "iopub.execute_input": "2025-05-11T20:23:49.502905Z",
     "iopub.status.idle": "2025-05-11T20:23:50.368972Z",
     "shell.execute_reply.started": "2025-05-11T20:23:49.502883Z",
     "shell.execute_reply": "2025-05-11T20:23:50.368192Z"
    },
    "id": "P8WoWe9DsoUA",
    "papermill": {
     "duration": 1.129161,
     "end_time": "2025-05-04T14:09:11.395803",
     "exception": false,
     "start_time": "2025-05-04T14:09:10.266642",
     "status": "completed"
    },
    "tags": [],
    "ExecuteTime": {
     "end_time": "2025-05-11T17:15:35.656942Z",
     "start_time": "2025-05-11T17:15:35.653935Z"
    },
    "trusted": true
   },
   "outputs": [],
   "execution_count": 3
  },
  {
   "id": "56412cbc",
   "cell_type": "markdown",
   "source": "### Let's play some old videogames\n![img](https://github.com/yandexdataschool/Practical_RL/raw/master/yet_another_week/_resource/nerd.png)\n\nThis time we're gonna apply approximate Q-learning to an Atari game called Breakout. It's not the hardest thing out there, but it's definitely way more complex than anything we have tried before.",
   "metadata": {
    "id": "6GQBgViKsoUA",
    "papermill": {
     "duration": 0.011998,
     "end_time": "2025-05-04T14:09:11.420634",
     "exception": false,
     "start_time": "2025-05-04T14:09:11.408636",
     "status": "completed"
    },
    "tags": []
   }
  },
  {
   "id": "a09c890b",
   "cell_type": "markdown",
   "source": "**These are various versions of Breakout provided by Gynmasium:**",
   "metadata": {
    "id": "VBGMBAkuarge",
    "papermill": {
     "duration": 0.012063,
     "end_time": "2025-05-04T14:09:11.446214",
     "exception": false,
     "start_time": "2025-05-04T14:09:11.434151",
     "status": "completed"
    },
    "tags": []
   }
  },
  {
   "id": "168cd5be",
   "cell_type": "code",
   "source": "gym.register_envs(ale_py)\n\nall_names = list(gym.envs.registry.keys())\nnames_breakout = [name for name in all_names if \"Break\" in name]\nnames_breakout",
   "metadata": {
    "execution": {
     "iopub.status.busy": "2025-05-11T20:23:50.369836Z",
     "iopub.execute_input": "2025-05-11T20:23:50.370067Z",
     "iopub.status.idle": "2025-05-11T20:23:50.377793Z",
     "shell.execute_reply.started": "2025-05-11T20:23:50.370048Z",
     "shell.execute_reply": "2025-05-11T20:23:50.376877Z"
    },
    "id": "Df1kgHsxarge",
    "papermill": {
     "duration": 0.02385,
     "end_time": "2025-05-04T14:09:11.482323",
     "exception": false,
     "start_time": "2025-05-04T14:09:11.458473",
     "status": "completed"
    },
    "tags": [],
    "ExecuteTime": {
     "end_time": "2025-05-11T17:15:35.676597Z",
     "start_time": "2025-05-11T17:15:35.671581Z"
    },
    "trusted": true
   },
   "outputs": [
    {
     "execution_count": 4,
     "output_type": "execute_result",
     "data": {
      "text/plain": "['Breakout-v0',\n 'BreakoutDeterministic-v0',\n 'BreakoutNoFrameskip-v0',\n 'Breakout-v4',\n 'BreakoutDeterministic-v4',\n 'BreakoutNoFrameskip-v4',\n 'Breakout-ram-v0',\n 'Breakout-ramDeterministic-v0',\n 'Breakout-ramNoFrameskip-v0',\n 'Breakout-ram-v4',\n 'Breakout-ramDeterministic-v4',\n 'Breakout-ramNoFrameskip-v4',\n 'ALE/Breakout-v5',\n 'ALE/Breakout-ram-v5']"
     },
     "metadata": {}
    }
   ],
   "execution_count": 4
  },
  {
   "id": "69ded49e",
   "cell_type": "code",
   "source": "# ENV_NAME = \"BreakoutDeterministic-v4\"  # this one is simpler\nENV_NAME = \"ALE/Breakout-v5\"",
   "metadata": {
    "execution": {
     "iopub.status.busy": "2025-05-11T20:23:50.379768Z",
     "iopub.execute_input": "2025-05-11T20:23:50.380040Z",
     "iopub.status.idle": "2025-05-11T20:23:50.395149Z",
     "shell.execute_reply.started": "2025-05-11T20:23:50.380020Z",
     "shell.execute_reply": "2025-05-11T20:23:50.394437Z"
    },
    "id": "S_zvw_31soUA",
    "papermill": {
     "duration": 0.019412,
     "end_time": "2025-05-04T14:09:11.514880",
     "exception": false,
     "start_time": "2025-05-04T14:09:11.495468",
     "status": "completed"
    },
    "tags": [],
    "ExecuteTime": {
     "end_time": "2025-05-11T17:15:35.751767Z",
     "start_time": "2025-05-11T17:15:35.749368Z"
    },
    "trusted": true
   },
   "outputs": [],
   "execution_count": 5
  },
  {
   "id": "17aa2a90",
   "cell_type": "markdown",
   "source": "If you are curious about Atari environments in Gymnasium, please, refer to:\n- [4] Gymnasium docs: https://gymnasium.farama.org/environments/atari/\n- [5] Longer paper: https://arxiv.org/abs/1709.06009\n- [6] Shorter paper: https://www.ijcai.org/Proceedings/2018/0787.pdf\n\nFor now it's enough to know about the v5 environments:\n- v5 environments are recommended for use\n- frame_skip=5, every 5-th frame is shown to the agent and the chosen action is executed for the next 5 moves\n- randomness comes from repeat_action_probability=0.25: with this probability the previous action is executed instead of the chosen action",
   "metadata": {
    "id": "3_bTjOuzargf",
    "papermill": {
     "duration": 0.01214,
     "end_time": "2025-05-04T14:09:11.539566",
     "exception": false,
     "start_time": "2025-05-04T14:09:11.527426",
     "status": "completed"
    },
    "tags": []
   }
  },
  {
   "id": "c7151734",
   "cell_type": "markdown",
   "source": "## Getting to know the Environment",
   "metadata": {
    "id": "xT9BvasNsoUA",
    "papermill": {
     "duration": 0.012266,
     "end_time": "2025-05-04T14:09:11.564330",
     "exception": false,
     "start_time": "2025-05-04T14:09:11.552064",
     "status": "completed"
    },
    "tags": []
   }
  },
  {
   "id": "af80598a",
   "cell_type": "markdown",
   "source": "**Let's see what observations look like.**",
   "metadata": {
    "id": "iwN8jA0OsoUA",
    "papermill": {
     "duration": 0.011989,
     "end_time": "2025-05-04T14:09:11.588885",
     "exception": false,
     "start_time": "2025-05-04T14:09:11.576896",
     "status": "completed"
    },
    "tags": []
   }
  },
  {
   "id": "2f3636ed",
   "cell_type": "code",
   "source": "env = gym.make(ENV_NAME, render_mode=\"rgb_array\")\nenv.reset()\nplt.imshow(env.render())\nplt.show()",
   "metadata": {
    "execution": {
     "iopub.status.busy": "2025-05-11T20:23:50.396199Z",
     "iopub.execute_input": "2025-05-11T20:23:50.396610Z",
     "iopub.status.idle": "2025-05-11T20:23:50.991706Z",
     "shell.execute_reply.started": "2025-05-11T20:23:50.396581Z",
     "shell.execute_reply": "2025-05-11T20:23:50.990927Z"
    },
    "id": "YouErllRargf",
    "papermill": {
     "duration": 0.448822,
     "end_time": "2025-05-04T14:09:12.049916",
     "exception": false,
     "start_time": "2025-05-04T14:09:11.601094",
     "status": "completed"
    },
    "tags": [],
    "ExecuteTime": {
     "end_time": "2025-05-11T17:15:35.881700Z",
     "start_time": "2025-05-11T17:15:35.768337Z"
    },
    "trusted": true
   },
   "outputs": [
    {
     "name": "stderr",
     "text": "A.L.E: Arcade Learning Environment (version 0.8.1+53f58b7)\n[Powered by Stella]\n/usr/local/lib/python3.11/dist-packages/gymnasium/utils/passive_env_checker.py:335: UserWarning: \u001B[33mWARN: No render fps was declared in the environment (env.metadata['render_fps'] is None or not defined), rendering may occur at inconsistent fps.\u001B[0m\n  logger.warn(\n",
     "output_type": "stream"
    },
    {
     "output_type": "display_data",
     "data": {
      "text/plain": "<Figure size 640x480 with 1 Axes>",
      "image/png": "[encoded data removed]"
     },
     "metadata": {}
    }
   ],
   "execution_count": 6
  },
  {
   "id": "119e091f",
   "cell_type": "markdown",
   "source": "**Some more observations, coming from taking random actions**",
   "metadata": {
    "id": "c7hmcz8Kargf",
    "papermill": {
     "duration": 0.015279,
     "end_time": "2025-05-04T14:09:12.150462",
     "exception": false,
     "start_time": "2025-05-04T14:09:12.135183",
     "status": "completed"
    },
    "tags": []
   }
  },
  {
   "id": "25058fda",
   "cell_type": "code",
   "source": "env = gym.make(ENV_NAME, render_mode=\"rgb_array\")\nenv.reset()\n\nn_cols = 5\nn_rows = 2\nfig = plt.figure(figsize=(16, 9))\n\nfor row in range(n_rows):\n    for col in range(n_cols):\n        ax = fig.add_subplot(n_rows, n_cols, row * n_cols + col + 1)\n        ax.imshow(env.render())\n        env.step(env.action_space.sample())\n\nplt.show()",
   "metadata": {
    "execution": {
     "iopub.status.busy": "2025-05-11T20:23:50.992567Z",
     "iopub.execute_input": "2025-05-11T20:23:50.992774Z",
     "iopub.status.idle": "2025-05-11T20:23:52.232730Z",
     "shell.execute_reply.started": "2025-05-11T20:23:50.992758Z",
     "shell.execute_reply": "2025-05-11T20:23:52.231930Z"
    },
    "id": "rUZHU2HdsoUB",
    "papermill": {
     "duration": 1.460005,
     "end_time": "2025-05-04T14:09:13.626733",
     "exception": false,
     "start_time": "2025-05-04T14:09:12.166728",
     "status": "completed"
    },
    "tags": [],
    "ExecuteTime": {
     "end_time": "2025-05-11T17:15:36.479655Z",
     "start_time": "2025-05-11T17:15:35.908597Z"
    },
    "trusted": true
   },
   "outputs": [
    {
     "output_type": "display_data",
     "data": {
      "text/plain": "<Figure size 1600x900 with 10 Axes>",
      "image/png": "[encoded data removed]"
     },
     "metadata": {}
    }
   ],
   "execution_count": 7
  },
  {
   "id": "8a81f6ef",
   "cell_type": "markdown",
   "source": "**About the game:** You have 5 lives and get points for breaking the wall. Higher bricks cost more than the lower ones. There are 4 actions: start game (should be called at the beginning and after each life is lost), move left, move right and do nothing. There are some common wrappers used for Atari environments.",
   "metadata": {
    "id": "IUfKHVM0argf",
    "papermill": {
     "duration": 0.01335,
     "end_time": "2025-05-04T14:09:13.654212",
     "exception": false,
     "start_time": "2025-05-04T14:09:13.640862",
     "status": "completed"
    },
    "tags": []
   }
  },
  {
   "id": "5d4f406a",
   "cell_type": "markdown",
   "source": "**Let's take a look at action meanings:**",
   "metadata": {
    "id": "its7-Y4Cargf",
    "papermill": {
     "duration": 0.014182,
     "end_time": "2025-05-04T14:09:13.682327",
     "exception": false,
     "start_time": "2025-05-04T14:09:13.668145",
     "status": "completed"
    },
    "tags": []
   }
  },
  {
   "id": "d33eda75",
   "cell_type": "code",
   "source": "env.unwrapped.get_action_meanings()",
   "metadata": {
    "execution": {
     "iopub.status.busy": "2025-05-11T20:23:52.233514Z",
     "iopub.execute_input": "2025-05-11T20:23:52.233790Z",
     "iopub.status.idle": "2025-05-11T20:23:52.238993Z",
     "shell.execute_reply.started": "2025-05-11T20:23:52.233758Z",
     "shell.execute_reply": "2025-05-11T20:23:52.238447Z"
    },
    "id": "MZ56C6Laargg",
    "papermill": {
     "duration": 0.023243,
     "end_time": "2025-05-04T14:09:13.720243",
     "exception": false,
     "start_time": "2025-05-04T14:09:13.697000",
     "status": "completed"
    },
    "tags": [],
    "ExecuteTime": {
     "end_time": "2025-05-11T17:15:36.502945Z",
     "start_time": "2025-05-11T17:15:36.499443Z"
    },
    "trusted": true
   },
   "outputs": [
    {
     "execution_count": 8,
     "output_type": "execute_result",
     "data": {
      "text/plain": "['NOOP', 'FIRE', 'RIGHT', 'LEFT']"
     },
     "metadata": {}
    }
   ],
   "execution_count": 8
  },
  {
   "id": "d19cdf8e",
   "cell_type": "markdown",
   "source": "1. NOOP stands for the action of doing nothing\n2. Right and Left move the platform to the corresponding direction\n3. Fire releases the ball in the beginning of a life\n\nIn this assignment we will wrap the environment to execute the \"Fire\" action in the beginning of a life automatically. It will turn the \"FIRE\" action into another \"NOOP\".  \nAlso, we will wrap the environment to make an episode last for 1 life instead of 5 ones.  \nThese transforms are claimed as non-recommended in the paper [5] but it was done in the original paper [1] and it will help the training to converge faster.",
   "metadata": {
    "id": "zsx2IyFRargg",
    "papermill": {
     "duration": 0.013546,
     "end_time": "2025-05-04T14:09:13.747695",
     "exception": false,
     "start_time": "2025-05-04T14:09:13.734149",
     "status": "completed"
    },
    "tags": []
   }
  },
  {
   "id": "e634d781",
   "cell_type": "markdown",
   "source": "**Let's play a little.**\n\nPay attention to zoom and fps args of play function. Control: A, D, space.",
   "metadata": {
    "id": "hLNt1fbnsoUB",
    "papermill": {
     "duration": 0.013197,
     "end_time": "2025-05-04T14:09:13.774476",
     "exception": false,
     "start_time": "2025-05-04T14:09:13.761279",
     "status": "completed"
    },
    "tags": []
   }
  },
  {
   "id": "3a0047de",
   "cell_type": "code",
   "source": "# # Does not work in Colab.\n# Even on a local laptop breaks matplotlib rendering. So it's recommended to restart the notebook after playing.\n# # Use the Escape button to continue.\n\n# from gymnasium.utils.play import play\n\n# play(env=gym.make(ENV_NAME, render_mode=\"rgb_array\"), zoom=4, fps=10)",
   "metadata": {
    "execution": {
     "iopub.status.busy": "2025-05-11T20:23:52.239716Z",
     "iopub.execute_input": "2025-05-11T20:23:52.239961Z",
     "iopub.status.idle": "2025-05-11T20:23:52.252812Z",
     "shell.execute_reply.started": "2025-05-11T20:23:52.239935Z",
     "shell.execute_reply": "2025-05-11T20:23:52.252111Z"
    },
    "id": "WOIL47azsoUB",
    "papermill": {
     "duration": 0.021948,
     "end_time": "2025-05-04T14:09:13.810004",
     "exception": false,
     "start_time": "2025-05-04T14:09:13.788056",
     "status": "completed"
    },
    "tags": [],
    "ExecuteTime": {
     "end_time": "2025-05-11T17:15:36.554720Z",
     "start_time": "2025-05-11T17:15:36.551715Z"
    },
    "trusted": true
   },
   "outputs": [],
   "execution_count": 9
  },
  {
   "id": "8817e0c0",
   "cell_type": "markdown",
   "source": "## Wrapping the Environment",
   "metadata": {
    "id": "2_G9bAXUargg",
    "papermill": {
     "duration": 0.014597,
     "end_time": "2025-05-04T14:09:13.838816",
     "exception": false,
     "start_time": "2025-05-04T14:09:13.824219",
     "status": "completed"
    },
    "tags": []
   }
  },
  {
   "id": "179a22f1",
   "cell_type": "code",
   "source": "def make_basic_env():\n    return gym.make(ENV_NAME, render_mode=\"rgb_array\")",
   "metadata": {
    "execution": {
     "iopub.status.busy": "2025-05-11T20:23:52.253467Z",
     "iopub.execute_input": "2025-05-11T20:23:52.253660Z",
     "iopub.status.idle": "2025-05-11T20:23:52.266980Z",
     "shell.execute_reply.started": "2025-05-11T20:23:52.253645Z",
     "shell.execute_reply": "2025-05-11T20:23:52.266331Z"
    },
    "id": "Vv3YVl41argg",
    "papermill": {
     "duration": 0.021586,
     "end_time": "2025-05-04T14:09:13.874693",
     "exception": false,
     "start_time": "2025-05-04T14:09:13.853107",
     "status": "completed"
    },
    "tags": [],
    "ExecuteTime": {
     "end_time": "2025-05-11T17:15:36.613524Z",
     "start_time": "2025-05-11T17:15:36.610514Z"
    },
    "trusted": true
   },
   "outputs": [],
   "execution_count": 10
  },
  {
   "id": "6b82428d",
   "cell_type": "markdown",
   "source": "### Processing game image\n\nLet's check the shape and the dtype of the observation:",
   "metadata": {
    "id": "5DPrxQuXsoUB",
    "papermill": {
     "duration": 0.014173,
     "end_time": "2025-05-04T14:09:13.903405",
     "exception": false,
     "start_time": "2025-05-04T14:09:13.889232",
     "status": "completed"
    },
    "tags": []
   }
  },
  {
   "id": "5e5cab9c",
   "cell_type": "code",
   "source": "env = make_basic_env()\nobs, *_ = env.reset()\nobs.shape, obs.dtype",
   "metadata": {
    "execution": {
     "iopub.status.busy": "2025-05-11T20:23:52.269479Z",
     "iopub.execute_input": "2025-05-11T20:23:52.269851Z",
     "iopub.status.idle": "2025-05-11T20:23:52.476991Z",
     "shell.execute_reply.started": "2025-05-11T20:23:52.269834Z",
     "shell.execute_reply": "2025-05-11T20:23:52.476190Z"
    },
    "id": "y8Nl9A0Largg",
    "papermill": {
     "duration": 0.211956,
     "end_time": "2025-05-04T14:09:14.129251",
     "exception": false,
     "start_time": "2025-05-04T14:09:13.917295",
     "status": "completed"
    },
    "tags": [],
    "ExecuteTime": {
     "end_time": "2025-05-11T17:15:36.696676Z",
     "start_time": "2025-05-11T17:15:36.626664Z"
    },
    "trusted": true
   },
   "outputs": [
    {
     "execution_count": 11,
     "output_type": "execute_result",
     "data": {
      "text/plain": "((210, 160, 3), dtype('uint8'))"
     },
     "metadata": {}
    }
   ],
   "execution_count": 11
  },
  {
   "id": "ac43ac6a",
   "cell_type": "markdown",
   "source": "Raw Atari images are large, 210x160x3 by default. However, we don't need that level of detail in order to learn from them.\n\nWe can thus save a lot of time by preprocessing game image, including\n* Resizing to a smaller shape, 64x64 (or 84 x 84, which is used in literature)\n* Converting to grayscale\n* Cropping irrelevant image parts (top, bottom and edges) \\[we won't do this\\]\n\nThe images are of the uint8 dtype.  \nuint8 stands for the 8-bit unsigned integer type.  \nWe are going to store 10^5 or 10^6 observations in memory (RAM), so let's pay attention to preserving the 8-bit type after our transforms.",
   "metadata": {
    "id": "BFPqOcUIargg",
    "papermill": {
     "duration": 0.013316,
     "end_time": "2025-05-04T14:09:14.156811",
     "exception": false,
     "start_time": "2025-05-04T14:09:14.143495",
     "status": "completed"
    },
    "tags": []
   }
  },
  {
   "id": "ac981577",
   "cell_type": "code",
   "source": "def apply_gray_scale_wrap(env):\n    # With the argument values chosen as below, the gym.wrappers.AtariPreprocessing wrapper\n    # only converts images to grayscale and downsamples them the screen_size\n    env = gym.wrappers.AtariPreprocessing(\n        env,\n        noop_max=0,  # the default value 30 can be harmful with FireResetEnv and frame_skip=5\n        frame_skip=1,  # frame_skip has already been set to 5 inside the env\n        terminal_on_life_loss=False,  # we do this explicitly in the FireResetEnv wrapper\n        screen_size=84,\n        # please use 84 (which is the standard value) or 64 (which will save some computations and memory)\n    )\n    return env\n\n\nenv = make_basic_env()\nenv = apply_gray_scale_wrap(env)\n\nobs, *_ = env.reset()\n\nassert obs.dtype == np.dtype(\"uint8\"), obs_dtype\n\nprint(obs.shape, obs.dtype)\nplt.imshow(obs)\nplt.show()",
   "metadata": {
    "execution": {
     "iopub.status.busy": "2025-05-11T20:23:52.477884Z",
     "iopub.execute_input": "2025-05-11T20:23:52.478155Z",
     "iopub.status.idle": "2025-05-11T20:23:52.786799Z",
     "shell.execute_reply.started": "2025-05-11T20:23:52.478134Z",
     "shell.execute_reply": "2025-05-11T20:23:52.786027Z"
    },
    "id": "dGbiFS1zargg",
    "papermill": {
     "duration": 0.381997,
     "end_time": "2025-05-04T14:09:14.553004",
     "exception": false,
     "start_time": "2025-05-04T14:09:14.171007",
     "status": "completed"
    },
    "tags": [],
    "ExecuteTime": {
     "end_time": "2025-05-11T17:15:36.874593Z",
     "start_time": "2025-05-11T17:15:36.749491Z"
    },
    "trusted": true
   },
   "outputs": [
    {
     "name": "stdout",
     "text": "(84, 84) uint8\n",
     "output_type": "stream"
    },
    {
     "output_type": "display_data",
     "data": {
      "text/plain": "<Figure size 640x480 with 1 Axes>",
      "image/png": "[encoded data removed]"
     },
     "metadata": {}
    }
   ],
   "execution_count": 12
  },
  {
   "id": "439fcf4f",
   "cell_type": "markdown",
   "source": "### Atari specific wrappers\n\nWe try to make our lives a little easier with the following wrappers:\n1. EpisodicLifeEnv it makes the signal that dropping a ball is not good more explicit\n2. Using FireResetEnv: with it the agent doesn't have to perform a special action to fire the ball in the beginning of a life",
   "metadata": {
    "id": "qIb_3va9argg",
    "papermill": {
     "duration": 0.014429,
     "end_time": "2025-05-04T14:09:14.582778",
     "exception": false,
     "start_time": "2025-05-04T14:09:14.568349",
     "status": "completed"
    },
    "tags": []
   }
  },
  {
   "id": "60e53f6d",
   "cell_type": "code",
   "source": "from dqn.atari_wrappers import EpisodicLifeEnv, FireResetEnv\n\n\ndef apply_atary_specific_wrap(env):\n    env = EpisodicLifeEnv(env)\n    env = FireResetEnv(env)\n    return env\n\n\nenv = make_basic_env()\nenv = apply_gray_scale_wrap(env)\nenv = apply_atary_specific_wrap(env)\n\nobs, *_ = env.reset()\n\nprint(obs.shape, obs.dtype)\nplt.imshow(obs)\nplt.show()",
   "metadata": {
    "execution": {
     "iopub.status.busy": "2025-05-11T20:23:52.787611Z",
     "iopub.execute_input": "2025-05-11T20:23:52.787874Z",
     "iopub.status.idle": "2025-05-11T20:23:53.076633Z",
     "shell.execute_reply.started": "2025-05-11T20:23:52.787850Z",
     "shell.execute_reply": "2025-05-11T20:23:53.075882Z"
    },
    "id": "vqx-3Xqtargh",
    "papermill": {
     "duration": 0.098748,
     "end_time": "2025-05-04T14:09:14.697178",
     "exception": true,
     "start_time": "2025-05-04T14:09:14.598430",
     "status": "failed"
    },
    "tags": [],
    "ExecuteTime": {
     "end_time": "2025-05-11T17:15:37.035428Z",
     "start_time": "2025-05-11T17:15:36.927860Z"
    },
    "trusted": true
   },
   "outputs": [
    {
     "name": "stdout",
     "text": "(84, 84) uint8\n",
     "output_type": "stream"
    },
    {
     "output_type": "display_data",
     "data": {
      "text/plain": "<Figure size 640x480 with 1 Axes>",
      "image/png": "[encoded data removed]"
     },
     "metadata": {}
    }
   ],
   "execution_count": 13
  },
  {
   "id": "4887ddde",
   "cell_type": "markdown",
   "source": "### FrameStack\nTo make the game playable from a single observation (note the direction of the ball), we stack 4 consecutive frames:",
   "metadata": {
    "id": "slog3wQ9argh",
    "papermill": {
     "duration": null,
     "end_time": null,
     "exception": null,
     "start_time": null,
     "status": "pending"
    },
    "tags": []
   }
  },
  {
   "id": "272c7160",
   "cell_type": "code",
   "source": "N_FRAMES_STACKED = 4\n\n\ndef make_final_env(apply_frame_stack=True):\n    \"\"\"\n    Builds the environment with all the wrappers applied.\n    The environment is meant be used directly as an RL algorithm input.\n\n    apply_frame_stack=False can be useful for vecotrized environments, which are not required for this assignment.\n    \"\"\"\n    env = make_basic_env()\n    env = apply_gray_scale_wrap(env)\n    env = apply_atary_specific_wrap(env)\n    if apply_frame_stack:\n        env = gym.wrappers.FrameStack(env, N_FRAMES_STACKED)\n    return env\n\n\nenv = make_final_env()\n\nobs, *_ = env.reset()\nprint(f\"Shape: {obs.shape}, dtype: {obs.dtype}, Python object type: {type(obs)}\")\nfor _ in range(N_FRAMES_STACKED - 1):\n    obs, *_ = env.step(env.action_space.sample())\nprint()\n\nprint(\"Frames, left to right: from older to more recent. The ball is dropping.\")\n_, axes = plt.subplots(figsize=(len(obs) * 3, 4), ncols=len(obs))\nfor ax, frame in zip(axes, obs):\n    ax.imshow(frame)\nplt.show()",
   "metadata": {
    "id": "-9z-ZqvAargh",
    "papermill": {
     "duration": null,
     "end_time": null,
     "exception": null,
     "start_time": null,
     "status": "pending"
    },
    "tags": [],
    "ExecuteTime": {
     "end_time": "2025-05-11T17:15:37.278746Z",
     "start_time": "2025-05-11T17:15:37.083973Z"
    },
    "trusted": true,
    "execution": {
     "iopub.status.busy": "2025-05-11T20:23:53.077484Z",
     "iopub.execute_input": "2025-05-11T20:23:53.078216Z",
     "iopub.status.idle": "2025-05-11T20:23:53.594113Z",
     "shell.execute_reply.started": "2025-05-11T20:23:53.078191Z",
     "shell.execute_reply": "2025-05-11T20:23:53.593275Z"
    }
   },
   "outputs": [
    {
     "name": "stdout",
     "text": "Shape: (4, 84, 84), dtype: uint8, Python object type: <class 'gymnasium.wrappers.frame_stack.LazyFrames'>\n\nFrames, left to right: from older to more recent. The ball is dropping.\n",
     "output_type": "stream"
    },
    {
     "output_type": "display_data",
     "data": {
      "text/plain": "<Figure size 1200x400 with 4 Axes>",
      "image/png": "[encoded data removed]"
     },
     "metadata": {}
    }
   ],
   "execution_count": 14
  },
  {
   "id": "d5ea05e0",
   "cell_type": "markdown",
   "source": "**That is the final version of the environment we are going to do RL on.**\n\n**Let's discuss the representation of an obsevation.**\\\nAn observation is a 4-frame-stack of grayscale images with reduced resolution.\\\nMemory (RAM) is a high-demand resource in this task. That's why:\n1. We use the uint8 dtype instead of float32 the neural network will operate on\n2. We don't represent them as numpy.ndarrays. **LazyFrames** are used by gym.wrappers.FrameStack instead. 2 consecutive observations share 3 of 4 frames. LazyFrames make use of this fact to save memory.\nWhen we feed the observations to neural networks, we should remember to scale them to the \\[-1, 1\\] range. We'll implement scaling as the first layer of a neural network, but that'll be later.",
   "metadata": {
    "id": "StuQmfskargh",
    "papermill": {
     "duration": null,
     "end_time": null,
     "exception": null,
     "start_time": null,
     "status": "pending"
    },
    "tags": []
   }
  },
  {
   "id": "6ba66a7c",
   "cell_type": "markdown",
   "source": "**The ball is dropping, but its hard to notice. Let's define a function to render more human-readable images:**",
   "metadata": {
    "id": "VnRc9kGFargh",
    "papermill": {
     "duration": null,
     "end_time": null,
     "exception": null,
     "start_time": null,
     "status": "pending"
    },
    "tags": []
   }
  },
  {
   "id": "a018e5ca",
   "cell_type": "code",
   "source": "import gymnasium as gym\nfrom gym.wrappers.frame_stack import LazyFrames\n\n\ndef merge_frame_stack_to_plot(frame_stack_obs: np.ndarray | LazyFrames):\n    \"\"\"\n    A helper function to plot a frame stack as a single human-interpretable image.\n\n    Brighter pixels are more recent, pale pixels are older.\n    Motions goes from pale to bright.\n\n    Note! This function is designed for human vision convenience and it is NOT supposed to be used as part of\n    data preprocessing for the Reinforcement Learning agent.\n    \"\"\"\n    weights = np.ones(frame_stack_obs.shape[0], dtype=float)\n    weights[-1] += weights.sum()\n    weights /= weights.sum()\n    result = (weights[:, None, None] * frame_stack_obs).sum(0)\n    return result\n\n\nobs_joint = merge_frame_stack_to_plot(obs)\nplt.imshow(obs_joint)\nplt.show()",
   "metadata": {
    "id": "hC20b4G4argh",
    "papermill": {
     "duration": null,
     "end_time": null,
     "exception": null,
     "start_time": null,
     "status": "pending"
    },
    "tags": [],
    "ExecuteTime": {
     "end_time": "2025-05-11T17:15:37.410831Z",
     "start_time": "2025-05-11T17:15:37.293754Z"
    },
    "trusted": true,
    "execution": {
     "iopub.status.busy": "2025-05-12T06:14:50.912805Z",
     "iopub.execute_input": "2025-05-12T06:14:50.913499Z",
     "iopub.status.idle": "2025-05-12T06:14:51.041613Z",
     "shell.execute_reply.started": "2025-05-12T06:14:50.913476Z",
     "shell.execute_reply": "2025-05-12T06:14:51.040894Z"
    }
   },
   "outputs": [
    {
     "output_type": "display_data",
     "data": {
      "text/plain": "<Figure size 640x480 with 1 Axes>",
      "image/png": "[encoded data removed]"
     },
     "metadata": {}
    }
   ],
   "execution_count": 71
  },
  {
   "id": "0f1fbd35",
   "cell_type": "markdown",
   "source": "Hope that's better",
   "metadata": {
    "id": "kHHHlmPTargh",
    "papermill": {
     "duration": null,
     "end_time": null,
     "exception": null,
     "start_time": null,
     "status": "pending"
    },
    "tags": []
   }
  },
  {
   "id": "de690890",
   "cell_type": "code",
   "source": "N_ACTIONS = env.action_space.n\nSTATE_SHAPE = env.observation_space.shape",
   "metadata": {
    "id": "n9BdXY_5argh",
    "papermill": {
     "duration": null,
     "end_time": null,
     "exception": null,
     "start_time": null,
     "status": "pending"
    },
    "tags": [],
    "ExecuteTime": {
     "end_time": "2025-05-11T17:15:37.431640Z",
     "start_time": "2025-05-11T17:15:37.428779Z"
    },
    "trusted": true,
    "execution": {
     "iopub.status.busy": "2025-05-11T20:23:53.721953Z",
     "iopub.execute_input": "2025-05-11T20:23:53.722162Z",
     "iopub.status.idle": "2025-05-11T20:23:53.725774Z",
     "shell.execute_reply.started": "2025-05-11T20:23:53.722146Z",
     "shell.execute_reply": "2025-05-11T20:23:53.725076Z"
    }
   },
   "outputs": [],
   "execution_count": 16
  },
  {
   "id": "53ba1562",
   "cell_type": "markdown",
   "source": "**Let's see if the game is still playable after applying the wrappers.**\nAt playing the EpisodicLifeEnv wrapper seems not to work but actually it does (because after when life finishes a new ball is dropped automatically - it means that FireResetEnv wrapper understands that a new episode began).\n\n**Not supported for now.**",
   "metadata": {
    "id": "4iJM3IAwsoUB",
    "papermill": {
     "duration": null,
     "end_time": null,
     "exception": null,
     "start_time": null,
     "status": "pending"
    },
    "tags": []
   }
  },
  {
   "id": "74c88064",
   "cell_type": "markdown",
   "source": "## DQN as it is (10 pts)",
   "metadata": {
    "id": "jhiOKsQvsoUC",
    "papermill": {
     "duration": null,
     "end_time": null,
     "exception": null,
     "start_time": null,
     "status": "pending"
    },
    "tags": []
   }
  },
  {
   "id": "73765f42",
   "cell_type": "markdown",
   "source": "### Building a network\n\nWe now need to build a neural network that can map images to state q-values. This network will be called on every agent's step so it better not be resnet-152 unless you have an array of GPUs. Instead, you can use strided convolutions with a small number of features to save time and memory.\n\nYou can build any architecture you want, but you can find a couple of examples on diagrams below.",
   "metadata": {
    "id": "aspwJFiGsoUC",
    "papermill": {
     "duration": null,
     "end_time": null,
     "exception": null,
     "start_time": null,
     "status": "pending"
    },
    "tags": []
   }
  },
  {
   "id": "49cdebb4",
   "cell_type": "markdown",
   "source": "**Dueling network:**\\\nPaper: https://arxiv.org/pdf/1511.06581.pdf\n$$Q_{\\theta}(s, a) = V_{\\eta}(f_{\\xi}(s)) + A_{\\psi}(f_{\\xi}(s), a) - \\frac{\\sum_{a'}A_{\\psi}(f_{\\xi}(s), a')}{N_{actions}},$$\nwhere $\\xi$, $\\eta$, and $\\psi$ are, respectively, the parameters of the\nshared encoder $f_ξ$ , of the value stream $V_\\eta$ , and of the advantage stream $A_\\psi$; and $\\theta = \\{\\xi, \\eta, \\psi\\}$ is their concatenation.\n\nThis is what it looks like:\n\nSimple, expects height=width=64\n\n<img src=\"https://github.com/girafe-ai/ml-course/blob/24s_advanced/assignments/lab05_dqn/img/dueling_basic.png?raw=1\" alt=\"dueling_basic\" width=\"500\"/>\n\nNature DQN ([2]), expects height=width=84\n\n<img src=\"https://github.com/girafe-ai/ml-course/blob/24s_advanced/assignments/lab05_dqn/img/dueling_nature.png?raw=1\" alt=\"dueling_nature\" width=\"500\"/>",
   "metadata": {
    "id": "YbZIucfksoUC",
    "papermill": {
     "duration": null,
     "end_time": null,
     "exception": null,
     "start_time": null,
     "status": "pending"
    },
    "tags": []
   }
  },
  {
   "id": "92b7f6fc",
   "cell_type": "code",
   "source": "import torch\nimport torch.nn as nn\n\ndevice = torch.device(\"cuda\" if torch.cuda.is_available() else \"cpu\")\ndevice",
   "metadata": {
    "id": "SPPmY6wIsoUC",
    "papermill": {
     "duration": null,
     "end_time": null,
     "exception": null,
     "start_time": null,
     "status": "pending"
    },
    "tags": [],
    "ExecuteTime": {
     "end_time": "2025-05-11T17:15:39.085883Z",
     "start_time": "2025-05-11T17:15:37.452372Z"
    },
    "trusted": true,
    "execution": {
     "iopub.status.busy": "2025-05-11T20:23:53.726465Z",
     "iopub.execute_input": "2025-05-11T20:23:53.726712Z",
     "iopub.status.idle": "2025-05-11T20:23:55.422572Z",
     "shell.execute_reply.started": "2025-05-11T20:23:53.726690Z",
     "shell.execute_reply": "2025-05-11T20:23:55.421898Z"
    }
   },
   "outputs": [
    {
     "execution_count": 17,
     "output_type": "execute_result",
     "data": {
      "text/plain": "device(type='cuda')"
     },
     "metadata": {}
    }
   ],
   "execution_count": 17
  },
  {
   "id": "83da7ef2",
   "cell_type": "markdown",
   "source": "These constants will be useful",
   "metadata": {
    "id": "djG67OG3argi",
    "papermill": {
     "duration": null,
     "end_time": null,
     "exception": null,
     "start_time": null,
     "status": "pending"
    },
    "tags": []
   }
  },
  {
   "id": "884a6eb8",
   "cell_type": "code",
   "source": "N_ACTIONS, N_FRAMES_STACKED",
   "metadata": {
    "id": "n_xcBaORargi",
    "papermill": {
     "duration": null,
     "end_time": null,
     "exception": null,
     "start_time": null,
     "status": "pending"
    },
    "tags": [],
    "ExecuteTime": {
     "end_time": "2025-05-11T17:15:39.121409Z",
     "start_time": "2025-05-11T17:15:39.117488Z"
    },
    "trusted": true,
    "execution": {
     "iopub.status.busy": "2025-05-11T20:23:55.423292Z",
     "iopub.execute_input": "2025-05-11T20:23:55.423652Z",
     "iopub.status.idle": "2025-05-11T20:23:55.428294Z",
     "shell.execute_reply.started": "2025-05-11T20:23:55.423635Z",
     "shell.execute_reply": "2025-05-11T20:23:55.427673Z"
    }
   },
   "outputs": [
    {
     "execution_count": 18,
     "output_type": "execute_result",
     "data": {
      "text/plain": "(4, 4)"
     },
     "metadata": {}
    }
   ],
   "execution_count": 18
  },
  {
   "id": "c60907bf",
   "cell_type": "code",
   "source": "class ConvBackbone(nn.Sequential):\n    \"\"\"\n    The convolutional part of a DQN model.\n    Please, don't think about input scaling here: it will be implemented below.\n    \"\"\"\n\n    def __init__(self, c_in: int = N_FRAMES_STACKED) -> None:\n        super().__init__(\n            nn.Conv2d(in_channels=c_in, out_channels=32, kernel_size=8, stride=4),\n            nn.ReLU(inplace=True),\n            nn.Conv2d(in_channels=32, out_channels=64, kernel_size=4, stride=2),\n            nn.ReLU(inplace=True),\n            nn.Conv2d(in_channels=64, out_channels=64, kernel_size=3, stride=1),\n            nn.ReLU(inplace=True),\n            nn.Flatten()\n        )\n\n\nclass DuelingDqnHead(nn.Module):\n    \"\"\"\n    Implenets the Dueling DQN logic.\n    Please, don't think about gradient scaling here (if you know what it is about): it will be implemented below.\n    \"\"\"\n\n    def __init__(self, n_actions: int, inp_size: int = 64 * 7 * 7, hidden_size: int = 512) -> None:\n        super().__init__()\n        self.adv_stream = nn.Sequential(\n            nn.Linear(inp_size, hidden_size),\n            nn.ReLU(inplace=True),\n            nn.Linear(hidden_size, n_actions)\n        )\n        self.value_stream = nn.Sequential(\n            nn.Linear(inp_size, hidden_size),\n            nn.ReLU(inplace=True),\n            nn.Linear(hidden_size, 1)\n        )\n\n    def forward(self, x: torch.Tensor) -> torch.Tensor:\n        assert x.ndim == 2, f\"Expected 2D tensor, got {x.shape}\"\n        adv = self.adv_stream(x)\n        val = self.value_stream(x)\n        adv_mean = adv.mean(dim=1, keepdim=True)\n        q = val + (adv - adv_mean)\n        return q",
   "metadata": {
    "id": "Le3YivEcargi",
    "papermill": {
     "duration": null,
     "end_time": null,
     "exception": null,
     "start_time": null,
     "status": "pending"
    },
    "tags": [],
    "ExecuteTime": {
     "end_time": "2025-05-11T17:15:39.171481Z",
     "start_time": "2025-05-11T17:15:39.166475Z"
    },
    "trusted": true,
    "execution": {
     "iopub.status.busy": "2025-05-11T20:23:55.429027Z",
     "iopub.execute_input": "2025-05-11T20:23:55.429265Z",
     "iopub.status.idle": "2025-05-11T20:23:55.443610Z",
     "shell.execute_reply.started": "2025-05-11T20:23:55.429244Z",
     "shell.execute_reply": "2025-05-11T20:23:55.442970Z"
    }
   },
   "outputs": [],
   "execution_count": 19
  },
  {
   "id": "67ecbbbc",
   "cell_type": "markdown",
   "source": "Let's make a simple test for the network architecture:",
   "metadata": {
    "id": "DXyunVwmargi",
    "papermill": {
     "duration": null,
     "end_time": null,
     "exception": null,
     "start_time": null,
     "status": "pending"
    },
    "tags": []
   }
  },
  {
   "id": "6bce76b6",
   "cell_type": "code",
   "source": "@torch.no_grad()\ndef test_network_part_shapes(backbone, head):\n    batch_size = 3\n    env = make_final_env()\n    s, _ = env.reset()\n    inp = torch.rand(batch_size, *s.shape)\n\n    features = backbone(inp)\n    qvalues = head(features)\n\n    assert features.ndim == 2, features.shape\n    assert features.shape[0] == batch_size, features.shape\n\n    assert qvalues.ndim == 2, qvalues.shape\n    assert qvalues.shape[0] == batch_size, qvalues.shape\n    assert qvalues.shape[1] == N_ACTIONS, qvalues.shape\n\n    print(\"Test passed!\")\n\n\ntest_network_part_shapes(\n    backbone=ConvBackbone(N_FRAMES_STACKED),\n    head=DuelingDqnHead(N_ACTIONS),\n)",
   "metadata": {
    "id": "yCCsiDnxargi",
    "papermill": {
     "duration": null,
     "end_time": null,
     "exception": null,
     "start_time": null,
     "status": "pending"
    },
    "tags": [],
    "ExecuteTime": {
     "end_time": "2025-05-11T17:15:39.307966Z",
     "start_time": "2025-05-11T17:15:39.225740Z"
    },
    "trusted": true,
    "execution": {
     "iopub.status.busy": "2025-05-11T20:23:55.444474Z",
     "iopub.execute_input": "2025-05-11T20:23:55.444746Z",
     "iopub.status.idle": "2025-05-11T20:23:55.798633Z",
     "shell.execute_reply.started": "2025-05-11T20:23:55.444730Z",
     "shell.execute_reply": "2025-05-11T20:23:55.797858Z"
    }
   },
   "outputs": [
    {
     "name": "stdout",
     "text": "Test passed!\n",
     "output_type": "stream"
    }
   ],
   "execution_count": 20
  },
  {
   "id": "9a397412",
   "cell_type": "markdown",
   "source": "**Now let's build a full model.**",
   "metadata": {
    "id": "O8VrPBAlargj",
    "papermill": {
     "duration": null,
     "end_time": null,
     "exception": null,
     "start_time": null,
     "status": "pending"
    },
    "tags": []
   }
  },
  {
   "id": "83f7f5fa",
   "cell_type": "code",
   "source": "import torch\nimport torch.nn as nn\nimport numpy as np\n\n# Число фреймов, складываемых по каналу (обычно 4)\nN_FRAMES_STACKED = 4\n\n\nclass ConvBackbone(nn.Sequential):\n    \"\"\"\n    Сверточная часть DQN. Берёт на вход c_in каналов (сколько кадров стекаем),\n    выдаёт плоский вектор признаков.\n    \"\"\"\n\n    def __init__(self, c_in: int = N_FRAMES_STACKED) -> None:\n        super().__init__(\n            nn.Conv2d(in_channels=c_in, out_channels=32, kernel_size=8, stride=4),\n            nn.ReLU(inplace=True),\n            nn.Conv2d(in_channels=32, out_channels=64, kernel_size=4, stride=2),\n            nn.ReLU(inplace=True),\n            nn.Conv2d(in_channels=64, out_channels=64, kernel_size=3, stride=1),\n            nn.ReLU(inplace=True),\n            nn.Flatten(),\n        )\n\n\nMAX_UINT_8 = 2 ** 8 - 1\n\n\nclass InputScaler(nn.Module):\n    \"\"\"\n    Масштабирование uint8→[0,1]\n    \"\"\"\n\n    def __init__(self, mult: float = 1 / MAX_UINT_8) -> None:\n        super().__init__()\n        self.mult = mult\n\n    def forward(self, x: torch.Tensor) -> torch.Tensor:\n        return x * self.mult\n\n\nclass GradScalerFunctional(torch.autograd.Function):\n    \"\"\"\n    A torch.autograd.Function works as Identity on forward pass\n    and scales the gradient by scale_factor on backward pass.\n    \"\"\"\n\n    @staticmethod\n    def forward(ctx, input, scale_factor):\n        ctx.scale_factor = scale_factor\n        return input\n\n    @staticmethod\n    def backward(ctx, grad_output):\n        return grad_output * ctx.scale_factor, None\n\n\nclass GradientScaler(nn.Module):\n    \"\"\"\n    Инкапсулирует GradScalerFunctional для масштабирования градиента\n    \"\"\"\n\n    def __init__(self, scale_factor: float) -> None:\n        super().__init__()\n        self.scale_factor = scale_factor\n\n    def forward(self, x: torch.Tensor) -> torch.Tensor:\n        return GradScalerFunctional.apply(x, self.scale_factor)\n\n\nclass DuelingDqnHead(nn.Module):\n    \"\"\"\n    Голова Dueling DQN: разделение на Advantage и Value потоки,\n    объединяет их в выходные Q-значения.\n    \"\"\"\n\n    def __init__(self, n_actions: int, inp_size: int = 64 * 7 * 7, hidden_size: int = 512) -> None:\n        super().__init__()\n        self.adv_stream = nn.Sequential(\n            nn.Linear(inp_size, hidden_size),\n            nn.ReLU(inplace=True),\n            nn.Linear(hidden_size, n_actions),\n        )\n        self.value_stream = nn.Sequential(\n            nn.Linear(inp_size, hidden_size),\n            nn.ReLU(inplace=True),\n            nn.Linear(hidden_size, 1),\n        )\n\n    def forward(self, x: torch.Tensor) -> torch.Tensor:\n        assert x.ndim == 2, f\"Expected 2D tensor, got {x.shape}\"\n        adv = self.adv_stream(x)\n        val = self.value_stream(x)\n        adv_mean = adv.mean(dim=1, keepdim=True)\n        q = val + (adv - adv_mean)\n        return q\n\n\nclass DQNetworkDueling(nn.Sequential):\n    def __init__(self, c_in: int, n_actions: int) -> None:\n        input_scaler = InputScaler()\n        backbone = ConvBackbone(c_in=c_in)\n        grad_scaler = GradientScaler(1 / 2 ** 0.5)\n        head = DuelingDqnHead(n_actions=n_actions)\n        super().__init__(input_scaler, backbone, grad_scaler, head)\n",
   "metadata": {
    "id": "eZL2Ivwgargj",
    "papermill": {
     "duration": null,
     "end_time": null,
     "exception": null,
     "start_time": null,
     "status": "pending"
    },
    "tags": [],
    "ExecuteTime": {
     "end_time": "2025-05-11T17:15:39.334467Z",
     "start_time": "2025-05-11T17:15:39.326486Z"
    },
    "trusted": true,
    "execution": {
     "iopub.status.busy": "2025-05-11T20:23:55.799560Z",
     "iopub.execute_input": "2025-05-11T20:23:55.799808Z",
     "iopub.status.idle": "2025-05-11T20:23:55.811346Z",
     "shell.execute_reply.started": "2025-05-11T20:23:55.799790Z",
     "shell.execute_reply": "2025-05-11T20:23:55.810625Z"
    }
   },
   "outputs": [],
   "execution_count": 21
  },
  {
   "id": "3f8e24c2",
   "cell_type": "code",
   "source": "@torch.no_grad()\ndef test_network_shapes(model):\n    batch_size = 3\n    env = make_final_env()\n    s, _ = env.reset()\n    inp = torch.rand(batch_size, *s.shape)\n\n    qvalues = model(inp)\n\n    assert qvalues.ndim == 2, qvalues.shape\n    assert qvalues.shape[0] == batch_size, qvalues.shape\n    assert qvalues.shape[1] == N_ACTIONS, qvalues.shape\n\n    print(\"Test passed!\")\n\n\ntest_network_shapes(model=DQNetworkDueling(N_FRAMES_STACKED, N_ACTIONS))",
   "metadata": {
    "id": "i_cyfOckargj",
    "papermill": {
     "duration": null,
     "end_time": null,
     "exception": null,
     "start_time": null,
     "status": "pending"
    },
    "tags": [],
    "ExecuteTime": {
     "end_time": "2025-05-11T17:15:39.455769Z",
     "start_time": "2025-05-11T17:15:39.369312Z"
    },
    "trusted": true,
    "execution": {
     "iopub.status.busy": "2025-05-11T20:23:55.812163Z",
     "iopub.execute_input": "2025-05-11T20:23:55.812479Z",
     "iopub.status.idle": "2025-05-11T20:23:56.043668Z",
     "shell.execute_reply.started": "2025-05-11T20:23:55.812458Z",
     "shell.execute_reply": "2025-05-11T20:23:56.042872Z"
    }
   },
   "outputs": [
    {
     "name": "stdout",
     "text": "Test passed!\n",
     "output_type": "stream"
    }
   ],
   "execution_count": 22
  },
  {
   "id": "f13a6222",
   "cell_type": "markdown",
   "source": "**Now let's wrap our model into an Agent class.**  \nIt will implement epsilon-greedy policy on numpy ndarrays.",
   "metadata": {
    "id": "guBBGmDwargj",
    "papermill": {
     "duration": null,
     "end_time": null,
     "exception": null,
     "start_time": null,
     "status": "pending"
    },
    "tags": []
   }
  },
  {
   "id": "fb4b3ed9",
   "cell_type": "code",
   "source": "class DQNAgent(nn.Module):\n    \"\"\"\n    Epsilon-greedy policy with a torch.nn.Module Q-value estimator.\n    \"\"\"\n\n    def __init__(self, q_network: nn.Module, epsilon: float = 1.0) -> None:\n        super().__init__()\n        self.epsilon = epsilon\n        self.q_network = q_network\n\n    def forward(self, state_t: torch.Tensor) -> torch.Tensor:\n        qvalues = self.q_network(state_t)\n        return qvalues\n\n    @torch.no_grad()\n    def get_qvalues(self, states: np.ndarray) -> np.ndarray:\n        model_device = next(self.parameters()).device\n        states_pt = torch.tensor(\n            np.array(states), device=model_device, dtype=torch.float32\n        )\n        qvalues_pt = self.forward(states_pt)\n        return qvalues_pt.cpu().numpy()\n\n    def sample_actions_by_qvalues(\n            self,\n            qvalues: np.ndarray,\n            greedy: bool = False\n    ) -> np.ndarray:\n        batch_size, n_actions = qvalues.shape\n        greedy_actions = qvalues.argmax(axis=-1)\n        if greedy:\n            return greedy_actions\n        random_actions = np.random.randint(low=0, high=n_actions, size=batch_size)\n        explore = np.random.rand(batch_size) < self.epsilon\n        return np.where(explore, random_actions, greedy_actions)\n\n    def sample_actions(\n            self,\n            states: np.ndarray,\n            greedy: bool = False\n    ) -> np.ndarray:\n        qvalues = self.get_qvalues(states)\n        return self.sample_actions_by_qvalues(qvalues, greedy)\n",
   "metadata": {
    "id": "Q0lZaISKargj",
    "papermill": {
     "duration": null,
     "end_time": null,
     "exception": null,
     "start_time": null,
     "status": "pending"
    },
    "tags": [],
    "ExecuteTime": {
     "end_time": "2025-05-11T17:15:39.478984Z",
     "start_time": "2025-05-11T17:15:39.473805Z"
    },
    "trusted": true,
    "execution": {
     "iopub.status.busy": "2025-05-11T20:23:56.044613Z",
     "iopub.execute_input": "2025-05-11T20:23:56.044871Z",
     "iopub.status.idle": "2025-05-11T20:23:56.051649Z",
     "shell.execute_reply.started": "2025-05-11T20:23:56.044854Z",
     "shell.execute_reply": "2025-05-11T20:23:56.050914Z"
    }
   },
   "outputs": [],
   "execution_count": 23
  },
  {
   "id": "f10f3836",
   "cell_type": "code",
   "source": "test_network_shapes(model=DQNAgent(DQNetworkDueling(N_FRAMES_STACKED, N_ACTIONS)))",
   "metadata": {
    "id": "3s9EK117argj",
    "papermill": {
     "duration": null,
     "end_time": null,
     "exception": null,
     "start_time": null,
     "status": "pending"
    },
    "tags": [],
    "ExecuteTime": {
     "end_time": "2025-05-11T17:15:39.611380Z",
     "start_time": "2025-05-11T17:15:39.529712Z"
    },
    "trusted": true,
    "execution": {
     "iopub.status.busy": "2025-05-11T20:23:56.052520Z",
     "iopub.execute_input": "2025-05-11T20:23:56.052774Z",
     "iopub.status.idle": "2025-05-11T20:23:56.264862Z",
     "shell.execute_reply.started": "2025-05-11T20:23:56.052749Z",
     "shell.execute_reply": "2025-05-11T20:23:56.264115Z"
    }
   },
   "outputs": [
    {
     "name": "stdout",
     "text": "Test passed!\n",
     "output_type": "stream"
    }
   ],
   "execution_count": 24
  },
  {
   "id": "d774017c",
   "cell_type": "code",
   "source": "agent = DQNAgent(DQNetworkDueling(N_FRAMES_STACKED, N_ACTIONS), epsilon=0.5).to(device)",
   "metadata": {
    "id": "BUFMLKX1soUC",
    "papermill": {
     "duration": null,
     "end_time": null,
     "exception": null,
     "start_time": null,
     "status": "pending"
    },
    "tags": [],
    "ExecuteTime": {
     "end_time": "2025-05-11T17:15:39.722735Z",
     "start_time": "2025-05-11T17:15:39.628477Z"
    },
    "trusted": true,
    "execution": {
     "iopub.status.busy": "2025-05-11T20:23:56.265782Z",
     "iopub.execute_input": "2025-05-11T20:23:56.266030Z",
     "iopub.status.idle": "2025-05-11T20:23:56.448873Z",
     "shell.execute_reply.started": "2025-05-11T20:23:56.266013Z",
     "shell.execute_reply": "2025-05-11T20:23:56.448279Z"
    }
   },
   "outputs": [],
   "execution_count": 25
  },
  {
   "id": "d9f92357",
   "cell_type": "markdown",
   "source": "Now let's try out our agent to see if it raises any errors.",
   "metadata": {
    "id": "XbsIT2EdsoUC",
    "papermill": {
     "duration": null,
     "end_time": null,
     "exception": null,
     "start_time": null,
     "status": "pending"
    },
    "tags": []
   }
  },
  {
   "id": "5e52e9cf",
   "cell_type": "code",
   "source": "def evaluate(env, agent, n_games=1, greedy=False, t_max=10000, seed=None):\n    \"\"\"Plays n_games full games. If greedy, picks actions as argmax(qvalues). Returns mean reward.\"\"\"\n    rewards = []\n    for _ in range(n_games):\n        s, _ = env.reset(seed=seed)\n        reward = 0\n        for _ in range(t_max):\n            action = agent.sample_actions(np.array(s)[None], greedy=greedy)[0]\n            s, r, terminated, truncated, _ = env.step(action)\n            reward += r\n            if terminated or truncated:\n                break\n\n        rewards.append(reward)\n    return np.mean(rewards)\n\n\nprint(evaluate(env, agent, n_games=1, greedy=False))\nprint(evaluate(env, agent, n_games=1, greedy=True))",
   "metadata": {
    "id": "pZR3qE2esoUC",
    "papermill": {
     "duration": null,
     "end_time": null,
     "exception": null,
     "start_time": null,
     "status": "pending"
    },
    "tags": [],
    "ExecuteTime": {
     "end_time": "2025-05-11T17:15:39.930550Z",
     "start_time": "2025-05-11T17:15:39.733736Z"
    },
    "trusted": true,
    "execution": {
     "iopub.status.busy": "2025-05-11T20:23:56.449613Z",
     "iopub.execute_input": "2025-05-11T20:23:56.449856Z",
     "iopub.status.idle": "2025-05-11T20:23:56.842738Z",
     "shell.execute_reply.started": "2025-05-11T20:23:56.449838Z",
     "shell.execute_reply": "2025-05-11T20:23:56.842112Z"
    }
   },
   "outputs": [
    {
     "name": "stdout",
     "text": "0.0\n1.0\n",
     "output_type": "stream"
    }
   ],
   "execution_count": 26
  },
  {
   "id": "ade349f1",
   "cell_type": "markdown",
   "source": "### Experience replay\nFor this assignment, we provide you with experience replay buffer.\n\n<img src=\"https://github.com/girafe-ai/ml-course/blob/24s_advanced/assignments/lab05_dqn/img/exp_replay.png?raw=1\" alt=\"exp_replay\" width=\"500\"/>\n<!-- ![img](https://github.com/yandexdataschool/Practical_RL/raw/master/yet_another_week/_resource/exp_replay.png) -->",
   "metadata": {
    "id": "2BiRixA-soUC",
    "papermill": {
     "duration": null,
     "end_time": null,
     "exception": null,
     "start_time": null,
     "status": "pending"
    },
    "tags": []
   }
  },
  {
   "id": "292c51e7",
   "cell_type": "markdown",
   "source": "#### The interface is fairly simple:\n* `exp_replay.add(obs, act, rw, next_obs, done)` - saves (s,a,r,s',done) tuple into the buffer\n* `exp_replay.sample(batch_size)` - returns observations, actions, rewards, next_observations and is_done for `batch_size` random samples.\n* `len(exp_replay)` - returns number of elements stored in replay buffer.",
   "metadata": {
    "id": "jTBZo5BVsoUC",
    "papermill": {
     "duration": null,
     "end_time": null,
     "exception": null,
     "start_time": null,
     "status": "pending"
    },
    "tags": []
   }
  },
  {
   "id": "31a212b8",
   "cell_type": "code",
   "source": "from dqn.replay_buffer import ReplayBuffer\n\nexp_replay = ReplayBuffer(10)\n\nfor _ in range(30):\n    exp_replay.add(env.reset()[0], env.action_space.sample(), 1.0, env.reset()[0], done=False)\n\nobs_batch, act_batch, reward_batch, next_obs_batch, is_done_batch = exp_replay.sample(5)\n\nassert len(exp_replay) == 10, \"experience replay size should be 10 because that's what maximum capacity is\"",
   "metadata": {
    "id": "Ydi0KK9LsoUC",
    "papermill": {
     "duration": null,
     "end_time": null,
     "exception": null,
     "start_time": null,
     "status": "pending"
    },
    "tags": [],
    "ExecuteTime": {
     "end_time": "2025-05-11T17:15:40.010290Z",
     "start_time": "2025-05-11T17:15:39.935554Z"
    },
    "trusted": true,
    "execution": {
     "iopub.status.busy": "2025-05-11T20:23:56.843631Z",
     "iopub.execute_input": "2025-05-11T20:23:56.843893Z",
     "iopub.status.idle": "2025-05-11T20:23:57.000700Z",
     "shell.execute_reply.started": "2025-05-11T20:23:56.843865Z",
     "shell.execute_reply": "2025-05-11T20:23:57.000125Z"
    }
   },
   "outputs": [],
   "execution_count": 27
  },
  {
   "id": "ef3de9b6",
   "cell_type": "markdown",
   "source": "**The `play_and_record` function, defined below is the main way the agent will interact with the environment during training.**\n\nPreviously we used to train RL algorithms on entire episodes.  \n\nThis time we keep the environment constantly running and will be getting small portions of interactions with it.\n\nThe agent takes several actions (4 actions in [2] and [3]), the corresponding (s, a, r, s', terminated) tuples are put into the replay buffer.  \nWhenever an episode finishes (i.e. `truncated or terminated`), the environment is reset and the procedure continues as usually.  \n\nTo make the first step in a constantly running environment, the agent needs to know the state of the environment. This is the meaning of the `initial_state` argument of the function.\n\nIt's worth noting, the agent does not train on the fresh tuples immediately. The agent trains on samples which are sampled from the buffer.\n\n**Implementation note:**\nWe define an `ActionSampler` protocol. The goal of it is to let the function `play_and_record` accept not only `DQNAgent` class instances, but any object that can sample actions.",
   "metadata": {
    "id": "B70ylPeZargk",
    "papermill": {
     "duration": null,
     "end_time": null,
     "exception": null,
     "start_time": null,
     "status": "pending"
    },
    "tags": []
   }
  },
  {
   "id": "80d64925",
   "cell_type": "code",
   "source": "class DqnActionSampler:\n    \"\"\"\n    DQNAgent works on batched np.ndarray inputs.\n    This class uses a DQNAgent to sample actions from single LazyFrames observations.\n\n    This will be an epsilon-greedy sampler.\n    A greedy sampler can be defined as well, but we won't need it.\n    \"\"\"\n\n    def __init__(self, agent: DQNAgent):\n        self.agent = agent\n\n    def __call__(self, state: LazyFrames) -> int:\n        state_batched = np.array(state)[None]\n        action_batched = self.agent.sample_actions(state_batched)\n        action = action_batched.item()\n        return action\n\n\nclass RandomActionSampler:\n    def __init__(self, action_space) -> None:\n        self.action_space = action_space\n\n    def __call__(self, state: LazyFrames) -> int:\n        return self.action_space.sample()\n\n\n@torch.no_grad()\ndef play_and_record(initial_state: LazyFrames,\n                    action_sampler: \"ActionSampler\",\n                    env,\n                    exp_replay,\n                    n_steps=1):\n    \"\"\"\n    Play the game for exactly n_steps, record every (s,a,r,s', done) to replay buffer.\n    Whenever game ends due to termination or truncation, add record with done=terminated and reset the game.\n    It is guaranteed that env has terminated=False when passed to this function.\n\n    PLEASE DO NOT RESET ENV UNLESS IT IS \"DONE\"\n\n    :returns: return sum of rewards over time and the state in which the env stays\n    \"\"\"\n    s = initial_state\n    sum_rewards = 0\n\n    for _ in range(n_steps):\n        a = action_sampler(s)\n        next_s, r, terminated, truncated, _ = env.step(a)\n        sum_rewards += r\n        exp_replay.add(s, a, r, next_s, terminated)\n        if terminated or truncated:\n            next_s, _ = env.reset()\n        s = next_s\n\n    return sum_rewards, s\n",
   "metadata": {
    "id": "cEXv69KWsoUC",
    "papermill": {
     "duration": null,
     "end_time": null,
     "exception": null,
     "start_time": null,
     "status": "pending"
    },
    "tags": [],
    "ExecuteTime": {
     "end_time": "2025-05-11T17:15:40.021358Z",
     "start_time": "2025-05-11T17:15:40.017274Z"
    },
    "trusted": true,
    "execution": {
     "iopub.status.busy": "2025-05-11T20:23:57.001374Z",
     "iopub.execute_input": "2025-05-11T20:23:57.001575Z",
     "iopub.status.idle": "2025-05-11T20:23:57.008133Z",
     "shell.execute_reply.started": "2025-05-11T20:23:57.001561Z",
     "shell.execute_reply": "2025-05-11T20:23:57.007477Z"
    }
   },
   "outputs": [],
   "execution_count": 28
  },
  {
   "id": "6669e2a5",
   "cell_type": "code",
   "source": "def test_play_and_record(action_sampler):\n    exp_replay = ReplayBuffer(10_000)\n\n    state, _ = env.reset()\n\n    # action_sampler = RandomActionSampler(env.action_space)\n    # action_sampler = DqnActionSampler(agent)\n    play_and_record(state, action_sampler, env, exp_replay, n_steps=1000)\n\n    # if you're using your own experience replay buffer, some of those tests may need correction.\n    # just make sure you know what your code does\n    assert (\n            len(exp_replay) == 1000\n    ), \"play_and_record should have added exactly 1000 steps, \" \"but instead added %i\" % len(exp_replay)\n    is_dones = list(zip(*exp_replay._storage))[-1]\n\n    assert 0 < np.mean(is_dones) < 0.1, (\n            \"Please make sure you restart the game whenever it is 'done' and \"\n            \"record the is_done correctly into the buffer. Got %f is_done rate over \"\n            \"%i steps. [If you think it's your tough luck, just re-run the test]\" % (np.mean(is_dones), len(exp_replay))\n    )\n\n    for _ in range(100):\n        obs_batch, act_batch, reward_batch, next_obs_batch, is_done_batch = exp_replay.sample(10)\n        assert obs_batch.shape == next_obs_batch.shape == (10,) + STATE_SHAPE\n        assert act_batch.shape == (10,), \"actions batch should have shape (10,) but is instead %s\" % str(\n            act_batch.shape\n        )\n        assert reward_batch.shape == (10,), \"rewards batch should have shape (10,) but is instead %s\" % str(\n            reward_batch.shape\n        )\n        assert is_done_batch.shape == (10,), \"is_done batch should have shape (10,) but is instead %s\" % str(\n            is_done_batch.shape\n        )\n        assert [int(i) in (0, 1) for i in is_dones], \"is_done should be strictly True or False\"\n        assert [0 <= a < N_ACTIONS for a in act_batch], \"actions should be within [0, n_actions)\"\n\n    print(\"Well done!\")\n\n\nprint(\"Random:\")\ntest_play_and_record(RandomActionSampler(env.action_space))\nprint(\"DQN:\")\ntest_play_and_record(DqnActionSampler(agent))",
   "metadata": {
    "id": "rV8zcfF5argk",
    "papermill": {
     "duration": null,
     "end_time": null,
     "exception": null,
     "start_time": null,
     "status": "pending"
    },
    "tags": [],
    "ExecuteTime": {
     "end_time": "2025-05-11T17:15:41.831813Z",
     "start_time": "2025-05-11T17:15:40.029052Z"
    },
    "trusted": true,
    "execution": {
     "iopub.status.busy": "2025-05-11T20:23:57.012605Z",
     "iopub.execute_input": "2025-05-11T20:23:57.012821Z",
     "iopub.status.idle": "2025-05-11T20:23:59.822294Z",
     "shell.execute_reply.started": "2025-05-11T20:23:57.012805Z",
     "shell.execute_reply": "2025-05-11T20:23:59.821691Z"
    }
   },
   "outputs": [
    {
     "name": "stdout",
     "text": "Random:\nWell done!\nDQN:\nWell done!\n",
     "output_type": "stream"
    }
   ],
   "execution_count": 29
  },
  {
   "id": "2bb50305",
   "cell_type": "markdown",
   "source": "### Target networks\n\nWe also employ the so called \"target network\" - a copy of neural network weights to be used for reference Q-values:\n\nThe network itself is an exact copy of agent network, but it's parameters are not trained. Instead, they are moved here from agent's actual network every so often.\n\n$$ Q_{reference}(s,a) = r + \\gamma \\cdot \\max _{a'} Q_{target}(s',a') $$\n\n![img](https://github.com/yandexdataschool/Practical_RL/raw/master/yet_another_week/_resource/target_net.png)",
   "metadata": {
    "id": "y5zyryPOsoUF",
    "papermill": {
     "duration": null,
     "end_time": null,
     "exception": null,
     "start_time": null,
     "status": "pending"
    },
    "tags": []
   }
  },
  {
   "id": "ec70ea55",
   "cell_type": "code",
   "source": "target_network = DQNetworkDueling(N_FRAMES_STACKED, N_ACTIONS).to(device)\ntarget_network.load_state_dict(agent.q_network.state_dict())",
   "metadata": {
    "id": "QED6ImHLargk",
    "papermill": {
     "duration": null,
     "end_time": null,
     "exception": null,
     "start_time": null,
     "status": "pending"
    },
    "tags": [],
    "ExecuteTime": {
     "end_time": "2025-05-11T17:15:41.857742Z",
     "start_time": "2025-05-11T17:15:41.841881Z"
    },
    "trusted": true,
    "execution": {
     "iopub.status.busy": "2025-05-11T20:23:59.823019Z",
     "iopub.execute_input": "2025-05-11T20:23:59.823271Z",
     "iopub.status.idle": "2025-05-11T20:23:59.862245Z",
     "shell.execute_reply.started": "2025-05-11T20:23:59.823244Z",
     "shell.execute_reply": "2025-05-11T20:23:59.861652Z"
    }
   },
   "outputs": [
    {
     "execution_count": 30,
     "output_type": "execute_result",
     "data": {
      "text/plain": "<All keys matched successfully>"
     },
     "metadata": {}
    }
   ],
   "execution_count": 30
  },
  {
   "id": "fda052c9",
   "cell_type": "markdown",
   "source": "### Learning with... Q-learning\nHere we write a function similar to `agent.update` from tabular q-learning.",
   "metadata": {
    "id": "2idY8QX0soUF",
    "papermill": {
     "duration": null,
     "end_time": null,
     "exception": null,
     "start_time": null,
     "status": "pending"
    },
    "tags": []
   }
  },
  {
   "id": "82b71168",
   "cell_type": "markdown",
   "source": "Compute Q-learning TD error:\n\n$$ L = { 1 \\over N} \\sum_i [ Q_{\\theta}(s,a) - Q_{reference}(s,a) ] ^2 $$\n\nWith Q-reference defined as\n\n$$ Q_{reference}(s,a) = r(s,a) + \\gamma \\cdot max_{a'} Q_{target}(s', a') $$\n\nWhere\n* $Q_{target}(s',a')$ denotes Q-value of next state and next action predicted by __target_network__\n* $s, a, r, s'$ are current state, action, reward and next state respectively\n* $\\gamma$ is a discount factor defined two cells above.\n\n\n__Note 1:__ there's an example input below. Feel free to experiment with it before you write the function.\n\n__Note 2:__ compute_td_loss is a major source of of bugs in this homework. We tried to cover it with tests, but if reward doesn't improve, it often helps to go through it line by line [with a rubber duck](https://rubberduckdebugging.com/).\n\n**Double DQN**\n\n$$ Q_{reference}(s,a) = r(s, a) + \\gamma \\cdot\nQ_{target}(s',argmax_{a'}Q_\\theta(s', a')) $$\n\nWe will use Double DQN for training, but **we ask you to implement both** of the methods to experience the difference.",
   "metadata": {
    "id": "k46MPwwwsoUF",
    "papermill": {
     "duration": null,
     "end_time": null,
     "exception": null,
     "start_time": null,
     "status": "pending"
    },
    "tags": []
   }
  },
  {
   "id": "83c80383",
   "cell_type": "code",
   "source": "def compute_td_loss_on_tensors(\n        states: torch.Tensor,  # (batch_size, *state_shape)\n        actions: torch.Tensor,  # (batch_size,)\n        rewards: torch.Tensor,  # (batch_size,)\n        next_states: torch.Tensor,  # (batch_size, *state_shape)\n        is_done: torch.Tensor,  # (batch_size,), torch.bool\n        agent: nn.Module,\n        target_network: nn.Module,\n        gamma: float = 0.99,\n        double_dqn: bool = False,\n        check_shapes=False,\n):\n    predicted_qvalues = agent(states)  # shape: [batch_size, n_actions]\n    assert is_done.dtype is torch.bool\n\n    # compute q-values for all actions in next states\n    with torch.no_grad():\n        next_q_target = target_network(next_states)  # [batch, n_actions]\n        if double_dqn:\n            next_q_online = agent(next_states)  # [batch, n_actions]\n            next_actions = next_q_online.argmax(dim=1)\n            next_state_values = next_q_target[\n                torch.arange(next_q_target.size(0)), next_actions\n            ]  # [batch]\n        else:\n            next_state_values, _ = next_q_target.max(dim=1)  # [batch]\n\n    predicted_qvalues_for_actions = predicted_qvalues[\n        torch.arange(actions.size(0)), actions\n    ]  # [batch]\n\n    if check_shapes:\n        assert next_state_values.dim() == 1 and next_state_values.size(0) == states.size(0)\n        assert not next_state_values.requires_grad\n\n    # target: r + γ * V(s') for non-terminal, else r\n    target_qvalues_for_actions = rewards + \\\n                                 gamma * next_state_values * (~is_done).float()\n\n    loss = torch.mean((predicted_qvalues_for_actions - target_qvalues_for_actions) ** 2)\n\n    if check_shapes:\n        assert next_q_target.dim() == 2\n        assert next_state_values.dim() == 1\n        assert target_qvalues_for_actions.dim() == 1\n\n    return loss\n",
   "metadata": {
    "id": "V02HcUYasoUG",
    "papermill": {
     "duration": null,
     "end_time": null,
     "exception": null,
     "start_time": null,
     "status": "pending"
    },
    "tags": [],
    "ExecuteTime": {
     "end_time": "2025-05-11T17:15:41.873094Z",
     "start_time": "2025-05-11T17:15:41.868598Z"
    },
    "trusted": true,
    "execution": {
     "iopub.status.busy": "2025-05-11T20:23:59.862933Z",
     "iopub.execute_input": "2025-05-11T20:23:59.863194Z",
     "iopub.status.idle": "2025-05-11T20:23:59.870315Z",
     "shell.execute_reply.started": "2025-05-11T20:23:59.863169Z",
     "shell.execute_reply": "2025-05-11T20:23:59.869507Z"
    }
   },
   "outputs": [],
   "execution_count": 31
  },
  {
   "id": "dd0f5f72",
   "cell_type": "code",
   "source": "from test_td_loss.compute_td_loss import test_compute_td_loss_vanilla\n\ntest_compute_td_loss_vanilla(compute_td_loss_on_tensors)\nprint(\"Well done!\")",
   "metadata": {
    "id": "W5KZfiODargl",
    "papermill": {
     "duration": null,
     "end_time": null,
     "exception": null,
     "start_time": null,
     "status": "pending"
    },
    "tags": [],
    "ExecuteTime": {
     "end_time": "2025-05-11T17:15:41.908651Z",
     "start_time": "2025-05-11T17:15:41.902988Z"
    },
    "trusted": true,
    "execution": {
     "iopub.status.busy": "2025-05-11T20:23:59.871182Z",
     "iopub.execute_input": "2025-05-11T20:23:59.871788Z",
     "iopub.status.idle": "2025-05-11T20:23:59.910300Z",
     "shell.execute_reply.started": "2025-05-11T20:23:59.871769Z",
     "shell.execute_reply": "2025-05-11T20:23:59.909651Z"
    }
   },
   "outputs": [
    {
     "name": "stdout",
     "text": "Well done!\n",
     "output_type": "stream"
    }
   ],
   "execution_count": 32
  },
  {
   "id": "4472e61f",
   "cell_type": "code",
   "source": "def compute_td_loss_on_tensors_double(\n        states: torch.Tensor,  # (batch_size, *state_shape)\n        actions: torch.Tensor,  # (batch_size,)\n        rewards: torch.Tensor,  # (batch_size,)\n        next_states: torch.Tensor,  # (batch_size, *state_shape)\n        is_done: torch.Tensor,  # (batch_size,), torch.bool\n        agent: nn.Module,\n        target_network: nn.Module,\n        gamma: float = 0.99,\n        check_shapes=False,\n):\n    predicted_qvalues = agent(states)  # shape: [batch_size, n_actions]\n    assert is_done.dtype is torch.bool\n\n    # compute q-values for all actions in next states\n    with torch.no_grad():\n        predicted_next_qvalues_target = target_network(next_states)  # shape: [batch_size, n_actions]\n        predicted_next_qvalues_online = agent(next_states)  # shape: [batch_size, n_actions]\n        next_actions = predicted_next_qvalues_online.argmax(dim=1)  # shape: [batch_size]\n        next_state_values = predicted_next_qvalues_target[\n            torch.arange(predicted_next_qvalues_target.size(0)), next_actions\n        ]  # shape: [batch_size]\n\n    # select q-values for chosen actions\n    predicted_qvalues_for_actions = predicted_qvalues[\n        torch.arange(actions.size(0)), actions\n    ]  # shape: [batch_size]\n\n    if check_shapes:\n        assert (\n                next_state_values.dim() == 1\n                and next_state_values.shape[0] == states.shape[0]\n        ), \"must predict one value per state\"\n        assert not next_state_values.requires_grad\n\n    # compute \"target q-values\" for loss\n    # at terminal states use Q(s,a) = r(s,a)\n    target_qvalues_for_actions = rewards + gamma * next_state_values * (~is_done).float()\n\n    # mean squared error loss to minimize\n    loss = torch.mean((predicted_qvalues_for_actions - target_qvalues_for_actions) ** 2)\n\n    if check_shapes:\n        assert (\n                predicted_next_qvalues_target.dim() == 2\n        ), \"make sure you predicted q-values for all actions in next state\"\n        assert (\n                next_state_values.dim() == 1\n        ), \"make sure you computed V(s') as selection over actions only\"\n        assert (\n                target_qvalues_for_actions.dim() == 1\n        ), \"target q-values must be a vector\"\n\n    return loss\n",
   "metadata": {
    "id": "GpQSAhqGargl",
    "papermill": {
     "duration": null,
     "end_time": null,
     "exception": null,
     "start_time": null,
     "status": "pending"
    },
    "tags": [],
    "ExecuteTime": {
     "end_time": "2025-05-11T17:15:41.937885Z",
     "start_time": "2025-05-11T17:15:41.933670Z"
    },
    "trusted": true,
    "execution": {
     "iopub.status.busy": "2025-05-11T20:23:59.910990Z",
     "iopub.execute_input": "2025-05-11T20:23:59.911190Z",
     "iopub.status.idle": "2025-05-11T20:23:59.918119Z",
     "shell.execute_reply.started": "2025-05-11T20:23:59.911167Z",
     "shell.execute_reply": "2025-05-11T20:23:59.917452Z"
    }
   },
   "outputs": [],
   "execution_count": 33
  },
  {
   "id": "4dbdd126",
   "cell_type": "code",
   "source": "from test_td_loss.compute_td_loss import test_compute_td_loss_double\n\ntest_compute_td_loss_double(compute_td_loss_on_tensors_double)\nprint(\"Well done!\")",
   "metadata": {
    "id": "0p6NstVrargl",
    "papermill": {
     "duration": null,
     "end_time": null,
     "exception": null,
     "start_time": null,
     "status": "pending"
    },
    "tags": [],
    "ExecuteTime": {
     "end_time": "2025-05-11T17:15:41.970920Z",
     "start_time": "2025-05-11T17:15:41.966920Z"
    },
    "trusted": true,
    "execution": {
     "iopub.status.busy": "2025-05-11T20:23:59.918946Z",
     "iopub.execute_input": "2025-05-11T20:23:59.919238Z",
     "iopub.status.idle": "2025-05-11T20:23:59.939525Z",
     "shell.execute_reply.started": "2025-05-11T20:23:59.919190Z",
     "shell.execute_reply": "2025-05-11T20:23:59.938874Z"
    }
   },
   "outputs": [
    {
     "name": "stdout",
     "text": "Well done!\n",
     "output_type": "stream"
    }
   ],
   "execution_count": 34
  },
  {
   "id": "2f577956",
   "cell_type": "markdown",
   "source": "**The following function works on np.ndarrays: it converts its inputs to torch.Tensors and calls the torch-tensor function**",
   "metadata": {
    "id": "zb_wHxTlargl",
    "papermill": {
     "duration": null,
     "end_time": null,
     "exception": null,
     "start_time": null,
     "status": "pending"
    },
    "tags": []
   }
  },
  {
   "id": "8cd1ed45",
   "cell_type": "code",
   "source": "def compute_td_loss(\n        states,\n        actions,\n        rewards,\n        next_states,\n        is_done,\n        agent,\n        target_network,\n        gamma=0.99,\n        check_shapes=False,\n        device=None,\n        tensor_loss_evaluator=compute_td_loss_on_tensors_double,\n):\n    \"\"\"Compute td loss using torch operations only. Use the formulae above.\"\"\"\n\n    if device is None:\n        device = next(agent.parameters()).device\n    states = torch.tensor(states, device=device, dtype=torch.float32)  # shape: [batch_size, *state_shape]\n    actions = torch.tensor(actions, device=device, dtype=torch.int64)  # shape: [batch_size]\n    rewards = torch.tensor(rewards, device=device, dtype=torch.float32)  # shape: [batch_size]\n    # shape: [batch_size, *state_shape]\n    next_states = torch.tensor(next_states, device=device, dtype=torch.float)\n    is_done = torch.tensor(is_done, device=device, dtype=torch.bool)  # shape: [batch_size]\n\n    return tensor_loss_evaluator(\n        states=states,\n        actions=actions,\n        rewards=rewards,\n        next_states=next_states,\n        is_done=is_done,\n        agent=agent,\n        target_network=target_network,\n        gamma=gamma,\n        check_shapes=check_shapes,\n    )",
   "metadata": {
    "id": "dChqfSV1argl",
    "papermill": {
     "duration": null,
     "end_time": null,
     "exception": null,
     "start_time": null,
     "status": "pending"
    },
    "tags": [],
    "ExecuteTime": {
     "end_time": "2025-05-11T17:15:41.997465Z",
     "start_time": "2025-05-11T17:15:41.993955Z"
    },
    "trusted": true,
    "execution": {
     "iopub.status.busy": "2025-05-11T20:23:59.940306Z",
     "iopub.execute_input": "2025-05-11T20:23:59.940552Z",
     "iopub.status.idle": "2025-05-11T20:23:59.946327Z",
     "shell.execute_reply.started": "2025-05-11T20:23:59.940529Z",
     "shell.execute_reply": "2025-05-11T20:23:59.945824Z"
    }
   },
   "outputs": [],
   "execution_count": 35
  },
  {
   "id": "95e7bc88",
   "cell_type": "markdown",
   "source": "Sanity checks",
   "metadata": {
    "id": "x8AvquAtsoUG",
    "papermill": {
     "duration": null,
     "end_time": null,
     "exception": null,
     "start_time": null,
     "status": "pending"
    },
    "tags": []
   }
  },
  {
   "id": "fdd17cb7",
   "cell_type": "code",
   "source": "obs_batch, act_batch, reward_batch, next_obs_batch, is_done_batch = exp_replay.sample(10)\n\nloss = compute_td_loss(\n    obs_batch,\n    act_batch,\n    reward_batch,\n    next_obs_batch,\n    is_done_batch,\n    agent,\n    target_network,\n    gamma=0.99,\n    check_shapes=True,\n)\nloss.backward()\n\nassert loss.requires_grad and tuple(loss.data.size()) == (), \"you must return scalar loss - mean over batch\"\nassert np.any(\n    next(agent.parameters()).grad.data.cpu().numpy() != 0\n), \"loss must be differentiable w.r.t. network weights\"\nassert np.all(next(target_network.parameters()).grad is None), \"target network should not have grads\"",
   "metadata": {
    "id": "5nRoOn30soUG",
    "papermill": {
     "duration": null,
     "end_time": null,
     "exception": null,
     "start_time": null,
     "status": "pending"
    },
    "tags": [],
    "ExecuteTime": {
     "end_time": "2025-05-11T17:15:42.149943Z",
     "start_time": "2025-05-11T17:15:42.011949Z"
    },
    "trusted": true,
    "execution": {
     "iopub.status.busy": "2025-05-11T20:23:59.947164Z",
     "iopub.execute_input": "2025-05-11T20:23:59.947412Z",
     "iopub.status.idle": "2025-05-11T20:24:00.515942Z",
     "shell.execute_reply.started": "2025-05-11T20:23:59.947376Z",
     "shell.execute_reply": "2025-05-11T20:24:00.515353Z"
    }
   },
   "outputs": [],
   "execution_count": 36
  },
  {
   "id": "3240cf83",
   "cell_type": "markdown",
   "source": "## Main loop (3 pts)\n\n**If deadline is tonight and it has not converged:** It is ok. Send the notebook today and when it converges send it again.\nIf the code is exactly the same points will not be discounted.\n\nIt's time to put everything together and see if it learns anything.",
   "metadata": {
    "id": "KIplL0hSsoUG",
    "papermill": {
     "duration": null,
     "end_time": null,
     "exception": null,
     "start_time": null,
     "status": "pending"
    },
    "tags": []
   }
  },
  {
   "id": "253f1b64",
   "cell_type": "code",
   "source": "import matplotlib.pyplot as plt\nfrom IPython.display import clear_output\nfrom tqdm.auto import trange",
   "metadata": {
    "id": "-JV-ulB-soUG",
    "papermill": {
     "duration": null,
     "end_time": null,
     "exception": null,
     "start_time": null,
     "status": "pending"
    },
    "tags": [],
    "ExecuteTime": {
     "end_time": "2025-05-11T17:15:42.194871Z",
     "start_time": "2025-05-11T17:15:42.189802Z"
    },
    "trusted": true,
    "execution": {
     "iopub.status.busy": "2025-05-11T20:24:00.516744Z",
     "iopub.execute_input": "2025-05-11T20:24:00.516954Z",
     "iopub.status.idle": "2025-05-11T20:24:00.635037Z",
     "shell.execute_reply.started": "2025-05-11T20:24:00.516938Z",
     "shell.execute_reply": "2025-05-11T20:24:00.634475Z"
    }
   },
   "outputs": [],
   "execution_count": 37
  },
  {
   "id": "f57ef253",
   "cell_type": "code",
   "source": "import random\n\nseed = 42\nrandom.seed(seed)\nnp.random.seed(seed)\ntorch.manual_seed(seed)",
   "metadata": {
    "id": "2hrfj_BUargm",
    "papermill": {
     "duration": null,
     "end_time": null,
     "exception": null,
     "start_time": null,
     "status": "pending"
    },
    "tags": [],
    "ExecuteTime": {
     "end_time": "2025-05-11T17:15:42.210749Z",
     "start_time": "2025-05-11T17:15:42.205232Z"
    },
    "trusted": true,
    "execution": {
     "iopub.status.busy": "2025-05-11T20:24:00.635845Z",
     "iopub.execute_input": "2025-05-11T20:24:00.636097Z",
     "iopub.status.idle": "2025-05-11T20:24:00.643769Z",
     "shell.execute_reply.started": "2025-05-11T20:24:00.636074Z",
     "shell.execute_reply": "2025-05-11T20:24:00.643176Z"
    }
   },
   "outputs": [
    {
     "execution_count": 38,
     "output_type": "execute_result",
     "data": {
      "text/plain": "<torch._C.Generator at 0x7f07c299c0f0>"
     },
     "metadata": {}
    }
   ],
   "execution_count": 38
  },
  {
   "id": "60bfca77",
   "cell_type": "code",
   "source": "env = make_final_env()\n\nstate, _ = env.reset(seed=seed)\n\nagent = DQNAgent(DQNetworkDueling(N_FRAMES_STACKED, N_ACTIONS), epsilon=1).to(device)\ntarget_network = DQNetworkDueling(N_FRAMES_STACKED, N_ACTIONS).to(device)\ntarget_network.load_state_dict(agent.q_network.state_dict())\n\naction_sampler = DqnActionSampler(agent)\naction_sampler_random = RandomActionSampler(env.action_space)",
   "metadata": {
    "id": "-eurxA-_soUG",
    "papermill": {
     "duration": null,
     "end_time": null,
     "exception": null,
     "start_time": null,
     "status": "pending"
    },
    "tags": [],
    "ExecuteTime": {
     "end_time": "2025-05-11T17:15:42.368835Z",
     "start_time": "2025-05-11T17:15:42.231539Z"
    },
    "trusted": true,
    "execution": {
     "iopub.status.busy": "2025-05-11T20:24:00.644576Z",
     "iopub.execute_input": "2025-05-11T20:24:00.644836Z",
     "iopub.status.idle": "2025-05-11T20:24:01.054965Z",
     "shell.execute_reply.started": "2025-05-11T20:24:00.644812Z",
     "shell.execute_reply": "2025-05-11T20:24:01.054375Z"
    }
   },
   "outputs": [],
   "execution_count": 39
  },
  {
   "id": "ca643e3a",
   "cell_type": "markdown",
   "source": "Buffer of size $10^4$ can probably pass the threshold for this assignment.\n\nLarger sizes ($10^5$ and $10^6$ are common) can show a much higher score.",
   "metadata": {
    "id": "WZg25kIasoUG",
    "papermill": {
     "duration": null,
     "end_time": null,
     "exception": null,
     "start_time": null,
     "status": "pending"
    },
    "tags": []
   }
  },
  {
   "id": "54cf1368",
   "cell_type": "code",
   "source": "from dqn.utils import is_enough_ram\n\nREPLAY_BUFFER_SIZE = 10 ** 6\n# INITIAL_BUFFER_FILL = 50_000  # Nature DQN Extended Data Table 1\nINITIAL_BUFFER_FILL = 200_000  # Rainbow without prioritization\n_n_steps = 100\n\nexp_replay = ReplayBuffer(REPLAY_BUFFER_SIZE)\nfor i in trange(INITIAL_BUFFER_FILL // _n_steps):\n    if not is_enough_ram(min_available_gb=0.1):\n        print(\n            \"\"\"\n            Less than 100 Mb RAM available.\n            Make sure the buffer size in not too huge.\n            Also check, maybe other processes consume RAM heavily.\n            \"\"\"\n        )\n        break\n    play_and_record(state, action_sampler_random, env, exp_replay, n_steps=_n_steps)\n    if len(exp_replay) >= INITIAL_BUFFER_FILL:\n        break\nprint(len(exp_replay))",
   "metadata": {
    "id": "hWyMxfN4soUG",
    "papermill": {
     "duration": null,
     "end_time": null,
     "exception": null,
     "start_time": null,
     "status": "pending"
    },
    "scrolled": true,
    "tags": [],
    "ExecuteTime": {
     "end_time": "2025-05-11T17:17:18.686948Z",
     "start_time": "2025-05-11T17:15:42.378259Z"
    },
    "trusted": true,
    "execution": {
     "iopub.status.busy": "2025-05-11T20:25:46.112662Z",
     "iopub.execute_input": "2025-05-11T20:25:46.113237Z",
     "iopub.status.idle": "2025-05-11T20:28:39.984903Z",
     "shell.execute_reply.started": "2025-05-11T20:25:46.113214Z",
     "shell.execute_reply": "2025-05-11T20:28:39.984150Z"
    }
   },
   "outputs": [
    {
     "output_type": "display_data",
     "data": {
      "text/plain": "  0%|          | 0/2000 [00:00<?, ?it/s]",
      "application/vnd.jupyter.widget-view+json": {
       "version_major": 2,
       "version_minor": 0,
       "model_id": "f237fb70af6a4165b329d84e4a0e371b"
      }
     },
     "metadata": {}
    },
    {
     "name": "stdout",
     "text": "200000\n",
     "output_type": "stream"
    }
   ],
   "execution_count": 43
  },
  {
   "id": "96d91e0ec7b52c0f",
   "cell_type": "code",
   "source": "torch.cuda.synchronize()",
   "metadata": {
    "ExecuteTime": {
     "end_time": "2025-05-11T17:17:18.706667Z",
     "start_time": "2025-05-11T17:17:18.703664Z"
    },
    "trusted": true,
    "execution": {
     "iopub.status.busy": "2025-05-11T20:38:38.808465Z",
     "iopub.execute_input": "2025-05-11T20:38:38.808758Z",
     "iopub.status.idle": "2025-05-11T20:38:38.813133Z",
     "shell.execute_reply.started": "2025-05-11T20:38:38.808735Z",
     "shell.execute_reply": "2025-05-11T20:38:38.812293Z"
    }
   },
   "outputs": [],
   "execution_count": 44
  },
  {
   "id": "d71a12a1",
   "cell_type": "code",
   "source": "len(exp_replay)",
   "metadata": {
    "id": "juVlh5lCargm",
    "papermill": {
     "duration": null,
     "end_time": null,
     "exception": null,
     "start_time": null,
     "status": "pending"
    },
    "tags": [],
    "ExecuteTime": {
     "end_time": "2025-05-11T17:17:18.726819Z",
     "start_time": "2025-05-11T17:17:18.723802Z"
    },
    "trusted": true,
    "execution": {
     "iopub.status.busy": "2025-05-11T20:38:40.967624Z",
     "iopub.execute_input": "2025-05-11T20:38:40.967898Z",
     "iopub.status.idle": "2025-05-11T20:38:40.972739Z",
     "shell.execute_reply.started": "2025-05-11T20:38:40.967878Z",
     "shell.execute_reply": "2025-05-11T20:38:40.971959Z"
    }
   },
   "outputs": [
    {
     "execution_count": 45,
     "output_type": "execute_result",
     "data": {
      "text/plain": "200000"
     },
     "metadata": {}
    }
   ],
   "execution_count": 45
  },
  {
   "id": "8d4cc856",
   "cell_type": "code",
   "source": "update_frequency = (\n    4  # n_steps for play_and_record; Nature DQN Extended Data Table 1 + Rainbow Table 4: Additional hyper-parameters\n)\nbatch_size = 32  # Nature DQN Extended Data Table 1 + Table 4: Additional hyper-parameters\ntotal_steps = 10 * 10 ** 6  # this can be long, feel free to stop the training when the target score is reached\ndecay_steps = 10 ** 6  # Nature DQN Extended Data Table 1\n\nopt = torch.optim.Adam(agent.parameters(), lr=6.25e-05, eps=1.4e-4)  # Rainbow\n\ninit_epsilon = 1  # Nature DQN\nfinal_epsilon = 0.1  # Nature DQN\n\nloss_freq = 100\nrefresh_target_network_freq = 10_000  # Nature DQN\neval_freq = 10_000\n\nmax_grad_norm = 10  # Dueling DQN\n\nn_lives = 5",
   "metadata": {
    "id": "_ca9vbW4soUG",
    "papermill": {
     "duration": null,
     "end_time": null,
     "exception": null,
     "start_time": null,
     "status": "pending"
    },
    "tags": [],
    "ExecuteTime": {
     "end_time": "2025-05-11T17:17:19.577420Z",
     "start_time": "2025-05-11T17:17:18.756518Z"
    },
    "trusted": true,
    "execution": {
     "iopub.status.busy": "2025-05-11T20:38:43.773712Z",
     "iopub.execute_input": "2025-05-11T20:38:43.774195Z",
     "iopub.status.idle": "2025-05-11T20:38:45.942196Z",
     "shell.execute_reply.started": "2025-05-11T20:38:43.774164Z",
     "shell.execute_reply": "2025-05-11T20:38:45.941645Z"
    }
   },
   "outputs": [],
   "execution_count": 46
  },
  {
   "id": "9c5b2778",
   "cell_type": "code",
   "source": "step = 0",
   "metadata": {
    "id": "oJWs0q-6soUG",
    "papermill": {
     "duration": null,
     "end_time": null,
     "exception": null,
     "start_time": null,
     "status": "pending"
    },
    "tags": [],
    "ExecuteTime": {
     "end_time": "2025-05-11T17:17:19.590343Z",
     "start_time": "2025-05-11T17:17:19.587286Z"
    },
    "trusted": true,
    "execution": {
     "iopub.status.busy": "2025-05-11T20:38:49.571302Z",
     "iopub.execute_input": "2025-05-11T20:38:49.571742Z",
     "iopub.status.idle": "2025-05-11T20:38:49.576100Z",
     "shell.execute_reply.started": "2025-05-11T20:38:49.571719Z",
     "shell.execute_reply": "2025-05-11T20:38:49.575357Z"
    }
   },
   "outputs": [],
   "execution_count": 47
  },
  {
   "id": "70182f5e",
   "cell_type": "code",
   "source": "import time\n\n\ndef wait_for_keyboard_interrupt():\n    try:\n        while True:\n            time.sleep(1)\n    except KeyboardInterrupt:\n        pass",
   "metadata": {
    "id": "675-JU0hsoUG",
    "papermill": {
     "duration": null,
     "end_time": null,
     "exception": null,
     "start_time": null,
     "status": "pending"
    },
    "tags": [],
    "ExecuteTime": {
     "end_time": "2025-05-11T17:17:19.602810Z",
     "start_time": "2025-05-11T17:17:19.600808Z"
    },
    "trusted": true,
    "execution": {
     "iopub.status.busy": "2025-05-11T20:38:51.985518Z",
     "iopub.execute_input": "2025-05-11T20:38:51.986204Z",
     "iopub.status.idle": "2025-05-11T20:38:51.989893Z",
     "shell.execute_reply.started": "2025-05-11T20:38:51.986178Z",
     "shell.execute_reply": "2025-05-11T20:38:51.989060Z"
    }
   },
   "outputs": [],
   "execution_count": 48
  },
  {
   "id": "0ee8126f",
   "cell_type": "code",
   "source": "from dqn.utils import is_enough_ram, linear_decay\nfrom torch.utils.tensorboard import SummaryWriter\n\nwriter = SummaryWriter()",
   "metadata": {
    "id": "U1EsCoIiargm",
    "papermill": {
     "duration": null,
     "end_time": null,
     "exception": null,
     "start_time": null,
     "status": "pending"
    },
    "tags": [],
    "ExecuteTime": {
     "end_time": "2025-05-11T17:17:19.738867Z",
     "start_time": "2025-05-11T17:17:19.617090Z"
    },
    "trusted": true,
    "execution": {
     "iopub.status.busy": "2025-05-11T20:39:04.054210Z",
     "iopub.execute_input": "2025-05-11T20:39:04.055188Z",
     "iopub.status.idle": "2025-05-11T20:39:04.059874Z",
     "shell.execute_reply.started": "2025-05-11T20:39:04.055165Z",
     "shell.execute_reply": "2025-05-11T20:39:04.059203Z"
    }
   },
   "outputs": [],
   "execution_count": 50
  },
  {
   "id": "61ad8fbf",
   "cell_type": "code",
   "source": "%load_ext tensorboard\n%tensorboard --logdir runs",
   "metadata": {
    "id": "C8zFiFpmargm",
    "papermill": {
     "duration": null,
     "end_time": null,
     "exception": null,
     "start_time": null,
     "status": "pending"
    },
    "tags": [],
    "ExecuteTime": {
     "end_time": "2025-05-11T17:17:19.761001Z",
     "start_time": "2025-05-11T17:17:19.751661Z"
    },
    "trusted": true,
    "execution": {
     "iopub.status.busy": "2025-05-11T20:39:05.842575Z",
     "iopub.execute_input": "2025-05-11T20:39:05.843087Z",
     "iopub.status.idle": "2025-05-11T20:39:05.853076Z",
     "shell.execute_reply.started": "2025-05-11T20:39:05.843062Z",
     "shell.execute_reply": "2025-05-11T20:39:05.852333Z"
    }
   },
   "outputs": [
    {
     "name": "stdout",
     "text": "The tensorboard extension is already loaded. To reload it, use:\n  %reload_ext tensorboard\n",
     "output_type": "stream"
    },
    {
     "output_type": "display_data",
     "data": {
      "text/plain": "Reusing TensorBoard on port 6006 (pid 843), started 0:13:23 ago. (Use '!kill 843' to kill it.)"
     },
     "metadata": {}
    },
    {
     "output_type": "display_data",
     "data": {
      "text/plain": "<IPython.core.display.Javascript object>",
      "application/javascript": "\n        (async () => {\n            const url = new URL(await google.colab.kernel.proxyPort(6006, {'cache': true}));\n            url.searchParams.set('tensorboardColab', 'true');\n            const iframe = document.createElement('iframe');\n            iframe.src = url;\n            iframe.setAttribute('width', '100%');\n            iframe.setAttribute('height', '800');\n            iframe.setAttribute('frameborder', 0);\n            document.body.appendChild(iframe);\n        })();\n    "
     },
     "metadata": {}
    }
   ],
   "execution_count": 51
  },
  {
   "id": "6858fe9d",
   "cell_type": "code",
   "source": "env = make_final_env()\nstate, _ = env.reset()\nwith trange(step, total_steps + 1) as progress_bar:\n    for step in progress_bar:\n        if not is_enough_ram():\n            print(\"less that 100 Mb RAM available, freezing\")\n            print(\"make sure everything is ok and use KeyboardInterrupt to continue\")\n            wait_for_keyboard_interrupt()\n\n        agent.epsilon = linear_decay(init_epsilon, final_epsilon, step, decay_steps)\n\n        # play\n        _, state = play_and_record(state, action_sampler, env, exp_replay, n_steps=update_frequency)\n\n        # train\n        s, a, r, s_next, done = exp_replay.sample(batch_size)\n        # <YOUR CODE: sample batch_size of data from experience replay>\n\n        loss = compute_td_loss(s, a, r, s_next, done, agent, target_network, device=device)\n\n        loss.backward()\n        grad_norm = nn.utils.clip_grad_norm_(agent.parameters(), max_grad_norm)\n        opt.step()\n        opt.zero_grad()\n\n        # if step % loss_freq == 0:\n        #     writer.add_scalar(\"loss\", loss.data.cpu().item(), step)\n        #     writer.add_scalar(\"grad_norm\", grad_norm.cpu().item(), step)\n\n        if step % refresh_target_network_freq == 0:\n            # Load agent weights into target_network\n            target_network.load_state_dict(agent.q_network.state_dict())\n            torch.save(agent.state_dict(), \"last_state_dict.pt\")\n\n        if step % eval_freq == 0:\n            mean_reward = evaluate(make_final_env(), agent, n_games=3 * n_lives, greedy=True, seed=step)\n            writer.add_scalar(\"mean_reward_per_life\", mean_reward, step)\n\n            initial_state_q_values = agent.get_qvalues([make_final_env().reset(seed=step)[0]])\n            writer.add_scalar(\"initial_state_v\", np.max(initial_state_q_values).item(), step)\n\n            # clear_output(True)\n            print(\"buffer size = %i, epsilon = %.5f\" % (len(exp_replay), agent.epsilon))",
   "metadata": {
    "id": "FgQ1vK3CsoUG",
    "papermill": {
     "duration": null,
     "end_time": null,
     "exception": null,
     "start_time": null,
     "status": "pending"
    },
    "scrolled": true,
    "tags": [],
    "jupyter": {
     "is_executing": true
    },
    "ExecuteTime": {
     "start_time": "2025-05-11T17:18:46.839055Z"
    },
    "trusted": true,
    "execution": {
     "iopub.status.busy": "2025-05-12T05:49:49.935449Z",
     "iopub.execute_input": "2025-05-12T05:49:49.935898Z",
     "iopub.status.idle": "2025-05-12T05:49:55.774603Z",
     "shell.execute_reply.started": "2025-05-12T05:49:49.935879Z",
     "shell.execute_reply": "2025-05-12T05:49:55.773539Z"
    }
   },
   "outputs": [
    {
     "output_type": "display_data",
     "data": {
      "text/plain": "  0%|          | 0/8127554 [00:00<?, ?it/s]",
      "application/vnd.jupyter.widget-view+json": {
       "version_major": 2,
       "version_minor": 0,
       "model_id": "a5e859736dcb4fdabac2372f7d968094"
      }
     },
     "metadata": {}
    },
    {
     "traceback": [
      "\u001B[0;31m---------------------------------------------------------------------------\u001B[0m",
      "\u001B[0;31mKeyboardInterrupt\u001B[0m                         Traceback (most recent call last)",
      "\u001B[0;32m/tmp/ipykernel_31/668111844.py\u001B[0m in \u001B[0;36m<cell line: 0>\u001B[0;34m()\u001B[0m\n\u001B[1;32m     11\u001B[0m \u001B[0;34m\u001B[0m\u001B[0m\n\u001B[1;32m     12\u001B[0m         \u001B[0;31m# play\u001B[0m\u001B[0;34m\u001B[0m\u001B[0;34m\u001B[0m\u001B[0m\n\u001B[0;32m---> 13\u001B[0;31m         \u001B[0m_\u001B[0m\u001B[0;34m,\u001B[0m \u001B[0mstate\u001B[0m \u001B[0;34m=\u001B[0m \u001B[0mplay_and_record\u001B[0m\u001B[0;34m(\u001B[0m\u001B[0mstate\u001B[0m\u001B[0;34m,\u001B[0m \u001B[0maction_sampler\u001B[0m\u001B[0;34m,\u001B[0m \u001B[0menv\u001B[0m\u001B[0;34m,\u001B[0m \u001B[0mexp_replay\u001B[0m\u001B[0;34m,\u001B[0m \u001B[0mn_steps\u001B[0m\u001B[0;34m=\u001B[0m\u001B[0mupdate_frequency\u001B[0m\u001B[0;34m)\u001B[0m\u001B[0;34m\u001B[0m\u001B[0;34m\u001B[0m\u001B[0m\n\u001B[0m\u001B[1;32m     14\u001B[0m \u001B[0;34m\u001B[0m\u001B[0m\n\u001B[1;32m     15\u001B[0m         \u001B[0;31m# train\u001B[0m\u001B[0;34m\u001B[0m\u001B[0;34m\u001B[0m\u001B[0m\n",
      "\u001B[0;32m/usr/local/lib/python3.11/dist-packages/torch/utils/_contextlib.py\u001B[0m in \u001B[0;36mdecorate_context\u001B[0;34m(*args, **kwargs)\u001B[0m\n\u001B[1;32m    114\u001B[0m     \u001B[0;32mdef\u001B[0m \u001B[0mdecorate_context\u001B[0m\u001B[0;34m(\u001B[0m\u001B[0;34m*\u001B[0m\u001B[0margs\u001B[0m\u001B[0;34m,\u001B[0m \u001B[0;34m**\u001B[0m\u001B[0mkwargs\u001B[0m\u001B[0;34m)\u001B[0m\u001B[0;34m:\u001B[0m\u001B[0;34m\u001B[0m\u001B[0;34m\u001B[0m\u001B[0m\n\u001B[1;32m    115\u001B[0m         \u001B[0;32mwith\u001B[0m \u001B[0mctx_factory\u001B[0m\u001B[0;34m(\u001B[0m\u001B[0;34m)\u001B[0m\u001B[0;34m:\u001B[0m\u001B[0;34m\u001B[0m\u001B[0;34m\u001B[0m\u001B[0m\n\u001B[0;32m--> 116\u001B[0;31m             \u001B[0;32mreturn\u001B[0m \u001B[0mfunc\u001B[0m\u001B[0;34m(\u001B[0m\u001B[0;34m*\u001B[0m\u001B[0margs\u001B[0m\u001B[0;34m,\u001B[0m \u001B[0;34m**\u001B[0m\u001B[0mkwargs\u001B[0m\u001B[0;34m)\u001B[0m\u001B[0;34m\u001B[0m\u001B[0;34m\u001B[0m\u001B[0m\n\u001B[0m\u001B[1;32m    117\u001B[0m \u001B[0;34m\u001B[0m\u001B[0m\n\u001B[1;32m    118\u001B[0m     \u001B[0;32mreturn\u001B[0m \u001B[0mdecorate_context\u001B[0m\u001B[0;34m\u001B[0m\u001B[0;34m\u001B[0m\u001B[0m\n",
      "\u001B[0;32m/tmp/ipykernel_31/3577230458.py\u001B[0m in \u001B[0;36mplay_and_record\u001B[0;34m(initial_state, action_sampler, env, exp_replay, n_steps)\u001B[0m\n\u001B[1;32m     45\u001B[0m \u001B[0;34m\u001B[0m\u001B[0m\n\u001B[1;32m     46\u001B[0m     \u001B[0;32mfor\u001B[0m \u001B[0m_\u001B[0m \u001B[0;32min\u001B[0m \u001B[0mrange\u001B[0m\u001B[0;34m(\u001B[0m\u001B[0mn_steps\u001B[0m\u001B[0;34m)\u001B[0m\u001B[0;34m:\u001B[0m\u001B[0;34m\u001B[0m\u001B[0;34m\u001B[0m\u001B[0m\n\u001B[0;32m---> 47\u001B[0;31m         \u001B[0ma\u001B[0m \u001B[0;34m=\u001B[0m \u001B[0maction_sampler\u001B[0m\u001B[0;34m(\u001B[0m\u001B[0ms\u001B[0m\u001B[0;34m)\u001B[0m\u001B[0;34m\u001B[0m\u001B[0;34m\u001B[0m\u001B[0m\n\u001B[0m\u001B[1;32m     48\u001B[0m         \u001B[0mnext_s\u001B[0m\u001B[0;34m,\u001B[0m \u001B[0mr\u001B[0m\u001B[0;34m,\u001B[0m \u001B[0mterminated\u001B[0m\u001B[0;34m,\u001B[0m \u001B[0mtruncated\u001B[0m\u001B[0;34m,\u001B[0m \u001B[0m_\u001B[0m \u001B[0;34m=\u001B[0m \u001B[0menv\u001B[0m\u001B[0;34m.\u001B[0m\u001B[0mstep\u001B[0m\u001B[0;34m(\u001B[0m\u001B[0ma\u001B[0m\u001B[0;34m)\u001B[0m\u001B[0;34m\u001B[0m\u001B[0;34m\u001B[0m\u001B[0m\n\u001B[1;32m     49\u001B[0m         \u001B[0msum_rewards\u001B[0m \u001B[0;34m+=\u001B[0m \u001B[0mr\u001B[0m\u001B[0;34m\u001B[0m\u001B[0;34m\u001B[0m\u001B[0m\n",
      "\u001B[0;32m/tmp/ipykernel_31/3577230458.py\u001B[0m in \u001B[0;36m__call__\u001B[0;34m(self, state)\u001B[0m\n\u001B[1;32m     12\u001B[0m \u001B[0;34m\u001B[0m\u001B[0m\n\u001B[1;32m     13\u001B[0m     \u001B[0;32mdef\u001B[0m \u001B[0m__call__\u001B[0m\u001B[0;34m(\u001B[0m\u001B[0mself\u001B[0m\u001B[0;34m,\u001B[0m \u001B[0mstate\u001B[0m\u001B[0;34m:\u001B[0m \u001B[0mLazyFrames\u001B[0m\u001B[0;34m)\u001B[0m \u001B[0;34m->\u001B[0m \u001B[0mint\u001B[0m\u001B[0;34m:\u001B[0m\u001B[0;34m\u001B[0m\u001B[0;34m\u001B[0m\u001B[0m\n\u001B[0;32m---> 14\u001B[0;31m         \u001B[0mstate_batched\u001B[0m \u001B[0;34m=\u001B[0m \u001B[0mnp\u001B[0m\u001B[0;34m.\u001B[0m\u001B[0marray\u001B[0m\u001B[0;34m(\u001B[0m\u001B[0mstate\u001B[0m\u001B[0;34m)\u001B[0m\u001B[0;34m[\u001B[0m\u001B[0;32mNone\u001B[0m\u001B[0;34m]\u001B[0m\u001B[0;34m\u001B[0m\u001B[0;34m\u001B[0m\u001B[0m\n\u001B[0m\u001B[1;32m     15\u001B[0m         \u001B[0maction_batched\u001B[0m \u001B[0;34m=\u001B[0m \u001B[0mself\u001B[0m\u001B[0;34m.\u001B[0m\u001B[0magent\u001B[0m\u001B[0;34m.\u001B[0m\u001B[0msample_actions\u001B[0m\u001B[0;34m(\u001B[0m\u001B[0mstate_batched\u001B[0m\u001B[0;34m)\u001B[0m\u001B[0;34m\u001B[0m\u001B[0;34m\u001B[0m\u001B[0m\n\u001B[1;32m     16\u001B[0m         \u001B[0maction\u001B[0m \u001B[0;34m=\u001B[0m \u001B[0maction_batched\u001B[0m\u001B[0;34m.\u001B[0m\u001B[0mitem\u001B[0m\u001B[0;34m(\u001B[0m\u001B[0;34m)\u001B[0m\u001B[0;34m\u001B[0m\u001B[0;34m\u001B[0m\u001B[0m\n",
      "\u001B[0;32m/usr/local/lib/python3.11/dist-packages/gymnasium/wrappers/frame_stack.py\u001B[0m in \u001B[0;36m__array__\u001B[0;34m(self, dtype)\u001B[0m\n\u001B[1;32m     55\u001B[0m             \u001B[0mThe\u001B[0m \u001B[0marray\u001B[0m \u001B[0mof\u001B[0m \u001B[0mstacked\u001B[0m \u001B[0mframes\u001B[0m \u001B[0;32mwith\u001B[0m \u001B[0mdtype\u001B[0m\u001B[0;34m\u001B[0m\u001B[0;34m\u001B[0m\u001B[0m\n\u001B[1;32m     56\u001B[0m         \"\"\"\n\u001B[0;32m---> 57\u001B[0;31m         \u001B[0marr\u001B[0m \u001B[0;34m=\u001B[0m \u001B[0mself\u001B[0m\u001B[0;34m[\u001B[0m\u001B[0;34m:\u001B[0m\u001B[0;34m]\u001B[0m\u001B[0;34m\u001B[0m\u001B[0;34m\u001B[0m\u001B[0m\n\u001B[0m\u001B[1;32m     58\u001B[0m         \u001B[0;32mif\u001B[0m \u001B[0mdtype\u001B[0m \u001B[0;32mis\u001B[0m \u001B[0;32mnot\u001B[0m \u001B[0;32mNone\u001B[0m\u001B[0;34m:\u001B[0m\u001B[0;34m\u001B[0m\u001B[0;34m\u001B[0m\u001B[0m\n\u001B[1;32m     59\u001B[0m             \u001B[0;32mreturn\u001B[0m \u001B[0marr\u001B[0m\u001B[0;34m.\u001B[0m\u001B[0mastype\u001B[0m\u001B[0;34m(\u001B[0m\u001B[0mdtype\u001B[0m\u001B[0;34m)\u001B[0m\u001B[0;34m\u001B[0m\u001B[0;34m\u001B[0m\u001B[0m\n",
      "\u001B[0;32m/usr/local/lib/python3.11/dist-packages/gymnasium/wrappers/frame_stack.py\u001B[0m in \u001B[0;36m__getitem__\u001B[0;34m(self, int_or_slice)\u001B[0m\n\u001B[1;32m     80\u001B[0m         \u001B[0;32mif\u001B[0m \u001B[0misinstance\u001B[0m\u001B[0;34m(\u001B[0m\u001B[0mint_or_slice\u001B[0m\u001B[0;34m,\u001B[0m \u001B[0mint\u001B[0m\u001B[0;34m)\u001B[0m\u001B[0;34m:\u001B[0m\u001B[0;34m\u001B[0m\u001B[0;34m\u001B[0m\u001B[0m\n\u001B[1;32m     81\u001B[0m             \u001B[0;32mreturn\u001B[0m \u001B[0mself\u001B[0m\u001B[0;34m.\u001B[0m\u001B[0m_check_decompress\u001B[0m\u001B[0;34m(\u001B[0m\u001B[0mself\u001B[0m\u001B[0;34m.\u001B[0m\u001B[0m_frames\u001B[0m\u001B[0;34m[\u001B[0m\u001B[0mint_or_slice\u001B[0m\u001B[0;34m]\u001B[0m\u001B[0;34m)\u001B[0m  \u001B[0;31m# single frame\u001B[0m\u001B[0;34m\u001B[0m\u001B[0;34m\u001B[0m\u001B[0m\n\u001B[0;32m---> 82\u001B[0;31m         return np.stack(\n\u001B[0m\u001B[1;32m     83\u001B[0m             \u001B[0;34m[\u001B[0m\u001B[0mself\u001B[0m\u001B[0;34m.\u001B[0m\u001B[0m_check_decompress\u001B[0m\u001B[0;34m(\u001B[0m\u001B[0mf\u001B[0m\u001B[0;34m)\u001B[0m \u001B[0;32mfor\u001B[0m \u001B[0mf\u001B[0m \u001B[0;32min\u001B[0m \u001B[0mself\u001B[0m\u001B[0;34m.\u001B[0m\u001B[0m_frames\u001B[0m\u001B[0;34m[\u001B[0m\u001B[0mint_or_slice\u001B[0m\u001B[0;34m]\u001B[0m\u001B[0;34m]\u001B[0m\u001B[0;34m,\u001B[0m \u001B[0maxis\u001B[0m\u001B[0;34m=\u001B[0m\u001B[0;36m0\u001B[0m\u001B[0;34m\u001B[0m\u001B[0;34m\u001B[0m\u001B[0m\n\u001B[1;32m     84\u001B[0m         )\n",
      "\u001B[0;32m/usr/local/lib/python3.11/dist-packages/numpy/core/shape_base.py\u001B[0m in \u001B[0;36mstack\u001B[0;34m(arrays, axis, out, dtype, casting)\u001B[0m\n\u001B[1;32m    445\u001B[0m         \u001B[0;32mraise\u001B[0m \u001B[0mValueError\u001B[0m\u001B[0;34m(\u001B[0m\u001B[0;34m'need at least one array to stack'\u001B[0m\u001B[0;34m)\u001B[0m\u001B[0;34m\u001B[0m\u001B[0;34m\u001B[0m\u001B[0m\n\u001B[1;32m    446\u001B[0m \u001B[0;34m\u001B[0m\u001B[0m\n\u001B[0;32m--> 447\u001B[0;31m     \u001B[0mshapes\u001B[0m \u001B[0;34m=\u001B[0m \u001B[0;34m{\u001B[0m\u001B[0marr\u001B[0m\u001B[0;34m.\u001B[0m\u001B[0mshape\u001B[0m \u001B[0;32mfor\u001B[0m \u001B[0marr\u001B[0m \u001B[0;32min\u001B[0m \u001B[0marrays\u001B[0m\u001B[0;34m}\u001B[0m\u001B[0;34m\u001B[0m\u001B[0;34m\u001B[0m\u001B[0m\n\u001B[0m\u001B[1;32m    448\u001B[0m     \u001B[0;32mif\u001B[0m \u001B[0mlen\u001B[0m\u001B[0;34m(\u001B[0m\u001B[0mshapes\u001B[0m\u001B[0;34m)\u001B[0m \u001B[0;34m!=\u001B[0m \u001B[0;36m1\u001B[0m\u001B[0;34m:\u001B[0m\u001B[0;34m\u001B[0m\u001B[0;34m\u001B[0m\u001B[0m\n\u001B[1;32m    449\u001B[0m         \u001B[0;32mraise\u001B[0m \u001B[0mValueError\u001B[0m\u001B[0;34m(\u001B[0m\u001B[0;34m'all input arrays must have the same shape'\u001B[0m\u001B[0;34m)\u001B[0m\u001B[0;34m\u001B[0m\u001B[0;34m\u001B[0m\u001B[0m\n",
      "\u001B[0;32m/usr/local/lib/python3.11/dist-packages/numpy/core/shape_base.py\u001B[0m in \u001B[0;36m<setcomp>\u001B[0;34m(.0)\u001B[0m\n\u001B[1;32m    445\u001B[0m         \u001B[0;32mraise\u001B[0m \u001B[0mValueError\u001B[0m\u001B[0;34m(\u001B[0m\u001B[0;34m'need at least one array to stack'\u001B[0m\u001B[0;34m)\u001B[0m\u001B[0;34m\u001B[0m\u001B[0;34m\u001B[0m\u001B[0m\n\u001B[1;32m    446\u001B[0m \u001B[0;34m\u001B[0m\u001B[0m\n\u001B[0;32m--> 447\u001B[0;31m     \u001B[0mshapes\u001B[0m \u001B[0;34m=\u001B[0m \u001B[0;34m{\u001B[0m\u001B[0marr\u001B[0m\u001B[0;34m.\u001B[0m\u001B[0mshape\u001B[0m \u001B[0;32mfor\u001B[0m \u001B[0marr\u001B[0m \u001B[0;32min\u001B[0m \u001B[0marrays\u001B[0m\u001B[0;34m}\u001B[0m\u001B[0;34m\u001B[0m\u001B[0;34m\u001B[0m\u001B[0m\n\u001B[0m\u001B[1;32m    448\u001B[0m     \u001B[0;32mif\u001B[0m \u001B[0mlen\u001B[0m\u001B[0;34m(\u001B[0m\u001B[0mshapes\u001B[0m\u001B[0;34m)\u001B[0m \u001B[0;34m!=\u001B[0m \u001B[0;36m1\u001B[0m\u001B[0;34m:\u001B[0m\u001B[0;34m\u001B[0m\u001B[0;34m\u001B[0m\u001B[0m\n\u001B[1;32m    449\u001B[0m         \u001B[0;32mraise\u001B[0m \u001B[0mValueError\u001B[0m\u001B[0;34m(\u001B[0m\u001B[0;34m'all input arrays must have the same shape'\u001B[0m\u001B[0;34m)\u001B[0m\u001B[0;34m\u001B[0m\u001B[0;34m\u001B[0m\u001B[0m\n",
      "\u001B[0;31mKeyboardInterrupt\u001B[0m: "
     ],
     "ename": "KeyboardInterrupt",
     "evalue": "",
     "output_type": "error"
    }
   ],
   "execution_count": 56
  },
  {
   "id": "27300f09",
   "cell_type": "code",
   "source": "agent = DQNAgent(DQNetworkDueling(N_FRAMES_STACKED, N_ACTIONS), epsilon=1).to(device)\nagent.load_state_dict(torch.load(\"last_state_dict.pt\"))",
   "metadata": {
    "id": "XZHZMBbiargn",
    "papermill": {
     "duration": null,
     "end_time": null,
     "exception": null,
     "start_time": null,
     "status": "pending"
    },
    "tags": [],
    "ExecuteTime": {
     "end_time": "2025-05-11T17:18:11.690406Z",
     "start_time": "2025-05-11T17:18:11.645406Z"
    },
    "trusted": true,
    "execution": {
     "iopub.status.busy": "2025-05-12T05:50:02.692765Z",
     "iopub.execute_input": "2025-05-12T05:50:02.693241Z",
     "iopub.status.idle": "2025-05-12T05:50:02.734763Z",
     "shell.execute_reply.started": "2025-05-12T05:50:02.693220Z",
     "shell.execute_reply": "2025-05-12T05:50:02.734081Z"
    }
   },
   "outputs": [
    {
     "name": "stderr",
     "text": "/tmp/ipykernel_31/3277439745.py:2: FutureWarning: You are using `torch.load` with `weights_only=False` (the current default value), which uses the default pickle module implicitly. It is possible to construct malicious pickle data which will execute arbitrary code during unpickling (See https://github.com/pytorch/pytorch/blob/main/SECURITY.md#untrusted-models for more details). In a future release, the default value for `weights_only` will be flipped to `True`. This limits the functions that could be executed during unpickling. Arbitrary objects will no longer be allowed to be loaded via this mode unless they are explicitly allowlisted by the user via `torch.serialization.add_safe_globals`. We recommend you start setting `weights_only=True` for any use case where you don't have full control of the loaded file. Please open an issue on GitHub for any issues related to this experimental feature.\n  agent.load_state_dict(torch.load(\"last_state_dict.pt\"))\n",
     "output_type": "stream"
    },
    {
     "execution_count": 58,
     "output_type": "execute_result",
     "data": {
      "text/plain": "<All keys matched successfully>"
     },
     "metadata": {}
    }
   ],
   "execution_count": 58
  },
  {
   "id": "f2e96cbc",
   "cell_type": "markdown",
   "source": "Agent is evaluated for 1 life, not for a whole episode of 5 lives. Rewards in evaluation are also truncated. Cuz this is what environment the agent is learning in and in this way mean rewards per life can be compared with initial state value\n\n**The goal is to get 15 points in the real env**. So 3 or better 4 points in the preprocessed one will probably be enough. You can interrupt learning then.",
   "metadata": {
    "id": "ZEDQhQrdsoUG",
    "papermill": {
     "duration": null,
     "end_time": null,
     "exception": null,
     "start_time": null,
     "status": "pending"
    },
    "tags": []
   }
  },
  {
   "id": "21b20857",
   "cell_type": "markdown",
   "source": "Final scoring is done on a whole episode with all 5 lives.",
   "metadata": {
    "id": "s0jLjYGwsoUG",
    "papermill": {
     "duration": null,
     "end_time": null,
     "exception": null,
     "start_time": null,
     "status": "pending"
    },
    "tags": []
   }
  },
  {
   "id": "34bdbc82",
   "cell_type": "code",
   "source": "final_score = evaluate(make_final_env(), agent, n_games=30, greedy=True, t_max=10 * 1000, seed=9)\nprint(\"final score:\", final_score)\nassert final_score >= 3, \"not as cool as DQN can\"\nprint(\"Cool!\")",
   "metadata": {
    "id": "xTGVrwwQsoUG",
    "papermill": {
     "duration": null,
     "end_time": null,
     "exception": null,
     "start_time": null,
     "status": "pending"
    },
    "tags": [],
    "ExecuteTime": {
     "end_time": "2025-05-11T17:18:15.262215Z",
     "start_time": "2025-05-11T17:18:13.594560Z"
    },
    "trusted": true,
    "execution": {
     "iopub.status.busy": "2025-05-12T05:50:06.317782Z",
     "iopub.execute_input": "2025-05-12T05:50:06.318432Z",
     "iopub.status.idle": "2025-05-12T05:50:21.674846Z",
     "shell.execute_reply.started": "2025-05-12T05:50:06.318401Z",
     "shell.execute_reply": "2025-05-12T05:50:21.674076Z"
    }
   },
   "outputs": [
    {
     "name": "stdout",
     "text": "final score: 22.2\nCool!\n",
     "output_type": "stream"
    }
   ],
   "execution_count": 59
  },
  {
   "id": "7cecc777",
   "cell_type": "markdown",
   "source": "## How to interpret plots:\n\nThis aint no supervised learning so don't expect anything to improve monotonously.\n* **TD loss** is the MSE between agent's current Q-values and target Q-values. It may slowly increase or decrease, it's ok. The \"not ok\" behavior includes going NaN or stayng at exactly zero before agent has perfect performance.\n* **grad norm** just shows the intensivity of training. Not ok is growing to values of about 100 (or maybe even 50) though it depends on network architecture.\n* **mean reward** is the expected sum of r(s,a) agent gets over the full game session. It will oscillate, but on average it should get higher over time (after a few thousand iterations...).\n * In basic q-learning implementation it takes about 40k steps to \"warm up\" agent before it starts to get better.\n* **Initial state V** is the expected discounted reward for episode in the oppinion of the agent. It should behave more smoothly than **mean reward**. It should get higher over time but sometimes can experience drawdowns because of the agaent's overestimates.\n* **buffer size** - this one is simple. It should go up and cap at max size.\n* **epsilon** - agent's willingness to explore. If you see that agent's already at 0.01 epsilon before it's average reward is above 0 - it means you need to increase epsilon. Set it back to some 0.2 - 0.5 and decrease the pace at which it goes down.\n* Smoothing of plots is done with a gaussian kernel\n\nAt first your agent will lose quickly. Then it will learn to suck less and at least hit the ball a few times before it loses. Finally it will learn to actually score points.\n\n**Training will take time.** A lot of it actually. Probably you will not see any improvment during first **150k** time steps (note that by default in this notebook agent is evaluated every 5000 time steps).\n\nBut hey, long training time isn't _that_ bad:\n![img](https://github.com/yandexdataschool/Practical_RL/raw/master/yet_another_week/_resource/training.png)",
   "metadata": {
    "id": "ovaG8N4lsoUH",
    "papermill": {
     "duration": null,
     "end_time": null,
     "exception": null,
     "start_time": null,
     "status": "pending"
    },
    "tags": []
   }
  },
  {
   "id": "01571df7",
   "cell_type": "markdown",
   "source": "## About hyperparameters:\n\nThe task has something in common with supervised learning: loss is optimized through the buffer (instead of Train dataset). But the distribution of states and actions in the buffer **is not stationary** and depends on the policy it was generated by. It can even happen that the mean TD error across the buffer is very low but the performance is extremely poor (imagine the agent collecting data to the buffer always manages to avoid the ball).\n\n* Total timesteps and training time: It seems to be so huge, but actually it is normal for RL.\n\n* $\\epsilon$ decay shedule was taken from the original paper and is like traditional for epsilon-greedy policies. At the beginning of the training the agent's greedy policy is poor so many random actions should be taken.\n\n* Optimizer: In the original paper RMSProp was used (they did not have Adam in 2013) and it can work not worse than Adam. For us Adam was default and it worked.\n\n* lr: $10^{-3}$ would probably be too huge\n\n* target network update frequency: has something in common with learning rate. Too frequent updates can lead to divergence. Too rare can lead to slow leraning. For millions of total timesteps thousands of inner steps seem ok. One iteration of target network updating is an iteration of the (this time approximate) $\\gamma$-compression that stands behind Q-learning. The more inner steps it makes the more accurate is the compression.",
   "metadata": {
    "id": "kVV72AB-soUH",
    "papermill": {
     "duration": null,
     "end_time": null,
     "exception": null,
     "start_time": null,
     "status": "pending"
    },
    "tags": []
   }
  },
  {
   "id": "8e07d290",
   "cell_type": "markdown",
   "source": "### Video",
   "metadata": {
    "id": "Plp8WC_esoUH",
    "papermill": {
     "duration": null,
     "end_time": null,
     "exception": null,
     "start_time": null,
     "status": "pending"
    },
    "tags": []
   }
  },
  {
   "id": "eaa8ff21",
   "cell_type": "code",
   "source": "# record sessions\nfrom gymnasium.wrappers import RecordVideo\n\nwith (\n    make_final_env() as env,\n    RecordVideo(env=env, video_folder=\"./videos\", episode_trigger=lambda episode_number: True) as env_monitor,\n):\n    sessions = [evaluate(env_monitor, agent, n_games=n_lives, greedy=True) for _ in range(10)]",
   "metadata": {
    "id": "DdExc_AssoUH",
    "papermill": {
     "duration": null,
     "end_time": null,
     "exception": null,
     "start_time": null,
     "status": "pending"
    },
    "tags": [],
    "trusted": true,
    "execution": {
     "iopub.status.busy": "2025-05-12T05:50:29.036609Z",
     "iopub.execute_input": "2025-05-12T05:50:29.037059Z",
     "iopub.status.idle": "2025-05-12T05:51:01.889462Z",
     "shell.execute_reply.started": "2025-05-12T05:50:29.037034Z",
     "shell.execute_reply": "2025-05-12T05:51:01.888753Z"
    }
   },
   "outputs": [
    {
     "name": "stderr",
     "text": "/usr/local/lib/python3.11/dist-packages/gymnasium/core.py:297: UserWarning: \u001B[33mWARN: env.is_vector_env to get variables from other wrappers is deprecated and will be removed in v1.0, to get this variable you can do `env.unwrapped.is_vector_env` for environment variables or `env.get_attr('is_vector_env')` that will search the reminding wrappers.\u001B[0m\n  logger.warn(\n/usr/local/lib/python3.11/dist-packages/gymnasium/utils/passive_env_checker.py:335: UserWarning: \u001B[33mWARN: No render fps was declared in the environment (env.metadata['render_fps'] is None or not defined), rendering may occur at inconsistent fps.\u001B[0m\n  logger.warn(\n/usr/local/lib/python3.11/dist-packages/moviepy/config_defaults.py:1: DeprecationWarning: invalid escape sequence '\\P'\n  \"\"\"\n",
     "output_type": "stream"
    },
    {
     "name": "stdout",
     "text": "Moviepy - Building video /kaggle/working/videos/rl-video-episode-0.mp4.\nMoviepy - Writing video /kaggle/working/videos/rl-video-episode-0.mp4\n\n",
     "output_type": "stream"
    },
    {
     "name": "stderr",
     "text": "                                                                \r",
     "output_type": "stream"
    },
    {
     "name": "stdout",
     "text": "Moviepy - Done !\nMoviepy - video ready /kaggle/working/videos/rl-video-episode-0.mp4\nMoviepy - Building video /kaggle/working/videos/rl-video-episode-1.mp4.\nMoviepy - Writing video /kaggle/working/videos/rl-video-episode-1.mp4\n\n",
     "output_type": "stream"
    },
    {
     "name": "stderr",
     "text": "                                                    ",
     "output_type": "stream"
    },
    {
     "name": "stdout",
     "text": "Moviepy - Done !\nMoviepy - video ready /kaggle/working/videos/rl-video-episode-1.mp4\n",
     "output_type": "stream"
    },
    {
     "name": "stderr",
     "text": "\r",
     "output_type": "stream"
    },
    {
     "name": "stdout",
     "text": "Moviepy - Building video /kaggle/working/videos/rl-video-episode-2.mp4.\nMoviepy - Writing video /kaggle/working/videos/rl-video-episode-2.mp4\n\n",
     "output_type": "stream"
    },
    {
     "name": "stderr",
     "text": "                                                   \r",
     "output_type": "stream"
    },
    {
     "name": "stdout",
     "text": "Moviepy - Done !\nMoviepy - video ready /kaggle/working/videos/rl-video-episode-2.mp4\nMoviepy - Building video /kaggle/working/videos/rl-video-episode-3.mp4.\nMoviepy - Writing video /kaggle/working/videos/rl-video-episode-3.mp4\n\n",
     "output_type": "stream"
    },
    {
     "name": "stderr",
     "text": "                                                                \r",
     "output_type": "stream"
    },
    {
     "name": "stdout",
     "text": "Moviepy - Done !\nMoviepy - video ready /kaggle/working/videos/rl-video-episode-3.mp4\nMoviepy - Building video /kaggle/working/videos/rl-video-episode-4.mp4.\nMoviepy - Writing video /kaggle/working/videos/rl-video-episode-4.mp4\n\n",
     "output_type": "stream"
    },
    {
     "name": "stderr",
     "text": "                                                   \r",
     "output_type": "stream"
    },
    {
     "name": "stdout",
     "text": "Moviepy - Done !\nMoviepy - video ready /kaggle/working/videos/rl-video-episode-4.mp4\nMoviepy - Building video /kaggle/working/videos/rl-video-episode-5.mp4.\nMoviepy - Writing video /kaggle/working/videos/rl-video-episode-5.mp4\n\n",
     "output_type": "stream"
    },
    {
     "name": "stderr",
     "text": "                                                                \r",
     "output_type": "stream"
    },
    {
     "name": "stdout",
     "text": "Moviepy - Done !\nMoviepy - video ready /kaggle/working/videos/rl-video-episode-5.mp4\nMoviepy - Building video /kaggle/working/videos/rl-video-episode-6.mp4.\nMoviepy - Writing video /kaggle/working/videos/rl-video-episode-6.mp4\n\n",
     "output_type": "stream"
    },
    {
     "name": "stderr",
     "text": "                                                                \r",
     "output_type": "stream"
    },
    {
     "name": "stdout",
     "text": "Moviepy - Done !\nMoviepy - video ready /kaggle/working/videos/rl-video-episode-6.mp4\nMoviepy - Building video /kaggle/working/videos/rl-video-episode-7.mp4.\nMoviepy - Writing video /kaggle/working/videos/rl-video-episode-7.mp4\n\n",
     "output_type": "stream"
    },
    {
     "name": "stderr",
     "text": "                                                    ",
     "output_type": "stream"
    },
    {
     "name": "stdout",
     "text": "Moviepy - Done !\nMoviepy - video ready /kaggle/working/videos/rl-video-episode-7.mp4\n",
     "output_type": "stream"
    },
    {
     "name": "stderr",
     "text": "\r",
     "output_type": "stream"
    },
    {
     "name": "stdout",
     "text": "Moviepy - Building video /kaggle/working/videos/rl-video-episode-8.mp4.\nMoviepy - Writing video /kaggle/working/videos/rl-video-episode-8.mp4\n\n",
     "output_type": "stream"
    },
    {
     "name": "stderr",
     "text": "                                                                ",
     "output_type": "stream"
    },
    {
     "name": "stdout",
     "text": "Moviepy - Done !\nMoviepy - video ready /kaggle/working/videos/rl-video-episode-8.mp4\n",
     "output_type": "stream"
    },
    {
     "name": "stderr",
     "text": "\r",
     "output_type": "stream"
    },
    {
     "name": "stdout",
     "text": "Moviepy - Building video /kaggle/working/videos/rl-video-episode-9.mp4.\nMoviepy - Writing video /kaggle/working/videos/rl-video-episode-9.mp4\n\n",
     "output_type": "stream"
    },
    {
     "name": "stderr",
     "text": "                                                   \r",
     "output_type": "stream"
    },
    {
     "name": "stdout",
     "text": "Moviepy - Done !\nMoviepy - video ready /kaggle/working/videos/rl-video-episode-9.mp4\nMoviepy - Building video /kaggle/working/videos/rl-video-episode-10.mp4.\nMoviepy - Writing video /kaggle/working/videos/rl-video-episode-10.mp4\n\n",
     "output_type": "stream"
    },
    {
     "name": "stderr",
     "text": "                                                    ",
     "output_type": "stream"
    },
    {
     "name": "stdout",
     "text": "Moviepy - Done !\nMoviepy - video ready /kaggle/working/videos/rl-video-episode-10.mp4\n",
     "output_type": "stream"
    },
    {
     "name": "stderr",
     "text": "\r",
     "output_type": "stream"
    },
    {
     "name": "stdout",
     "text": "Moviepy - Building video /kaggle/working/videos/rl-video-episode-11.mp4.\nMoviepy - Writing video /kaggle/working/videos/rl-video-episode-11.mp4\n\n",
     "output_type": "stream"
    },
    {
     "name": "stderr",
     "text": "                                                                \r",
     "output_type": "stream"
    },
    {
     "name": "stdout",
     "text": "Moviepy - Done !\nMoviepy - video ready /kaggle/working/videos/rl-video-episode-11.mp4\nMoviepy - Building video /kaggle/working/videos/rl-video-episode-12.mp4.\nMoviepy - Writing video /kaggle/working/videos/rl-video-episode-12.mp4\n\n",
     "output_type": "stream"
    },
    {
     "name": "stderr",
     "text": "                                                    ",
     "output_type": "stream"
    },
    {
     "name": "stdout",
     "text": "Moviepy - Done !\nMoviepy - video ready /kaggle/working/videos/rl-video-episode-12.mp4\n",
     "output_type": "stream"
    },
    {
     "name": "stderr",
     "text": "\r",
     "output_type": "stream"
    },
    {
     "name": "stdout",
     "text": "Moviepy - Building video /kaggle/working/videos/rl-video-episode-13.mp4.\nMoviepy - Writing video /kaggle/working/videos/rl-video-episode-13.mp4\n\n",
     "output_type": "stream"
    },
    {
     "name": "stderr",
     "text": "                                                   \r",
     "output_type": "stream"
    },
    {
     "name": "stdout",
     "text": "Moviepy - Done !\nMoviepy - video ready /kaggle/working/videos/rl-video-episode-13.mp4\nMoviepy - Building video /kaggle/working/videos/rl-video-episode-14.mp4.\nMoviepy - Writing video /kaggle/working/videos/rl-video-episode-14.mp4\n\n",
     "output_type": "stream"
    },
    {
     "name": "stderr",
     "text": "                                                   ",
     "output_type": "stream"
    },
    {
     "name": "stdout",
     "text": "Moviepy - Done !\nMoviepy - video ready /kaggle/working/videos/rl-video-episode-14.mp4\n",
     "output_type": "stream"
    },
    {
     "name": "stderr",
     "text": "\r",
     "output_type": "stream"
    },
    {
     "name": "stdout",
     "text": "Moviepy - Building video /kaggle/working/videos/rl-video-episode-15.mp4.\nMoviepy - Writing video /kaggle/working/videos/rl-video-episode-15.mp4\n\n",
     "output_type": "stream"
    },
    {
     "name": "stderr",
     "text": "                                                                \r",
     "output_type": "stream"
    },
    {
     "name": "stdout",
     "text": "Moviepy - Done !\nMoviepy - video ready /kaggle/working/videos/rl-video-episode-15.mp4\nMoviepy - Building video /kaggle/working/videos/rl-video-episode-16.mp4.\nMoviepy - Writing video /kaggle/working/videos/rl-video-episode-16.mp4\n\n",
     "output_type": "stream"
    },
    {
     "name": "stderr",
     "text": "                                                                \r",
     "output_type": "stream"
    },
    {
     "name": "stdout",
     "text": "Moviepy - Done !\nMoviepy - video ready /kaggle/working/videos/rl-video-episode-16.mp4\nMoviepy - Building video /kaggle/working/videos/rl-video-episode-17.mp4.\nMoviepy - Writing video /kaggle/working/videos/rl-video-episode-17.mp4\n\n",
     "output_type": "stream"
    },
    {
     "name": "stderr",
     "text": "                                                    ",
     "output_type": "stream"
    },
    {
     "name": "stdout",
     "text": "Moviepy - Done !\nMoviepy - video ready /kaggle/working/videos/rl-video-episode-17.mp4\n",
     "output_type": "stream"
    },
    {
     "name": "stderr",
     "text": "\r",
     "output_type": "stream"
    },
    {
     "name": "stdout",
     "text": "Moviepy - Building video /kaggle/working/videos/rl-video-episode-18.mp4.\nMoviepy - Writing video /kaggle/working/videos/rl-video-episode-18.mp4\n\n",
     "output_type": "stream"
    },
    {
     "name": "stderr",
     "text": "                                                   \r",
     "output_type": "stream"
    },
    {
     "name": "stdout",
     "text": "Moviepy - Done !\nMoviepy - video ready /kaggle/working/videos/rl-video-episode-18.mp4\nMoviepy - Building video /kaggle/working/videos/rl-video-episode-19.mp4.\nMoviepy - Writing video /kaggle/working/videos/rl-video-episode-19.mp4\n\n",
     "output_type": "stream"
    },
    {
     "name": "stderr",
     "text": "                                                   ",
     "output_type": "stream"
    },
    {
     "name": "stdout",
     "text": "Moviepy - Done !\nMoviepy - video ready /kaggle/working/videos/rl-video-episode-19.mp4\n",
     "output_type": "stream"
    },
    {
     "name": "stderr",
     "text": "\r",
     "output_type": "stream"
    },
    {
     "name": "stdout",
     "text": "Moviepy - Building video /kaggle/working/videos/rl-video-episode-20.mp4.\nMoviepy - Writing video /kaggle/working/videos/rl-video-episode-20.mp4\n\n",
     "output_type": "stream"
    },
    {
     "name": "stderr",
     "text": "                                                                  \r",
     "output_type": "stream"
    },
    {
     "name": "stdout",
     "text": "Moviepy - Done !\nMoviepy - video ready /kaggle/working/videos/rl-video-episode-20.mp4\nMoviepy - Building video /kaggle/working/videos/rl-video-episode-21.mp4.\nMoviepy - Writing video /kaggle/working/videos/rl-video-episode-21.mp4\n\n",
     "output_type": "stream"
    },
    {
     "name": "stderr",
     "text": "                                                   \r",
     "output_type": "stream"
    },
    {
     "name": "stdout",
     "text": "Moviepy - Done !\nMoviepy - video ready /kaggle/working/videos/rl-video-episode-21.mp4\nMoviepy - Building video /kaggle/working/videos/rl-video-episode-22.mp4.\nMoviepy - Writing video /kaggle/working/videos/rl-video-episode-22.mp4\n\n",
     "output_type": "stream"
    },
    {
     "name": "stderr",
     "text": "                                                   \r",
     "output_type": "stream"
    },
    {
     "name": "stdout",
     "text": "Moviepy - Done !\nMoviepy - video ready /kaggle/working/videos/rl-video-episode-22.mp4\nMoviepy - Building video /kaggle/working/videos/rl-video-episode-23.mp4.\nMoviepy - Writing video /kaggle/working/videos/rl-video-episode-23.mp4\n\n",
     "output_type": "stream"
    },
    {
     "name": "stderr",
     "text": "                                                   \r",
     "output_type": "stream"
    },
    {
     "name": "stdout",
     "text": "Moviepy - Done !\nMoviepy - video ready /kaggle/working/videos/rl-video-episode-23.mp4\nMoviepy - Building video /kaggle/working/videos/rl-video-episode-24.mp4.\nMoviepy - Writing video /kaggle/working/videos/rl-video-episode-24.mp4\n\n",
     "output_type": "stream"
    },
    {
     "name": "stderr",
     "text": "                                                   \r",
     "output_type": "stream"
    },
    {
     "name": "stdout",
     "text": "Moviepy - Done !\nMoviepy - video ready /kaggle/working/videos/rl-video-episode-24.mp4\nMoviepy - Building video /kaggle/working/videos/rl-video-episode-25.mp4.\nMoviepy - Writing video /kaggle/working/videos/rl-video-episode-25.mp4\n\n",
     "output_type": "stream"
    },
    {
     "name": "stderr",
     "text": "                                                                \r",
     "output_type": "stream"
    },
    {
     "name": "stdout",
     "text": "Moviepy - Done !\nMoviepy - video ready /kaggle/working/videos/rl-video-episode-25.mp4\nMoviepy - Building video /kaggle/working/videos/rl-video-episode-26.mp4.\nMoviepy - Writing video /kaggle/working/videos/rl-video-episode-26.mp4\n\n",
     "output_type": "stream"
    },
    {
     "name": "stderr",
     "text": "                                                   \r",
     "output_type": "stream"
    },
    {
     "name": "stdout",
     "text": "Moviepy - Done !\nMoviepy - video ready /kaggle/working/videos/rl-video-episode-26.mp4\nMoviepy - Building video /kaggle/working/videos/rl-video-episode-27.mp4.\nMoviepy - Writing video /kaggle/working/videos/rl-video-episode-27.mp4\n\n",
     "output_type": "stream"
    },
    {
     "name": "stderr",
     "text": "                                                    ",
     "output_type": "stream"
    },
    {
     "name": "stdout",
     "text": "Moviepy - Done !\nMoviepy - video ready /kaggle/working/videos/rl-video-episode-27.mp4\n",
     "output_type": "stream"
    },
    {
     "name": "stderr",
     "text": "\r",
     "output_type": "stream"
    },
    {
     "name": "stdout",
     "text": "Moviepy - Building video /kaggle/working/videos/rl-video-episode-28.mp4.\nMoviepy - Writing video /kaggle/working/videos/rl-video-episode-28.mp4\n\n",
     "output_type": "stream"
    },
    {
     "name": "stderr",
     "text": "                                                                ",
     "output_type": "stream"
    },
    {
     "name": "stdout",
     "text": "Moviepy - Done !\nMoviepy - video ready /kaggle/working/videos/rl-video-episode-28.mp4\n",
     "output_type": "stream"
    },
    {
     "name": "stderr",
     "text": "\r",
     "output_type": "stream"
    },
    {
     "name": "stdout",
     "text": "Moviepy - Building video /kaggle/working/videos/rl-video-episode-29.mp4.\nMoviepy - Writing video /kaggle/working/videos/rl-video-episode-29.mp4\n\n",
     "output_type": "stream"
    },
    {
     "name": "stderr",
     "text": "                                                                ",
     "output_type": "stream"
    },
    {
     "name": "stdout",
     "text": "Moviepy - Done !\nMoviepy - video ready /kaggle/working/videos/rl-video-episode-29.mp4\n",
     "output_type": "stream"
    },
    {
     "name": "stderr",
     "text": "\r",
     "output_type": "stream"
    },
    {
     "name": "stdout",
     "text": "Moviepy - Building video /kaggle/working/videos/rl-video-episode-30.mp4.\nMoviepy - Writing video /kaggle/working/videos/rl-video-episode-30.mp4\n\n",
     "output_type": "stream"
    },
    {
     "name": "stderr",
     "text": "                                                                \r",
     "output_type": "stream"
    },
    {
     "name": "stdout",
     "text": "Moviepy - Done !\nMoviepy - video ready /kaggle/working/videos/rl-video-episode-30.mp4\nMoviepy - Building video /kaggle/working/videos/rl-video-episode-31.mp4.\nMoviepy - Writing video /kaggle/working/videos/rl-video-episode-31.mp4\n\n",
     "output_type": "stream"
    },
    {
     "name": "stderr",
     "text": "                                                   \r",
     "output_type": "stream"
    },
    {
     "name": "stdout",
     "text": "Moviepy - Done !\nMoviepy - video ready /kaggle/working/videos/rl-video-episode-31.mp4\nMoviepy - Building video /kaggle/working/videos/rl-video-episode-32.mp4.\nMoviepy - Writing video /kaggle/working/videos/rl-video-episode-32.mp4\n\n",
     "output_type": "stream"
    },
    {
     "name": "stderr",
     "text": "                                                   \r",
     "output_type": "stream"
    },
    {
     "name": "stdout",
     "text": "Moviepy - Done !\nMoviepy - video ready /kaggle/working/videos/rl-video-episode-32.mp4\nMoviepy - Building video /kaggle/working/videos/rl-video-episode-33.mp4.\nMoviepy - Writing video /kaggle/working/videos/rl-video-episode-33.mp4\n\n",
     "output_type": "stream"
    },
    {
     "name": "stderr",
     "text": "                                                   \r",
     "output_type": "stream"
    },
    {
     "name": "stdout",
     "text": "Moviepy - Done !\nMoviepy - video ready /kaggle/working/videos/rl-video-episode-33.mp4\nMoviepy - Building video /kaggle/working/videos/rl-video-episode-34.mp4.\nMoviepy - Writing video /kaggle/working/videos/rl-video-episode-34.mp4\n\n",
     "output_type": "stream"
    },
    {
     "name": "stderr",
     "text": "                                                   \r",
     "output_type": "stream"
    },
    {
     "name": "stdout",
     "text": "Moviepy - Done !\nMoviepy - video ready /kaggle/working/videos/rl-video-episode-34.mp4\nMoviepy - Building video /kaggle/working/videos/rl-video-episode-35.mp4.\nMoviepy - Writing video /kaggle/working/videos/rl-video-episode-35.mp4\n\n",
     "output_type": "stream"
    },
    {
     "name": "stderr",
     "text": "                                                                \r",
     "output_type": "stream"
    },
    {
     "name": "stdout",
     "text": "Moviepy - Done !\nMoviepy - video ready /kaggle/working/videos/rl-video-episode-35.mp4\nMoviepy - Building video /kaggle/working/videos/rl-video-episode-36.mp4.\nMoviepy - Writing video /kaggle/working/videos/rl-video-episode-36.mp4\n\n",
     "output_type": "stream"
    },
    {
     "name": "stderr",
     "text": "                                                    ",
     "output_type": "stream"
    },
    {
     "name": "stdout",
     "text": "Moviepy - Done !\nMoviepy - video ready /kaggle/working/videos/rl-video-episode-36.mp4\n",
     "output_type": "stream"
    },
    {
     "name": "stderr",
     "text": "\r",
     "output_type": "stream"
    },
    {
     "name": "stdout",
     "text": "Moviepy - Building video /kaggle/working/videos/rl-video-episode-37.mp4.\nMoviepy - Writing video /kaggle/working/videos/rl-video-episode-37.mp4\n\n",
     "output_type": "stream"
    },
    {
     "name": "stderr",
     "text": "                                                                ",
     "output_type": "stream"
    },
    {
     "name": "stdout",
     "text": "Moviepy - Done !\nMoviepy - video ready /kaggle/working/videos/rl-video-episode-37.mp4\n",
     "output_type": "stream"
    },
    {
     "name": "stderr",
     "text": "\r",
     "output_type": "stream"
    },
    {
     "name": "stdout",
     "text": "Moviepy - Building video /kaggle/working/videos/rl-video-episode-38.mp4.\nMoviepy - Writing video /kaggle/working/videos/rl-video-episode-38.mp4\n\n",
     "output_type": "stream"
    },
    {
     "name": "stderr",
     "text": "                                                   ",
     "output_type": "stream"
    },
    {
     "name": "stdout",
     "text": "Moviepy - Done !\nMoviepy - video ready /kaggle/working/videos/rl-video-episode-38.mp4\n",
     "output_type": "stream"
    },
    {
     "name": "stderr",
     "text": "\r",
     "output_type": "stream"
    },
    {
     "name": "stdout",
     "text": "Moviepy - Building video /kaggle/working/videos/rl-video-episode-39.mp4.\nMoviepy - Writing video /kaggle/working/videos/rl-video-episode-39.mp4\n\n",
     "output_type": "stream"
    },
    {
     "name": "stderr",
     "text": "                                                                ",
     "output_type": "stream"
    },
    {
     "name": "stdout",
     "text": "Moviepy - Done !\nMoviepy - video ready /kaggle/working/videos/rl-video-episode-39.mp4\n",
     "output_type": "stream"
    },
    {
     "name": "stderr",
     "text": "\r",
     "output_type": "stream"
    },
    {
     "name": "stdout",
     "text": "Moviepy - Building video /kaggle/working/videos/rl-video-episode-40.mp4.\nMoviepy - Writing video /kaggle/working/videos/rl-video-episode-40.mp4\n\n",
     "output_type": "stream"
    },
    {
     "name": "stderr",
     "text": "                                                                \r",
     "output_type": "stream"
    },
    {
     "name": "stdout",
     "text": "Moviepy - Done !\nMoviepy - video ready /kaggle/working/videos/rl-video-episode-40.mp4\nMoviepy - Building video /kaggle/working/videos/rl-video-episode-41.mp4.\nMoviepy - Writing video /kaggle/working/videos/rl-video-episode-41.mp4\n\n",
     "output_type": "stream"
    },
    {
     "name": "stderr",
     "text": "                                                                \r",
     "output_type": "stream"
    },
    {
     "name": "stdout",
     "text": "Moviepy - Done !\nMoviepy - video ready /kaggle/working/videos/rl-video-episode-41.mp4\nMoviepy - Building video /kaggle/working/videos/rl-video-episode-42.mp4.\nMoviepy - Writing video /kaggle/working/videos/rl-video-episode-42.mp4\n\n",
     "output_type": "stream"
    },
    {
     "name": "stderr",
     "text": "                                                    \r",
     "output_type": "stream"
    },
    {
     "name": "stdout",
     "text": "Moviepy - Done !\nMoviepy - video ready /kaggle/working/videos/rl-video-episode-42.mp4\nMoviepy - Building video /kaggle/working/videos/rl-video-episode-43.mp4.\nMoviepy - Writing video /kaggle/working/videos/rl-video-episode-43.mp4\n\n",
     "output_type": "stream"
    },
    {
     "name": "stderr",
     "text": "                                                                \r",
     "output_type": "stream"
    },
    {
     "name": "stdout",
     "text": "Moviepy - Done !\nMoviepy - video ready /kaggle/working/videos/rl-video-episode-43.mp4\nMoviepy - Building video /kaggle/working/videos/rl-video-episode-44.mp4.\nMoviepy - Writing video /kaggle/working/videos/rl-video-episode-44.mp4\n\n",
     "output_type": "stream"
    },
    {
     "name": "stderr",
     "text": "                                                   \r",
     "output_type": "stream"
    },
    {
     "name": "stdout",
     "text": "Moviepy - Done !\nMoviepy - video ready /kaggle/working/videos/rl-video-episode-44.mp4\nMoviepy - Building video /kaggle/working/videos/rl-video-episode-45.mp4.\nMoviepy - Writing video /kaggle/working/videos/rl-video-episode-45.mp4\n\n",
     "output_type": "stream"
    },
    {
     "name": "stderr",
     "text": "                                                                \r",
     "output_type": "stream"
    },
    {
     "name": "stdout",
     "text": "Moviepy - Done !\nMoviepy - video ready /kaggle/working/videos/rl-video-episode-45.mp4\nMoviepy - Building video /kaggle/working/videos/rl-video-episode-46.mp4.\nMoviepy - Writing video /kaggle/working/videos/rl-video-episode-46.mp4\n\n",
     "output_type": "stream"
    },
    {
     "name": "stderr",
     "text": "                                                    ",
     "output_type": "stream"
    },
    {
     "name": "stdout",
     "text": "Moviepy - Done !\nMoviepy - video ready /kaggle/working/videos/rl-video-episode-46.mp4\n",
     "output_type": "stream"
    },
    {
     "name": "stderr",
     "text": "\r",
     "output_type": "stream"
    },
    {
     "name": "stdout",
     "text": "Moviepy - Building video /kaggle/working/videos/rl-video-episode-47.mp4.\nMoviepy - Writing video /kaggle/working/videos/rl-video-episode-47.mp4\n\n",
     "output_type": "stream"
    },
    {
     "name": "stderr",
     "text": "                                                                \r",
     "output_type": "stream"
    },
    {
     "name": "stdout",
     "text": "Moviepy - Done !\nMoviepy - video ready /kaggle/working/videos/rl-video-episode-47.mp4\nMoviepy - Building video /kaggle/working/videos/rl-video-episode-48.mp4.\nMoviepy - Writing video /kaggle/working/videos/rl-video-episode-48.mp4\n\n",
     "output_type": "stream"
    },
    {
     "name": "stderr",
     "text": "                                                   \r",
     "output_type": "stream"
    },
    {
     "name": "stdout",
     "text": "Moviepy - Done !\nMoviepy - video ready /kaggle/working/videos/rl-video-episode-48.mp4\nMoviepy - Building video /kaggle/working/videos/rl-video-episode-49.mp4.\nMoviepy - Writing video /kaggle/working/videos/rl-video-episode-49.mp4\n\n",
     "output_type": "stream"
    },
    {
     "name": "stderr",
     "text": "                                                    ",
     "output_type": "stream"
    },
    {
     "name": "stdout",
     "text": "Moviepy - Done !\nMoviepy - video ready /kaggle/working/videos/rl-video-episode-49.mp4\n",
     "output_type": "stream"
    },
    {
     "name": "stderr",
     "text": "\r",
     "output_type": "stream"
    }
   ],
   "execution_count": 60
  },
  {
   "id": "db7b6d37",
   "cell_type": "code",
   "source": [
    "# Show video. This may not work in some setups. If it doesn't\n",
    "# work for you, you can download the videos and view them locally.\n",
    "\n",
    "from base64 import b64encode\n",
    "from pathlib import Path\n",
    "\n",
    "from IPython.display import HTML\n",
    "\n",
    "# video_paths = sorted([s for s in Path(\"videos\").iterdir() if s.suffix == \".mp4\"]) comment for GitHub\n",
    "video_path = 'rl-video-episode-47.mp4'  # You can also try other indices\n",
    "\n",
    "if \"google.colab\" in sys.modules:\n",
    "    # https://stackoverflow.com/a/57378660/1214547\n",
    "    with video_path.open(\"rb\") as fp:\n",
    "        mp4 = fp.read()\n",
    "    data_url = \"data:video/mp4;base64,\" + b64encode(mp4).decode()\n",
    "else:\n",
    "    data_url = str(video_path)\n",
    "\n",
    "HTML(\n",
    "    \"\"\"\n",
    "<video width=\"640\" height=\"480\" controls>\n",
    "  <source src=\"{}\" type=\"video/mp4\">\n",
    "</video>\n",
    "\"\"\".format(\n",
    "        data_url\n",
    "    )\n",
    ")"
   ],
   "metadata": {
    "id": "lt6xg1n_soUH",
    "papermill": {
     "duration": null,
     "end_time": null,
     "exception": null,
     "start_time": null,
     "status": "pending"
    },
    "tags": [],
    "trusted": true,
    "execution": {
     "iopub.status.busy": "2025-05-12T05:51:01.890795Z",
     "iopub.execute_input": "2025-05-12T05:51:01.891004Z",
     "iopub.status.idle": "2025-05-12T05:51:01.898601Z",
     "shell.execute_reply.started": "2025-05-12T05:51:01.890987Z",
     "shell.execute_reply": "2025-05-12T05:51:01.897959Z"
    },
    "ExecuteTime": {
     "end_time": "2025-07-23T11:34:15.357827Z",
     "start_time": "2025-07-23T11:34:15.353640Z"
    }
   },
   "outputs": [
    {
     "data": {
      "text/plain": [
       "<IPython.core.display.HTML object>"
      ],
      "text/html": [
       "\n",
       "<video width=\"640\" height=\"480\" controls>\n",
       "  <source src=\"rl-video-episode-47.mp4\" type=\"video/mp4\">\n",
       "</video>\n"
      ]
     },
     "execution_count": 3,
     "metadata": {},
     "output_type": "execute_result"
    }
   ],
   "execution_count": 3
  },
  {
   "id": "acd9dbb2",
   "cell_type": "markdown",
   "source": "## Let's have a closer look at this. Interpretation (2 pts).\n\nLet's play 5 episodes (note that the game has 5 lives) and log some stats:",
   "metadata": {
    "id": "fLPx2aI7soUH",
    "papermill": {
     "duration": null,
     "end_time": null,
     "exception": null,
     "start_time": null,
     "status": "pending"
    },
    "tags": []
   }
  },
  {
   "id": "74a133a0",
   "cell_type": "code",
   "source": "from dqn.analysis import play_and_log_episode\n\nenv = make_final_env()\nstats = play_and_log_episode(env, agent)\n\nprint(\"Keys:\", list(stats.keys()))\nprint(\"Shapes:\")\nfor key in [\"states\", \"qvalues\", \"actions\", \"rewards\"]:\n    print(f\"{key}: {stats[key].shape}\")\nprint(\"terminated:\", stats[\"episode_finished\"])",
   "metadata": {
    "id": "djggHWvVargn",
    "papermill": {
     "duration": null,
     "end_time": null,
     "exception": null,
     "start_time": null,
     "status": "pending"
    },
    "tags": [],
    "trusted": true,
    "execution": {
     "iopub.status.busy": "2025-05-12T05:51:15.526921Z",
     "iopub.execute_input": "2025-05-12T05:51:15.527201Z",
     "iopub.status.idle": "2025-05-12T05:51:16.261772Z",
     "shell.execute_reply.started": "2025-05-12T05:51:15.527181Z",
     "shell.execute_reply": "2025-05-12T05:51:16.261017Z"
    }
   },
   "outputs": [
    {
     "name": "stdout",
     "text": "Keys: ['states', 'qvalues', 'actions', 'rewards', 'episode_finished']\nShapes:\nstates: (323, 4, 84, 84)\nqvalues: (322, 4)\nactions: (322,)\nrewards: (322,)\nterminated: True\n",
     "output_type": "stream"
    }
   ],
   "execution_count": 62
  },
  {
   "id": "909e96c8",
   "cell_type": "markdown",
   "source": "Let's plot rewards:",
   "metadata": {
    "id": "Fth4kK9iargn",
    "papermill": {
     "duration": null,
     "end_time": null,
     "exception": null,
     "start_time": null,
     "status": "pending"
    },
    "tags": []
   }
  },
  {
   "id": "118a6406",
   "cell_type": "code",
   "source": "plt.plot(stats[\"rewards\"])\nplt.grid()\nplt.show()",
   "metadata": {
    "id": "R89_0C4Xargn",
    "papermill": {
     "duration": null,
     "end_time": null,
     "exception": null,
     "start_time": null,
     "status": "pending"
    },
    "tags": [],
    "trusted": true,
    "execution": {
     "iopub.status.busy": "2025-05-12T05:51:19.426666Z",
     "iopub.execute_input": "2025-05-12T05:51:19.427234Z",
     "iopub.status.idle": "2025-05-12T05:51:19.544950Z",
     "shell.execute_reply.started": "2025-05-12T05:51:19.427211Z",
     "shell.execute_reply": "2025-05-12T05:51:19.544255Z"
    }
   },
   "outputs": [
    {
     "output_type": "display_data",
     "data": {
      "text/plain": "<Figure size 640x480 with 1 Axes>",
      "image/png": "[encoded data removed]"
     },
     "metadata": {}
    }
   ],
   "execution_count": 63
  },
  {
   "id": "c881cccd",
   "cell_type": "markdown",
   "source": "Your task it to evaluate the following quantities from the logs:\n1. Discounted returns: $G[t] = \\sum_{t'=t}^T \\gamma ^ {t' - t}r[t]$, where $T$ is the total time of an episode.\n2. State Values estimated by the agent: $V_{agent}[t] = \\max_{a}Q_{agent}(s[t], a)$.\n3. Q-spread: $\\Delta Q[t] = \\max_{a}Q_{agent}(s[t], a) - \\min_{a}Q_{agent}(s[t], a)$\n\nCreate a new env: `env = make_final_env()`, play for 5 episodes (a full game has 5 lives, so it will be 1 full game).  \nPlot rewards and the evaluated quantites for each of them.  \nUsing the plots, can you find points where the ball hits the wall?  \nWhere the ball hits the platform?  \nProbably, you won't need all the quantities for that, but it's still good to check the behavior of a model.\n\nThe `merge_frame_stack_to_plot` function may be useful.",
   "metadata": {
    "id": "PxucSeTTargo",
    "papermill": {
     "duration": null,
     "end_time": null,
     "exception": null,
     "start_time": null,
     "status": "pending"
    },
    "tags": []
   }
  },
  {
   "id": "8b122086",
   "cell_type": "code",
   "source": "def get_discounted_returns(rewards: \"Reversible[float]\", gamma: float) -> list[float]:\n    \"\"\"\n    Calculates G[t] for each t, given rewards and gamma.\n\n    Tip: Iterate backwards through rewards and use the following relationship:\n    G[t] = r[t] + gamma * G[t + 1]\n    \"\"\"\n    returns_reverse: list[float] = []\n    last_return: float = 0\n    for r in reversed(rewards):\n        last_return = r + gamma * last_return\n        returns_reverse.append(last_return)\n    returns = list(reversed(returns_reverse))\n    return returns\n\nenv = make_final_env()  # нужно, чтобы обнулять только когда lives==0\nstats = play_and_log_episode(env, agent)\n\nrewards = stats[\"rewards\"]\nqvalues = stats[\"qvalues\"]\nactions = stats[\"actions\"]              \nstates  = stats[\"states\"]\n\nT = len(rewards)\ngamma = 0.99\n\ndiscounted_returns = get_discounted_returns(rewards, gamma)         # list length T\nstate_values      = qvalues.max(axis=1)                             # np array length T\nq_spread          = qvalues.max(axis=1) - qvalues.min(axis=1)       # np array length T\n\nt = np.arange(T)\nfig, axes = plt.subplots(4, 1, figsize=(12, 10), sharex=True)\n\naxes[0].plot(t, rewards, label=\"r[t]\")\naxes[0].set_ylabel(\"Reward\")\naxes[0].grid(True)\n\naxes[1].plot(t, discounted_returns, label=\"G[t]\")\naxes[1].set_ylabel(\"Discounted return G[t]\")\naxes[1].grid(True)\n\naxes[2].plot(t, state_values, label=\"V_agent[t]\")\naxes[2].set_ylabel(\"State value V[t]\")\naxes[2].grid(True)\n\naxes[3].plot(t, q_spread, label=\"ΔQ[t]\")\naxes[3].set_ylabel(\"Q-spread ΔQ[t]\")\naxes[3].set_xlabel(\"Time step t\")\naxes[3].grid(True)\n\nplt.tight_layout()\nplt.show()\n\nthreshold = np.percentile(q_spread, 95)\ncollision_indices = np.where(q_spread > threshold)[0]\n\nfor idx in collision_indices[:5]:  # покажем первые 5 моментов\n    frame = merge_frame_stack_to_plot(states[idx])\n    plt.figure(figsize=(3,3))\n    plt.title(f\"Step {idx}, ΔQ={q_spread[idx]:.2f}\")\n    plt.imshow(frame, cmap=\"gray\")\n    plt.axis(\"off\")\n    plt.show()",
   "metadata": {
    "id": "VWsfGGxSargo",
    "papermill": {
     "duration": null,
     "end_time": null,
     "exception": null,
     "start_time": null,
     "status": "pending"
    },
    "tags": [],
    "trusted": true,
    "execution": {
     "iopub.status.busy": "2025-05-12T06:17:16.324053Z",
     "iopub.execute_input": "2025-05-12T06:17:16.324930Z",
     "iopub.status.idle": "2025-05-12T06:17:18.767627Z",
     "shell.execute_reply.started": "2025-05-12T06:17:16.324906Z",
     "shell.execute_reply": "2025-05-12T06:17:18.766788Z"
    }
   },
   "outputs": [
    {
     "output_type": "display_data",
     "data": {
      "text/plain": "<Figure size 1200x1000 with 4 Axes>",
      "image/png": "[encoded data removed]"
     },
     "metadata": {}
    },
    {
     "output_type": "display_data",
     "data": {
      "text/plain": "<Figure size 300x300 with 1 Axes>",
      "image/png": "[encoded data removed]"
     },
     "metadata": {}
    },
    {
     "output_type": "display_data",
     "data": {
      "text/plain": "<Figure size 300x300 with 1 Axes>",
      "image/png": "[encoded data removed]"
     },
     "metadata": {}
    },
    {
     "output_type": "display_data",
     "data": {
      "text/plain": "<Figure size 300x300 with 1 Axes>",
      "image/png": "[encoded data removed]"
     },
     "metadata": {}
    },
    {
     "output_type": "display_data",
     "data": {
      "text/plain": "<Figure size 300x300 with 1 Axes>",
      "image/png": "[encoded data removed]"
     },
     "metadata": {}
    },
    {
     "output_type": "display_data",
     "data": {
      "text/plain": "<Figure size 300x300 with 1 Axes>",
      "image/png": "[encoded data removed]"
     },
     "metadata": {}
    }
   ],
   "execution_count": 74
  },
  {
   "id": "e2658319",
   "cell_type": "markdown",
   "source": "## Bonus I (2 pts). Get High Score!\n\nGet mean reward per life:\n1. $\\geq 20$: +1 pt\n2. $\\geq 40$: +2 pts",
   "metadata": {
    "id": "e36bU0u8soUH",
    "papermill": {
     "duration": null,
     "end_time": null,
     "exception": null,
     "start_time": null,
     "status": "pending"
    },
    "tags": []
   }
  },
  {
   "id": "ffea4dd4",
   "cell_type": "markdown",
   "source": "## Bonus II (2+ pts). Apply modifications to DQN.\n\n* [Prioritized experience replay](https://arxiv.org/abs/1511.05952) (2 pts, please check for effective open-source implementations)\n* [Noisy Nets](https://arxiv.org/abs/1706.10295) (2 pts, please, pay attention to the exploration policy and whether epsilon-greedy policy is used)\n* [distributional RL](https://arxiv.org/abs/1707.06887)(distributional and distributed stand for different things here) (3 pts)\n* Other modifications (2+ pts depending on complexity)",
   "metadata": {
    "id": "78e4nRoSsoUH",
    "papermill": {
     "duration": null,
     "end_time": null,
     "exception": null,
     "start_time": null,
     "status": "pending"
    },
    "tags": []
   }
  },
  {
   "id": "289114a5",
   "cell_type": "markdown",
   "source": "## Bonus III (2 pts). Distributed RL.\n\nhttps://gymnasium.farama.org/api/vector/#gymnasium.vector.AsyncVectorEnv",
   "metadata": {
    "id": "j_3RXboysoUH",
    "papermill": {
     "duration": null,
     "end_time": null,
     "exception": null,
     "start_time": null,
     "status": "pending"
    },
    "tags": []
   }
  },
  {
   "id": "5133d8c8",
   "cell_type": "code",
   "source": "",
   "metadata": {
    "id": "f9X5aB56soUI",
    "papermill": {
     "duration": null,
     "end_time": null,
     "exception": null,
     "start_time": null,
     "status": "pending"
    },
    "tags": [],
    "trusted": true
   },
   "outputs": [],
   "execution_count": null
  }
 ]
}
